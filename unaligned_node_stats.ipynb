{
 "cells": [
  {
   "cell_type": "code",
   "execution_count": 1,
   "metadata": {
    "collapsed": true
   },
   "outputs": [],
   "source": [
    "import TrainingDataExtractor"
   ]
  },
  {
   "cell_type": "code",
   "execution_count": 2,
   "metadata": {
    "collapsed": false
   },
   "outputs": [
    {
     "name": "stderr",
     "output_type": "stream",
     "text": [
      "\r  0%|          | 0/6603 [00:00<?, ?it/s]"
     ]
    },
    {
     "name": "stderr",
     "output_type": "stream",
     "text": [
      "\r  1%|          | 58/6603 [00:00<00:11, 572.91it/s]"
     ]
    },
    {
     "name": "stderr",
     "output_type": "stream",
     "text": [
      "\r  2%|▏         | 102/6603 [00:00<00:12, 522.76it/s]"
     ]
    },
    {
     "name": "stderr",
     "output_type": "stream",
     "text": [
      "\r  2%|▏         | 152/6603 [00:00<00:12, 515.56it/s]"
     ]
    },
    {
     "name": "stderr",
     "output_type": "stream",
     "text": [
      "\r  3%|▎         | 197/6603 [00:00<00:12, 493.95it/s]"
     ]
    },
    {
     "name": "stderr",
     "output_type": "stream",
     "text": [
      "\r  4%|▍         | 251/6603 [00:00<00:12, 506.62it/s]"
     ]
    },
    {
     "name": "stderr",
     "output_type": "stream",
     "text": [
      "\r  4%|▍         | 296/6603 [00:00<00:12, 487.92it/s]"
     ]
    },
    {
     "name": "stderr",
     "output_type": "stream",
     "text": [
      "\r  5%|▌         | 339/6603 [00:00<00:13, 468.49it/s]"
     ]
    },
    {
     "name": "stderr",
     "output_type": "stream",
     "text": [
      "\r  6%|▋         | 416/6603 [00:00<00:11, 527.02it/s]"
     ]
    },
    {
     "name": "stderr",
     "output_type": "stream",
     "text": [
      "\r  7%|▋         | 469/6603 [00:00<00:11, 521.73it/s]"
     ]
    },
    {
     "name": "stderr",
     "output_type": "stream",
     "text": [
      "\r  8%|▊         | 521/6603 [00:01<00:12, 500.75it/s]"
     ]
    },
    {
     "name": "stderr",
     "output_type": "stream",
     "text": [
      "\r  9%|▊         | 574/6603 [00:01<00:11, 507.30it/s]"
     ]
    },
    {
     "name": "stderr",
     "output_type": "stream",
     "text": [
      "\r  9%|▉         | 625/6603 [00:01<00:11, 499.73it/s]"
     ]
    },
    {
     "name": "stderr",
     "output_type": "stream",
     "text": [
      "\r 10%|█         | 675/6603 [00:01<00:12, 474.49it/s]"
     ]
    },
    {
     "name": "stderr",
     "output_type": "stream",
     "text": [
      "\r 11%|█         | 723/6603 [00:01<00:12, 470.41it/s]"
     ]
    },
    {
     "name": "stderr",
     "output_type": "stream",
     "text": [
      "\r 12%|█▏        | 771/6603 [00:01<00:13, 442.99it/s]"
     ]
    },
    {
     "name": "stderr",
     "output_type": "stream",
     "text": [
      "\r 12%|█▏        | 816/6603 [00:01<00:13, 426.83it/s]"
     ]
    },
    {
     "name": "stderr",
     "output_type": "stream",
     "text": [
      "\r 13%|█▎        | 860/6603 [00:01<00:13, 417.99it/s]"
     ]
    },
    {
     "name": "stderr",
     "output_type": "stream",
     "text": [
      "\r 14%|█▎        | 903/6603 [00:01<00:15, 377.78it/s]"
     ]
    },
    {
     "name": "stderr",
     "output_type": "stream",
     "text": [
      "\r 14%|█▍        | 942/6603 [00:02<00:15, 371.31it/s]"
     ]
    },
    {
     "name": "stderr",
     "output_type": "stream",
     "text": [
      "\r 15%|█▍        | 981/6603 [00:02<00:14, 374.91it/s]"
     ]
    },
    {
     "name": "stderr",
     "output_type": "stream",
     "text": [
      "\r 15%|█▌        | 1020/6603 [00:02<00:15, 361.09it/s]"
     ]
    },
    {
     "name": "stderr",
     "output_type": "stream",
     "text": [
      "\r 16%|█▌        | 1060/6603 [00:02<00:15, 369.29it/s]"
     ]
    },
    {
     "name": "stderr",
     "output_type": "stream",
     "text": [
      "\r 17%|█▋        | 1098/6603 [00:02<00:15, 364.33it/s]"
     ]
    },
    {
     "name": "stderr",
     "output_type": "stream",
     "text": [
      "\r 17%|█▋        | 1143/6603 [00:02<00:14, 385.37it/s]"
     ]
    },
    {
     "name": "stderr",
     "output_type": "stream",
     "text": [
      "\r 18%|█▊        | 1185/6603 [00:02<00:13, 394.42it/s]"
     ]
    },
    {
     "name": "stderr",
     "output_type": "stream",
     "text": [
      "\r 19%|█▊        | 1227/6603 [00:02<00:13, 401.60it/s]"
     ]
    },
    {
     "name": "stderr",
     "output_type": "stream",
     "text": [
      "\r 19%|█▉        | 1271/6603 [00:02<00:12, 410.33it/s]"
     ]
    },
    {
     "name": "stderr",
     "output_type": "stream",
     "text": [
      "\r 20%|█▉        | 1320/6603 [00:02<00:12, 427.70it/s]"
     ]
    },
    {
     "name": "stderr",
     "output_type": "stream",
     "text": [
      "\r 21%|██        | 1365/6603 [00:03<00:12, 431.42it/s]"
     ]
    },
    {
     "name": "stderr",
     "output_type": "stream",
     "text": [
      "\r 21%|██▏       | 1409/6603 [00:03<00:13, 391.94it/s]"
     ]
    },
    {
     "name": "stderr",
     "output_type": "stream",
     "text": [
      "\r 22%|██▏       | 1450/6603 [00:03<00:14, 368.01it/s]"
     ]
    },
    {
     "name": "stderr",
     "output_type": "stream",
     "text": [
      "\r 23%|██▎       | 1488/6603 [00:03<00:17, 292.62it/s]"
     ]
    },
    {
     "name": "stderr",
     "output_type": "stream",
     "text": [
      "\r 23%|██▎       | 1537/6603 [00:03<00:15, 331.47it/s]"
     ]
    },
    {
     "name": "stderr",
     "output_type": "stream",
     "text": [
      "\r 24%|██▍       | 1585/6603 [00:03<00:13, 361.74it/s]"
     ]
    },
    {
     "name": "stderr",
     "output_type": "stream",
     "text": [
      "\r 25%|██▍       | 1625/6603 [00:03<00:14, 346.36it/s]"
     ]
    },
    {
     "name": "stderr",
     "output_type": "stream",
     "text": [
      "\r 25%|██▌       | 1663/6603 [00:03<00:14, 339.77it/s]"
     ]
    },
    {
     "name": "stderr",
     "output_type": "stream",
     "text": [
      "\r 26%|██▌       | 1705/6603 [00:04<00:13, 357.37it/s]"
     ]
    },
    {
     "name": "stderr",
     "output_type": "stream",
     "text": [
      "\r 26%|██▋       | 1746/6603 [00:04<00:13, 371.22it/s]"
     ]
    },
    {
     "name": "stderr",
     "output_type": "stream",
     "text": [
      "\r 27%|██▋       | 1785/6603 [00:04<00:13, 358.25it/s]"
     ]
    },
    {
     "name": "stderr",
     "output_type": "stream",
     "text": [
      "\r 28%|██▊       | 1822/6603 [00:04<00:13, 348.29it/s]"
     ]
    },
    {
     "name": "stderr",
     "output_type": "stream",
     "text": [
      "\r 28%|██▊       | 1858/6603 [00:04<00:14, 329.46it/s]"
     ]
    },
    {
     "name": "stderr",
     "output_type": "stream",
     "text": [
      "\r 29%|██▊       | 1892/6603 [00:04<00:14, 314.85it/s]"
     ]
    },
    {
     "name": "stderr",
     "output_type": "stream",
     "text": [
      "\r 29%|██▉       | 1927/6603 [00:04<00:14, 323.85it/s]"
     ]
    },
    {
     "name": "stderr",
     "output_type": "stream",
     "text": [
      "\r 30%|███       | 1993/6603 [00:04<00:12, 381.25it/s]"
     ]
    },
    {
     "name": "stderr",
     "output_type": "stream",
     "text": [
      "\r 31%|███       | 2044/6603 [00:04<00:11, 411.41it/s]"
     ]
    },
    {
     "name": "stderr",
     "output_type": "stream",
     "text": [
      "\r 32%|███▏      | 2090/6603 [00:05<00:10, 422.09it/s]"
     ]
    },
    {
     "name": "stderr",
     "output_type": "stream",
     "text": [
      "\r 32%|███▏      | 2139/6603 [00:05<00:10, 439.88it/s]"
     ]
    },
    {
     "name": "stderr",
     "output_type": "stream",
     "text": [
      "\r 33%|███▎      | 2186/6603 [00:05<00:10, 420.41it/s]"
     ]
    },
    {
     "name": "stderr",
     "output_type": "stream",
     "text": [
      "\r 34%|███▍      | 2240/6603 [00:05<00:09, 450.21it/s]"
     ]
    },
    {
     "name": "stderr",
     "output_type": "stream",
     "text": [
      "\r 35%|███▍      | 2287/6603 [00:05<00:10, 408.96it/s]"
     ]
    },
    {
     "name": "stderr",
     "output_type": "stream",
     "text": [
      "\r 36%|███▌      | 2348/6603 [00:05<00:09, 451.61it/s]"
     ]
    },
    {
     "name": "stderr",
     "output_type": "stream",
     "text": [
      "\r 36%|███▋      | 2396/6603 [00:05<00:09, 421.61it/s]"
     ]
    },
    {
     "name": "stderr",
     "output_type": "stream",
     "text": [
      "\r 37%|███▋      | 2441/6603 [00:05<00:09, 418.58it/s]"
     ]
    },
    {
     "name": "stderr",
     "output_type": "stream",
     "text": [
      "\r 38%|███▊      | 2489/6603 [00:05<00:09, 434.78it/s]"
     ]
    },
    {
     "name": "stderr",
     "output_type": "stream",
     "text": [
      "\r 38%|███▊      | 2541/6603 [00:06<00:08, 456.00it/s]"
     ]
    },
    {
     "name": "stderr",
     "output_type": "stream",
     "text": [
      "\r 39%|███▉      | 2588/6603 [00:06<00:09, 414.70it/s]"
     ]
    },
    {
     "name": "stderr",
     "output_type": "stream",
     "text": [
      "\r 40%|███▉      | 2632/6603 [00:06<00:09, 409.54it/s]"
     ]
    },
    {
     "name": "stderr",
     "output_type": "stream",
     "text": [
      "\r 41%|████      | 2683/6603 [00:06<00:09, 434.27it/s]"
     ]
    },
    {
     "name": "stderr",
     "output_type": "stream",
     "text": [
      "\r 41%|████▏     | 2728/6603 [00:06<00:09, 428.75it/s]"
     ]
    },
    {
     "name": "stderr",
     "output_type": "stream",
     "text": [
      "\r 42%|████▏     | 2772/6603 [00:06<00:09, 417.62it/s]"
     ]
    },
    {
     "name": "stderr",
     "output_type": "stream",
     "text": [
      "\r 43%|████▎     | 2819/6603 [00:06<00:08, 431.20it/s]"
     ]
    },
    {
     "name": "stderr",
     "output_type": "stream",
     "text": [
      "\r 43%|████▎     | 2869/6603 [00:06<00:08, 448.80it/s]"
     ]
    },
    {
     "name": "stderr",
     "output_type": "stream",
     "text": [
      "\r 44%|████▍     | 2915/6603 [00:06<00:08, 426.90it/s]"
     ]
    },
    {
     "name": "stderr",
     "output_type": "stream",
     "text": [
      "\r 45%|████▍     | 2966/6603 [00:07<00:08, 445.36it/s]"
     ]
    },
    {
     "name": "stderr",
     "output_type": "stream",
     "text": [
      "\r 46%|████▌     | 3012/6603 [00:07<00:08, 434.08it/s]"
     ]
    },
    {
     "name": "stderr",
     "output_type": "stream",
     "text": [
      "\r 46%|████▋     | 3056/6603 [00:07<00:08, 403.35it/s]"
     ]
    },
    {
     "name": "stderr",
     "output_type": "stream",
     "text": [
      "\r 47%|████▋     | 3098/6603 [00:07<00:10, 346.71it/s]"
     ]
    },
    {
     "name": "stderr",
     "output_type": "stream",
     "text": [
      "\r 48%|████▊     | 3147/6603 [00:07<00:09, 379.77it/s]"
     ]
    },
    {
     "name": "stderr",
     "output_type": "stream",
     "text": [
      "\r 48%|████▊     | 3188/6603 [00:07<00:09, 360.64it/s]"
     ]
    },
    {
     "name": "stderr",
     "output_type": "stream",
     "text": [
      "\r 49%|████▉     | 3230/6603 [00:07<00:09, 373.84it/s]"
     ]
    },
    {
     "name": "stderr",
     "output_type": "stream",
     "text": [
      "\r 50%|████▉     | 3273/6603 [00:07<00:08, 384.22it/s]"
     ]
    },
    {
     "name": "stderr",
     "output_type": "stream",
     "text": [
      "\r 50%|█████     | 3313/6603 [00:08<00:08, 379.29it/s]"
     ]
    },
    {
     "name": "stderr",
     "output_type": "stream",
     "text": [
      "\r 51%|█████     | 3356/6603 [00:08<00:08, 393.01it/s]"
     ]
    },
    {
     "name": "stderr",
     "output_type": "stream",
     "text": [
      "\r 51%|█████▏    | 3397/6603 [00:08<00:08, 396.78it/s]"
     ]
    },
    {
     "name": "stderr",
     "output_type": "stream",
     "text": [
      "\r 52%|█████▏    | 3451/6603 [00:08<00:07, 431.07it/s]"
     ]
    },
    {
     "name": "stderr",
     "output_type": "stream",
     "text": [
      "\r 53%|█████▎    | 3496/6603 [00:08<00:07, 421.25it/s]"
     ]
    },
    {
     "name": "stderr",
     "output_type": "stream",
     "text": [
      "\r 54%|█████▎    | 3543/6603 [00:08<00:07, 434.59it/s]"
     ]
    },
    {
     "name": "stderr",
     "output_type": "stream",
     "text": [
      "\r 54%|█████▍    | 3588/6603 [00:08<00:06, 436.77it/s]"
     ]
    },
    {
     "name": "stderr",
     "output_type": "stream",
     "text": [
      "\r 55%|█████▌    | 3633/6603 [00:08<00:06, 426.38it/s]"
     ]
    },
    {
     "name": "stderr",
     "output_type": "stream",
     "text": [
      "\r 56%|█████▌    | 3692/6603 [00:08<00:06, 463.83it/s]"
     ]
    },
    {
     "name": "stderr",
     "output_type": "stream",
     "text": [
      "\r 57%|█████▋    | 3743/6603 [00:08<00:06, 473.94it/s]"
     ]
    },
    {
     "name": "stderr",
     "output_type": "stream",
     "text": [
      "\r 58%|█████▊    | 3809/6603 [00:09<00:05, 517.02it/s]"
     ]
    },
    {
     "name": "stderr",
     "output_type": "stream",
     "text": [
      "\r 59%|█████▊    | 3863/6603 [00:09<00:05, 472.57it/s]"
     ]
    },
    {
     "name": "stderr",
     "output_type": "stream",
     "text": [
      "\n"
     ]
    },
    {
     "ename": "KeyboardInterrupt",
     "evalue": "",
     "traceback": [
      "\u001b[0;31m\u001b[0m",
      "\u001b[0;31mKeyboardInterrupt\u001b[0mTraceback (most recent call last)",
      "\u001b[0;32m<ipython-input-2-624d29503721>\u001b[0m in \u001b[0;36m<module>\u001b[0;34m()\u001b[0m\n\u001b[0;32m----> 1\u001b[0;31m \u001b[0;34m(\u001b[0m\u001b[0mtr\u001b[0m\u001b[0;34m,\u001b[0m \u001b[0munaligned_nodes\u001b[0m\u001b[0;34m,\u001b[0m \u001b[0mcoref_count\u001b[0m\u001b[0;34m)\u001b[0m \u001b[0;34m=\u001b[0m \u001b[0mTrainingDataExtractor\u001b[0m\u001b[0;34m.\u001b[0m\u001b[0mgenerate_training_data\u001b[0m\u001b[0;34m(\u001b[0m\u001b[0;34m\"/Users/silvianac/personalprojects/AMR_lic/resources/alignments/split/training/deft-p2-amr-r1-alignments-training-proxy.txt\"\u001b[0m\u001b[0;34m,\u001b[0m \u001b[0mFalse\u001b[0m\u001b[0;34m,\u001b[0m \u001b[0mTrue\u001b[0m\u001b[0;34m)\u001b[0m\u001b[0;34m\u001b[0m\u001b[0m\n\u001b[0m",
      "\u001b[0;32m/Users/silvianac/personalprojects/AMR_lic/TrainingDataExtractor.pyc\u001b[0m in \u001b[0;36mgenerate_training_data\u001b[0;34m(file_path, verbose, withStats)\u001b[0m\n\u001b[1;32m     25\u001b[0m         \u001b[0;32mtry\u001b[0m\u001b[0;34m:\u001b[0m\u001b[0;34m\u001b[0m\u001b[0m\n\u001b[1;32m     26\u001b[0m             \u001b[0mlogging\u001b[0m\u001b[0;34m.\u001b[0m\u001b[0mwarn\u001b[0m\u001b[0;34m(\u001b[0m\u001b[0;34m\"Started processing example %d\"\u001b[0m\u001b[0;34m,\u001b[0m \u001b[0mi\u001b[0m\u001b[0;34m)\u001b[0m\u001b[0;34m\u001b[0m\u001b[0m\n\u001b[0;32m---> 27\u001b[0;31m             \u001b[0;34m(\u001b[0m\u001b[0msentence\u001b[0m\u001b[0;34m,\u001b[0m \u001b[0mamr_str\u001b[0m\u001b[0;34m)\u001b[0m \u001b[0;34m=\u001b[0m \u001b[0msentence_amr_pairs\u001b[0m\u001b[0;34m[\u001b[0m\u001b[0mi\u001b[0m\u001b[0;34m]\u001b[0m\u001b[0;34m\u001b[0m\u001b[0m\n\u001b[0m\u001b[1;32m     28\u001b[0m             \u001b[0mamr\u001b[0m \u001b[0;34m=\u001b[0m \u001b[0mAMR\u001b[0m\u001b[0;34m.\u001b[0m\u001b[0mparse_string\u001b[0m\u001b[0;34m(\u001b[0m\u001b[0mamr_str\u001b[0m\u001b[0;34m)\u001b[0m\u001b[0;34m\u001b[0m\u001b[0m\n\u001b[1;32m     29\u001b[0m             \u001b[0mTrainingDataStats\u001b[0m\u001b[0;34m.\u001b[0m\u001b[0mget_unaligned_nodes\u001b[0m\u001b[0;34m(\u001b[0m\u001b[0mamr\u001b[0m\u001b[0;34m,\u001b[0m \u001b[0munaligned_nodes\u001b[0m\u001b[0;34m)\u001b[0m\u001b[0;34m\u001b[0m\u001b[0m\n",
      "\u001b[0;32m/Users/silvianac/personalprojects/AMR_lic/AMRGraph.pyc\u001b[0m in \u001b[0;36mparse_string\u001b[0;34m(cls, amr_string, RENAME_NODE)\u001b[0m\n\u001b[1;32m    374\u001b[0m                             \u001b[0mhypertarget\u001b[0m\u001b[0;34m.\u001b[0m\u001b[0mappend\u001b[0m\u001b[0;34m(\u001b[0m\u001b[0mnode\u001b[0m\u001b[0;34m)\u001b[0m\u001b[0;34m\u001b[0m\u001b[0m\n\u001b[1;32m    375\u001b[0m                         \u001b[0mhyperchild\u001b[0m \u001b[0;34m=\u001b[0m \u001b[0mtuple\u001b[0m\u001b[0;34m(\u001b[0m\u001b[0mhypertarget\u001b[0m\u001b[0;34m)\u001b[0m\u001b[0;34m\u001b[0m\u001b[0m\n\u001b[0;32m--> 376\u001b[0;31m                         \u001b[0mamr\u001b[0m\u001b[0;34m.\u001b[0m\u001b[0m_add_triple\u001b[0m\u001b[0;34m(\u001b[0m\u001b[0mparentnodelabel\u001b[0m\u001b[0;34m,\u001b[0m \u001b[0medgelabel\u001b[0m\u001b[0;34m,\u001b[0m \u001b[0mhyperchild\u001b[0m\u001b[0;34m)\u001b[0m\u001b[0;34m\u001b[0m\u001b[0m\n\u001b[0m\u001b[1;32m    377\u001b[0m \u001b[0;34m\u001b[0m\u001b[0m\n\u001b[1;32m    378\u001b[0m                     \u001b[0;32mfor\u001b[0m \u001b[0medgelabel\u001b[0m\u001b[0;34m,\u001b[0m \u001b[0mreentrance\u001b[0m \u001b[0;32min\u001b[0m \u001b[0mreedges\u001b[0m\u001b[0;34m:\u001b[0m\u001b[0;34m\u001b[0m\u001b[0m\n",
      "\u001b[0;32m/Users/silvianac/personalprojects/AMR_lic/AMRGraph.pyc\u001b[0m in \u001b[0;36m_add_triple\u001b[0;34m(self, parent, relation, child, warn)\u001b[0m\n\u001b[1;32m    682\u001b[0m         \u001b[0mchild\u001b[0m \u001b[0;34m=\u001b[0m \u001b[0mself\u001b[0m\u001b[0;34m.\u001b[0m\u001b[0m_handle_quantity\u001b[0m\u001b[0;34m(\u001b[0m\u001b[0mparent\u001b[0m\u001b[0;34m,\u001b[0m \u001b[0mchild\u001b[0m\u001b[0;34m)\u001b[0m\u001b[0;34m\u001b[0m\u001b[0m\n\u001b[1;32m    683\u001b[0m         \u001b[0mchild\u001b[0m \u001b[0;34m=\u001b[0m \u001b[0mself\u001b[0m\u001b[0;34m.\u001b[0m\u001b[0m_handle_interrogative\u001b[0m\u001b[0;34m(\u001b[0m\u001b[0mparent\u001b[0m\u001b[0;34m,\u001b[0m \u001b[0mchild\u001b[0m\u001b[0;34m)\u001b[0m\u001b[0;34m\u001b[0m\u001b[0m\n\u001b[0;32m--> 684\u001b[0;31m         \u001b[0mself\u001b[0m\u001b[0;34m[\u001b[0m\u001b[0mparent\u001b[0m\u001b[0;34m]\u001b[0m\u001b[0;34m.\u001b[0m\u001b[0mappend\u001b[0m\u001b[0;34m(\u001b[0m\u001b[0mrelation\u001b[0m\u001b[0;34m,\u001b[0m \u001b[0mchild\u001b[0m\u001b[0;34m)\u001b[0m\u001b[0;34m\u001b[0m\u001b[0m\n\u001b[0m\u001b[1;32m    685\u001b[0m \u001b[0;34m\u001b[0m\u001b[0m\n\u001b[1;32m    686\u001b[0m     \u001b[0;32mdef\u001b[0m \u001b[0mset_alignment\u001b[0m\u001b[0;34m(\u001b[0m\u001b[0mself\u001b[0m\u001b[0;34m,\u001b[0m \u001b[0malignment\u001b[0m\u001b[0;34m)\u001b[0m\u001b[0;34m:\u001b[0m\u001b[0;34m\u001b[0m\u001b[0m\n",
      "\u001b[0;32m/Users/silvianac/personalprojects/AMR_lic/util.pyc\u001b[0m in \u001b[0;36mappend\u001b[0;34m(self, k, v)\u001b[0m\n\u001b[1;32m    231\u001b[0m \u001b[0;34m\u001b[0m\u001b[0m\n\u001b[1;32m    232\u001b[0m     \u001b[0;32mdef\u001b[0m \u001b[0mappend\u001b[0m\u001b[0;34m(\u001b[0m\u001b[0mself\u001b[0m\u001b[0;34m,\u001b[0m \u001b[0mk\u001b[0m\u001b[0;34m,\u001b[0m \u001b[0mv\u001b[0m\u001b[0;34m)\u001b[0m\u001b[0;34m:\u001b[0m\u001b[0;34m\u001b[0m\u001b[0m\n\u001b[0;32m--> 233\u001b[0;31m         \u001b[0mdefaultdict\u001b[0m\u001b[0;34m.\u001b[0m\u001b[0m__getitem__\u001b[0m\u001b[0;34m(\u001b[0m\u001b[0mself\u001b[0m\u001b[0;34m,\u001b[0m \u001b[0mk\u001b[0m\u001b[0;34m)\u001b[0m\u001b[0;34m.\u001b[0m\u001b[0mappend\u001b[0m\u001b[0;34m(\u001b[0m\u001b[0mv\u001b[0m\u001b[0;34m)\u001b[0m\u001b[0;34m\u001b[0m\u001b[0m\n\u001b[0m\u001b[1;32m    234\u001b[0m         \u001b[0mself\u001b[0m\u001b[0;34m.\u001b[0m\u001b[0m_key_value\u001b[0m\u001b[0;34m.\u001b[0m\u001b[0mappend\u001b[0m\u001b[0;34m(\u001b[0m\u001b[0;34m(\u001b[0m\u001b[0mk\u001b[0m\u001b[0;34m,\u001b[0m\u001b[0mv\u001b[0m\u001b[0;34m)\u001b[0m\u001b[0;34m)\u001b[0m\u001b[0;34m\u001b[0m\u001b[0m\n\u001b[1;32m    235\u001b[0m \u001b[0;34m\u001b[0m\u001b[0m\n",
      "\u001b[0;32m/Users/silvianac/personalprojects/AMR_lic/util.pyc\u001b[0m in \u001b[0;36m__setitem__\u001b[0;34m(self, k, v)\u001b[0m\n\u001b[1;32m    203\u001b[0m             \u001b[0;32mraise\u001b[0m \u001b[0mKeyError\u001b[0m\u001b[0;34m(\u001b[0m\u001b[0;34m'Cannot assign to ListMap entry; use replace() or append()'\u001b[0m\u001b[0;34m)\u001b[0m\u001b[0;34m\u001b[0m\u001b[0m\n\u001b[1;32m    204\u001b[0m         \u001b[0;32melse\u001b[0m\u001b[0;34m:\u001b[0m\u001b[0;34m\u001b[0m\u001b[0m\n\u001b[0;32m--> 205\u001b[0;31m             \u001b[0mself\u001b[0m\u001b[0;34m.\u001b[0m\u001b[0m_keys\u001b[0m\u001b[0;34m.\u001b[0m\u001b[0mappend\u001b[0m\u001b[0;34m(\u001b[0m\u001b[0mk\u001b[0m\u001b[0;34m)\u001b[0m\u001b[0;34m\u001b[0m\u001b[0m\n\u001b[0m\u001b[1;32m    206\u001b[0m             \u001b[0mself\u001b[0m\u001b[0;34m.\u001b[0m\u001b[0m_key_value\u001b[0m\u001b[0;34m.\u001b[0m\u001b[0mextend\u001b[0m\u001b[0;34m(\u001b[0m\u001b[0;34m[\u001b[0m\u001b[0;34m(\u001b[0m\u001b[0mk\u001b[0m\u001b[0;34m,\u001b[0m\u001b[0mvv\u001b[0m\u001b[0;34m)\u001b[0m \u001b[0;32mfor\u001b[0m \u001b[0mvv\u001b[0m \u001b[0;32min\u001b[0m \u001b[0mv\u001b[0m\u001b[0;34m]\u001b[0m\u001b[0;34m)\u001b[0m\u001b[0;34m\u001b[0m\u001b[0m\n\u001b[1;32m    207\u001b[0m         \u001b[0;32mreturn\u001b[0m \u001b[0mdefaultdict\u001b[0m\u001b[0;34m.\u001b[0m\u001b[0m__setitem__\u001b[0m\u001b[0;34m(\u001b[0m\u001b[0mself\u001b[0m\u001b[0;34m,\u001b[0m \u001b[0mk\u001b[0m\u001b[0;34m,\u001b[0m \u001b[0mv\u001b[0m\u001b[0;34m)\u001b[0m\u001b[0;34m\u001b[0m\u001b[0m\n",
      "\u001b[0;31mKeyboardInterrupt\u001b[0m: "
     ],
     "output_type": "error"
    }
   ],
   "source": [
    "(tr, unaligned_nodes, coref_count) = TrainingDataExtractor.generate_training_data(\"/Users/silvianac/personalprojects/AMR_lic/resources/alignments/split/training/deft-p2-amr-r1-alignments-training-proxy.txt\", False, True)"
   ]
  },
  {
   "cell_type": "code",
   "execution_count": 7,
   "metadata": {
    "collapsed": false
   },
   "outputs": [],
   "source": [
    "from itertools import chain\n",
    "info = [(k, len(v), set(chain.from_iterable([key_list.keys() \n",
    "                                     for key_list in unaligned_nodes[k]]))) for k, v in unaligned_nodes.iteritems()]"
   ]
  },
  {
   "cell_type": "code",
   "execution_count": 8,
   "metadata": {
    "collapsed": false
   },
   "outputs": [],
   "source": [
    "info = sorted(info, key=lambda t: t[1], reverse=True)"
   ]
  },
  {
   "cell_type": "code",
   "execution_count": 9,
   "metadata": {
    "collapsed": false
   },
   "outputs": [
    {
     "data": {
      "text/plain": [
       "[('name',\n",
       "  11681,\n",
       "  {'ARG1-of',\n",
       "   'ARG2-of',\n",
       "   'domain',\n",
       "   'mod',\n",
       "   'name-of',\n",
       "   'op1',\n",
       "   'op10',\n",
       "   'op2',\n",
       "   'op3',\n",
       "   'op4',\n",
       "   'op5',\n",
       "   'op6',\n",
       "   'op7',\n",
       "   'op8',\n",
       "   'op9'}),\n",
       " ('country',\n",
       "  5524,\n",
       "  {'ARG0-of',\n",
       "   'ARG1-of',\n",
       "   'ARG2-of',\n",
       "   'domain',\n",
       "   'location',\n",
       "   'location-of',\n",
       "   'mod',\n",
       "   'name',\n",
       "   'part-of',\n",
       "   'poss',\n",
       "   'prep-with',\n",
       "   'quant',\n",
       "   'time',\n",
       "   'wiki'}),\n",
       " ('person',\n",
       "  2890,\n",
       "  {'ARG0-of',\n",
       "   'ARG1-of',\n",
       "   'ARG2-of',\n",
       "   'ARG3-of',\n",
       "   'accompanier',\n",
       "   'age',\n",
       "   'domain',\n",
       "   'example',\n",
       "   'location',\n",
       "   'mod',\n",
       "   'name',\n",
       "   'poss',\n",
       "   'purpose',\n",
       "   'quant',\n",
       "   'source',\n",
       "   'time',\n",
       "   'wiki'}),\n",
       " ('date-entity',\n",
       "  1314,\n",
       "  {'ARG0-of',\n",
       "   'calendar',\n",
       "   'century',\n",
       "   'day',\n",
       "   'dayperiod',\n",
       "   'decade',\n",
       "   'domain',\n",
       "   'mod',\n",
       "   'month',\n",
       "   'part-of',\n",
       "   'quant',\n",
       "   'quarter',\n",
       "   'season',\n",
       "   'time',\n",
       "   'time-of',\n",
       "   'timezone',\n",
       "   'unit',\n",
       "   'weekday',\n",
       "   'year'}),\n",
       " ('have-org-role-91',\n",
       "  1215,\n",
       "  {'ARG0', 'ARG1', 'ARG1-of', 'ARG2', 'ARG3', 'mod', 'time'}),\n",
       " ('organization',\n",
       "  1003,\n",
       "  {'ARG0-of',\n",
       "   'ARG1-of',\n",
       "   'consist-of',\n",
       "   'domain',\n",
       "   'location',\n",
       "   'mod',\n",
       "   'name',\n",
       "   'part-of',\n",
       "   'poss',\n",
       "   'time',\n",
       "   'topic',\n",
       "   'wiki'}),\n",
       " ('-', 656, set()),\n",
       " ('and',\n",
       "  625,\n",
       "  {'ARG0-of',\n",
       "   'ARG1-of',\n",
       "   'domain',\n",
       "   'mod',\n",
       "   'op1',\n",
       "   'op10',\n",
       "   'op11',\n",
       "   'op12',\n",
       "   'op13',\n",
       "   'op14',\n",
       "   'op15',\n",
       "   'op16',\n",
       "   'op17',\n",
       "   'op2',\n",
       "   'op3',\n",
       "   'op4',\n",
       "   'op5',\n",
       "   'op6',\n",
       "   'op7',\n",
       "   'op8',\n",
       "   'op9',\n",
       "   'polarity',\n",
       "   'prep-for',\n",
       "   'quant',\n",
       "   'source',\n",
       "   'time'}),\n",
       " ('city',\n",
       "  515,\n",
       "  {'ARG0-of',\n",
       "   'ARG1-of',\n",
       "   'ARG2-of',\n",
       "   'location',\n",
       "   'location-of',\n",
       "   'mod',\n",
       "   'name',\n",
       "   'part-of',\n",
       "   'source-of',\n",
       "   'wiki'}),\n",
       " (u'United_States', 438, set()),\n",
       " (u'North_Korea', 324, set()),\n",
       " ('world-region',\n",
       "  297,\n",
       "  {'ARG1-of',\n",
       "   'ARG2-of',\n",
       "   'domain',\n",
       "   'location',\n",
       "   'mod',\n",
       "   'name',\n",
       "   'quant',\n",
       "   'wiki'}),\n",
       " ('government-organization',\n",
       "  291,\n",
       "  {'ARG0-of',\n",
       "   'ARG1-of',\n",
       "   'location',\n",
       "   'mod',\n",
       "   'name',\n",
       "   'part-of',\n",
       "   'polarity',\n",
       "   'poss',\n",
       "   'wiki'}),\n",
       " ('temporal-quantity',\n",
       "  267,\n",
       "  {'ARG1-of',\n",
       "   'ARG2-of',\n",
       "   'duration-of',\n",
       "   'location',\n",
       "   'mod',\n",
       "   'ord',\n",
       "   'part-of',\n",
       "   'quant',\n",
       "   'unit'}),\n",
       " ('company',\n",
       "  228,\n",
       "  {'ARG0-of',\n",
       "   'ARG1-of',\n",
       "   'domain',\n",
       "   'location',\n",
       "   'mod',\n",
       "   'name',\n",
       "   'ord',\n",
       "   'poss',\n",
       "   'prep-with',\n",
       "   'quant',\n",
       "   'wiki'}),\n",
       " ('include-91',\n",
       "  205,\n",
       "  {'ARG1',\n",
       "   'ARG2',\n",
       "   'ARG2-of',\n",
       "   'ARG3',\n",
       "   'condition',\n",
       "   'location',\n",
       "   'mod',\n",
       "   'polarity',\n",
       "   'quant'}),\n",
       " ('monetary-quantity',\n",
       "  177,\n",
       "  {'ARG0-of',\n",
       "   'ARG1-of',\n",
       "   'ARG2-of',\n",
       "   'ARG3-of',\n",
       "   'mod',\n",
       "   'part-of',\n",
       "   'quant',\n",
       "   'time',\n",
       "   'unit'}),\n",
       " ('continent', 172, {'ARG1-of', 'location-of', 'mod', 'name', 'wiki'}),\n",
       " ('mass-quantity',\n",
       "  162,\n",
       "  {'ARG1-of',\n",
       "   'ARG2-of',\n",
       "   'domain',\n",
       "   'mod',\n",
       "   'poss',\n",
       "   'quant',\n",
       "   'quant-of',\n",
       "   'time',\n",
       "   'unit'}),\n",
       " (u'Burma', 160, set()),\n",
       " (u'United_Kingdom', 148, set()),\n",
       " (u'South_Korea', 145, set()),\n",
       " ('criminal-organization',\n",
       "  140,\n",
       "  {'ARG1-of', 'location', 'mod', 'name', 'poss', 'wiki'}),\n",
       " (u'United_Nations', 139, set()),\n",
       " (u'International_Atomic_Energy_Agency', 126, set()),\n",
       " ('cause-01',\n",
       "  121,\n",
       "  {'ARG0', 'ARG0-of', 'ARG1', 'ARG1-of', 'degree', 'mod', 'polarity', 'time'}),\n",
       " ('military', 110, {'mod', 'name', 'part-of', 'poss', 'time', 'wiki'}),\n",
       " ('religious-group', 104, {'mod', 'name', 'quant', 'wiki'}),\n",
       " (u'European_Union', 101, set()),\n",
       " ('publication',\n",
       "  95,\n",
       "  {'ARG0-of', 'ARG1-of', 'frequency', 'mod', 'name', 'poss', 'time', 'wiki'}),\n",
       " ('treaty', 85, {'mod', 'name', 'poss', 'time', 'topic', 'wiki'}),\n",
       " ('thing',\n",
       "  77,\n",
       "  {'ARG0-of',\n",
       "   'ARG1-of',\n",
       "   'ARG2-of',\n",
       "   'ARG3-of',\n",
       "   'ARG4-of',\n",
       "   'domain',\n",
       "   'example',\n",
       "   'instrument-of',\n",
       "   'manner',\n",
       "   'manner-of',\n",
       "   'mod',\n",
       "   'name',\n",
       "   'ord',\n",
       "   'poss',\n",
       "   'quant',\n",
       "   'quant-of',\n",
       "   'time',\n",
       "   'topic',\n",
       "   'wiki'}),\n",
       " (u'United_Nations_Security_Council', 71, set()),\n",
       " (u'South_Africa', 69, set()),\n",
       " ('distance-quantity', 64, {'ARG1-of', 'mod', 'quant', 'unit'}),\n",
       " ('1', 59, set()),\n",
       " ('political-party',\n",
       "  59,\n",
       "  {'ARG0-of', 'ARG1-of', 'mod', 'name', 'poss', 'wiki'}),\n",
       " (u'Association_of_Southeast_Asian_Nations', 56, set()),\n",
       " ('possible-01', 54, {'ARG1', 'ARG1-of', 'condition', 'polarity', 'time'}),\n",
       " (u'Saudi_Arabia', 54, set()),\n",
       " (u'Western_world', 54, set()),\n",
       " (u'Raghad_Hussein', 51, set()),\n",
       " ('product',\n",
       "  50,\n",
       "  {'ARG0-of', 'ARG1-of', 'instrument-of', 'mod', 'name', 'poss', 'wiki'}),\n",
       " ('newspaper', 50, {'frequency', 'mod', 'name', 'poss', 'wiki'}),\n",
       " (u'Amnesty_International', 49, set()),\n",
       " ('province', 49, {'ARG0-of', 'location', 'mod', 'name', 'wiki'}),\n",
       " ('ethnic-group', 47, {'mod', 'name', 'poss', 'wiki'}),\n",
       " (u'Treaty_on_Conventional_Armed_Forces_in_Europe', 45, set()),\n",
       " (u'Mohamed_ElBaradei', 45, set()),\n",
       " (u'Soviet_Union', 45, set()),\n",
       " ('law',\n",
       "  44,\n",
       "  {'ARG0-of', 'ARG1-of', 'domain', 'mod', 'name', 'polarity', 'wiki'}),\n",
       " (u'Al-Qaeda', 41, set()),\n",
       " ('date-interval', 40, {'duration-of', 'mod', 'op1', 'op2'}),\n",
       " (u'Nicolas_Sarkozy', 40, set()),\n",
       " (u'Agence_France-Presse', 40, set()),\n",
       " (u'Southeast_Asia', 39, set()),\n",
       " ('have-rel-role-91', 38, {'ARG0', 'ARG1', 'ARG2', 'time'}),\n",
       " ('rate-entity-91', 35, {'ARG1', 'ARG2', 'ARG3'}),\n",
       " (u'Treaty_on_the_Non-Proliferation_of_Nuclear_Weapons', 35, set()),\n",
       " ('relative-position', 34, {'direction', 'op1', 'op2', 'quant'}),\n",
       " ('war', 34, {'name', 'wiki'}),\n",
       " ('govern-01', 34, {'ARG1'}),\n",
       " (u'Russia', 34, set()),\n",
       " (u'Union', 33, set()),\n",
       " ('after', 32, {'duration', 'op1', 'quant'}),\n",
       " (u'Saddam_Hussein', 30, set()),\n",
       " ('aircraft-type',\n",
       "  30,\n",
       "  {'ARG0-of', 'ARG1-of', 'mod', 'name', 'poss', 'quant', 'source', 'wiki'}),\n",
       " (u'Georgia_(country)', 28, set()),\n",
       " (u'Arabs', 28, set()),\n",
       " ('have-purpose-91', 28, {'ARG1', 'ARG2', 'condition', 'mod', 'polarity'}),\n",
       " (u'Vladimir_Putin', 28, set()),\n",
       " ('research-institute',\n",
       "  28,\n",
       "  {'ARG1-of', 'location', 'mod', 'name', 'part-of', 'poss', 'wiki'}),\n",
       " ('now', 27, set()),\n",
       " (u'Kim_Myong-chol', 26, set()),\n",
       " ('capable-01', 25, {'ARG1', 'ARG1-of', 'ARG2', 'mod', 'polarity'}),\n",
       " ('multiple', 25, {'ARG1-of', 'op1', 'unit'}),\n",
       " ('most', 24, {'compared-to', 'ord'}),\n",
       " (u'Middle_East', 23, set()),\n",
       " ('between', 23, {'ARG1-of', 'mod', 'op1', 'op2'}),\n",
       " (u'Roh_Moo-hyun', 23, set()),\n",
       " (u'Great', 23, set()),\n",
       " (u'Organization_for_Security_and_Co-operation_in_Europe', 23, set()),\n",
       " (u'Muslim_Brotherhood', 23, set()),\n",
       " ('spaceship', 23, {'name', 'wiki'}),\n",
       " ('facility',\n",
       "  22,\n",
       "  {'ARG1-of', 'location', 'location-of', 'name', 'poss', 'wiki'}),\n",
       " ('country-region', 21, {'ARG1-of', 'location', 'name', 'part-of', 'wiki'}),\n",
       " (u'Board_of_Governors_of_the_International_Atomic_Energy_Agency', 21, set()),\n",
       " (u'Muammar_Gaddafi', 21, set()),\n",
       " (u'Tony_Blair', 21, set()),\n",
       " (u'United_Nations_Office_on_Drugs_and_Crime', 20, set()),\n",
       " ('ordinal-entity', 19, {'range', 'value'}),\n",
       " (u'Islam', 18, set()),\n",
       " ('before', 17, {'duration', 'op1'}),\n",
       " (u'Pervez_Musharraf', 17, set()),\n",
       " (u'Osama_bin_Laden', 17, set()),\n",
       " (u'Russian_Space_Forces', 17, set()),\n",
       " (u'Arabia', 17, set()),\n",
       " ('disease', 17, {'location', 'name', 'wiki'}),\n",
       " (u'Washington,_D.C.', 16, set()),\n",
       " (u'Alexander_Downer', 16, set()),\n",
       " ('member', 16, set()),\n",
       " (u'Ayman_al-Zawahiri', 15, set()),\n",
       " (u'Jiang_Yu', 15, set()),\n",
       " ('extremism', 15, {'ARG1-of', 'mod'}),\n",
       " (u'Sergey_Lavrov', 15, set()),\n",
       " (u'N.R.', 14, set()),\n",
       " (u\"People's_Mujahedin_of_Iran\", 14, set()),\n",
       " ('crack-down-06',\n",
       "  14,\n",
       "  {'ARG0',\n",
       "   'ARG1',\n",
       "   'ARG1-of',\n",
       "   'ARG2-of',\n",
       "   'duration',\n",
       "   'location',\n",
       "   'mod',\n",
       "   'quant',\n",
       "   'time'}),\n",
       " (u'Junichiro_Koizumi', 14, set()),\n",
       " (u'Saeed_Jalili', 14, set()),\n",
       " (u'Hindustan_Aeronautics', 14, set()),\n",
       " ('sea', 14, {'name', 'wiki'}),\n",
       " ('university', 14, {'location', 'mod', 'name', 'purpose', 'wiki'}),\n",
       " (u'Islamic_Republic_News_Agency', 14, set()),\n",
       " (u'Yongbyon_Nuclear_Scientific_Research_Center', 13, set()),\n",
       " (u'United_States_Department_of_State', 13, set()),\n",
       " (u'European_Commission', 13, set()),\n",
       " (u'Sandinista_National_Liberation_Front', 13, set()),\n",
       " ('cost-01', 13, {'ARG1', 'ARG1-of', 'ARG2', 'mod'}),\n",
       " (u'Wen_Jiabao', 13, set()),\n",
       " ('event', 13, {'ARG1-of', 'location', 'mod', 'name', 'topic', 'wiki'}),\n",
       " (u'Peter_Lloyd_(ABC_correspondent)', 13, set()),\n",
       " ('game', 13, {'mod', 'name', 'time', 'wiki'}),\n",
       " (u'Abdel_Rahman_Shalgham', 13, set()),\n",
       " ('worship-place', 13, {'ARG2-of', 'location', 'mod', 'name', 'wiki'}),\n",
       " ('mean-01', 13, {'ARG1', 'ARG2'}),\n",
       " (u'Proliferation_Security_Initiative', 13, set()),\n",
       " ('county', 12, {'location', 'name', 'part-of', 'wiki'}),\n",
       " (u'Kurds', 12, set()),\n",
       " (u'Kurd', 12, set()),\n",
       " (u'New_Delhi', 12, set()),\n",
       " (u'Hans_Blix', 12, set()),\n",
       " (u'HAL_Dhruv', 12, set()),\n",
       " (u'Kim_Dae-jung', 12, set()),\n",
       " ('territory', 12, {'name', 'wiki'}),\n",
       " ('location',\n",
       "  12,\n",
       "  {'ARG0-of',\n",
       "   'ARG2-of',\n",
       "   'domain',\n",
       "   'location',\n",
       "   'location-of',\n",
       "   'mod',\n",
       "   'name',\n",
       "   'op1',\n",
       "   'op2',\n",
       "   'op3',\n",
       "   'op4',\n",
       "   'wiki'}),\n",
       " (u'Central_Asia', 12, set()),\n",
       " (u'Cold_War', 12, set()),\n",
       " (u'SQL_Slammer', 12, set()),\n",
       " ('island',\n",
       "  12,\n",
       "  {'ARG1-of', 'consist-of', 'location', 'name', 'quant', 'wiki'}),\n",
       " ('state',\n",
       "  12,\n",
       "  {'ARG0-of',\n",
       "   'ARG1-of',\n",
       "   'consist-of',\n",
       "   'location',\n",
       "   'name',\n",
       "   'part-of',\n",
       "   'quant',\n",
       "   'wiki'}),\n",
       " (u'SAIC_Motor', 11, set()),\n",
       " (u'Persian_Gulf', 11, set()),\n",
       " ('instead-of-91', 11, {'ARG1', 'ARG2'}),\n",
       " (u'North_Africa', 11, set()),\n",
       " (u'Hizbul_Mujahideen', 11, set()),\n",
       " (u'European_Space_Agency', 11, set()),\n",
       " (u'Yasukuni_Shrine', 11, set()),\n",
       " (u'Golden_Triangle_(Southeast_Asia)', 11, set()),\n",
       " ('criticize-01', 11, {'ARG0', 'ARG1', 'ARG1-of', 'ARG2', 'extent', 'time'}),\n",
       " (u'United_Microelectronics_Corporation', 11, set()),\n",
       " (u'Los_Angeles_Times', 11, set()),\n",
       " (u'Jayantha_Dhanapala', 11, set()),\n",
       " (u'Ali_Asghar_Soltanieh', 11, set()),\n",
       " (u'George_W._Bush', 11, set()),\n",
       " ('contrast-01', 11, {'ARG1', 'ARG2'}),\n",
       " (u'United_Nations_Security_Council_Resolution_1540', 11, set()),\n",
       " (u'Mohammed_Hamdi_al-Ahdal', 10, set()),\n",
       " (u'World_War_II', 10, set()),\n",
       " ('url-entity', 10, {'domain', 'value'}),\n",
       " ('have-part-91', 10, {'ARG1', 'time'}),\n",
       " (u'Libya', 10, set()),\n",
       " (u'Gerald_Blanchard', 10, set()),\n",
       " (u'Frank-Walter_Steinmeier', 10, set()),\n",
       " ('be-located-at-91', 10, {'ARG1', 'ARG2', 'purpose', 'time'}),\n",
       " (u'Thabo_Mbeki', 10, set()),\n",
       " (u'Dassault_Rafale', 10, set()),\n",
       " ('partner-01', 10, {'ARG0', 'ARG1', 'ARG1-of', 'ARG2-of', 'mod', 'prep-in'}),\n",
       " (u'Ban_Ki-moon', 10, set()),\n",
       " (u'Bates_Gill', 10, set()),\n",
       " ('chairman', 10, set()),\n",
       " (u'Nyongbyon_County', 10, set()),\n",
       " (u'Islamism', 10, set()),\n",
       " (u'New_York_City', 10, set()),\n",
       " ('strategy', 10, set()),\n",
       " (u'Abdullah_II_of_Jordan', 9, set()),\n",
       " ('madrassa', 9, {'ARG1-of', 'location', 'mod', 'quant'}),\n",
       " (u'Dassault_Aviation', 9, set()),\n",
       " ('relation-03', 9, {'ARG0', 'ARG1', 'ARG2', 'location', 'mod'}),\n",
       " (u'Gafur_Rakhimov', 9, set()),\n",
       " (u'Helmand_Province', 9, set()),\n",
       " ('magazine', 9, {'frequency', 'mod', 'name', 'wiki'}),\n",
       " ('ship', 9, {'ARG1-of', 'mod', 'name', 'wiki'}),\n",
       " ('area-quantity', 9, {'ARG1-of', 'ARG2-of', 'quant', 'time', 'unit'}),\n",
       " (u'Kamchatka_Peninsula', 9, set()),\n",
       " (u'State_of_Palestine', 9, set()),\n",
       " (u'Abbott_Laboratories', 9, set()),\n",
       " (u'Desmond_Tutu', 9, set()),\n",
       " (u'Anti-Ballistic_Missile_Treaty', 9, set()),\n",
       " (u'Saif_al-Adel', 9, set()),\n",
       " (u\"Kurdistan_Workers'_Party\", 9, set()),\n",
       " (u'HIV/AIDS', 9, set()),\n",
       " (u'National_Council_of_Resistance_of_Iran', 9, set()),\n",
       " (u'Sheikh_Hasina', 9, set()),\n",
       " (u'Jemaah_Islamiyah', 9, set()),\n",
       " (u'Republic_of_Macedonia', 9, set()),\n",
       " (u'United_Nations_General_Assembly', 9, set()),\n",
       " (u'Jacques_Chirac', 8, set()),\n",
       " (u'Empress_Elisabeth_of_Austria', 8, set()),\n",
       " ('volume-quantity', 8, {'quant', 'unit'}),\n",
       " (u'Hassan_Wirajuda', 8, set()),\n",
       " (u'Khairat_el-Shater', 8, set()),\n",
       " ('up-to', 8, {'op1'}),\n",
       " (u'Javier_Solana', 8, set()),\n",
       " (u\"Ministry_of_Foreign_Affairs_of_the_People's_Republic_of_China\", 8, set()),\n",
       " (u'Shivraj_Patil', 8, set()),\n",
       " (u'Central_Europe', 8, set()),\n",
       " (u'Lashkar-e-Taiba', 8, set()),\n",
       " ('2', 8, set()),\n",
       " (u'Nancy_Scheper-Hughes', 8, set()),\n",
       " (u'L._K._Advani', 8, set()),\n",
       " ('fire-01', 8, set()),\n",
       " (u'Soyuz_(rocket)', 8, set()),\n",
       " (u'Hejian_Technology_Corporation', 8, set()),\n",
       " ('conform-01', 8, {'ARG1', 'ARG2'}),\n",
       " (u'United_Arab_Emirates', 8, set()),\n",
       " ('have-03', 8, {'ARG0', 'ARG1', 'polarity'}),\n",
       " (u'Eastern_Europe', 8, set()),\n",
       " (u'Erythropoietin', 8, set()),\n",
       " (u'Laos', 8, set()),\n",
       " (u'Lopinavir/ritonavir', 8, set()),\n",
       " ('equal-01', 8, {'ARG1', 'ARG2'}),\n",
       " (u'Shenzhou_4', 8, set()),\n",
       " (u'SK_Hynix', 8, set()),\n",
       " (u'Warsaw_Pact', 8, set()),\n",
       " (u'A-135_anti-ballistic_missile_system', 7, set()),\n",
       " (u'Anti-Narcotics_Force', 7, set()),\n",
       " ('car-make', 7, {'ARG2-of', 'mod', 'name', 'poss', 'quant', 'wiki'}),\n",
       " (u'Moscow_Kremlin', 7, set()),\n",
       " (u'Chor_Chee_Heung', 7, set()),\n",
       " (u'International_Narcotics_Control_Board', 7, set()),\n",
       " (u'Sergei_Ivanov', 7, set()),\n",
       " (u'Istanbul_Cooperation_Initiative', 7, set()),\n",
       " (u'Hong_Kong', 7, set()),\n",
       " ('ocean', 7, {'name', 'wiki'}),\n",
       " (u'Manuel_Zelaya', 7, set()),\n",
       " (u'Ministry_of_National_Defense_(South_Korea)', 7, set()),\n",
       " ('peninsula', 7, {'location', 'name', 'wiki'}),\n",
       " (u'Ali_Ahmad_Jalali', 7, set()),\n",
       " (u'Hamid_Karzai', 7, set()),\n",
       " (u'Himalayas', 7, set()),\n",
       " (u'Ali_Mohamed_Shein', 7, set()),\n",
       " (u'Gordon_Brown', 7, set()),\n",
       " ('kilogram', 7, set()),\n",
       " ('originate-01', 7, {'ARG1', 'ARG2'}),\n",
       " (u'Jacqueline_McGlade', 7, set()),\n",
       " (u'Ingo_Kober', 7, set()),\n",
       " (u'Sukhoi_Su-30MKI', 7, set()),\n",
       " ('control-01', 7, {'ARG0', 'ARG1', 'ARG1-of', 'polarity'}),\n",
       " ('offense-02', 7, {'ARG0', 'ARG1', 'ARG1-of', 'domain', 'mod', 'polarity'}),\n",
       " ('fight-01', 7, {'ARG0', 'ARG2', 'instrument', 'location', 'manner'}),\n",
       " (u'Angela_Merkel', 7, set()),\n",
       " (u'Syed_Ali_Shah_Geelani', 7, set()),\n",
       " (u'Hmong_people', 7, set()),\n",
       " (u'Jack_Straw', 7, set()),\n",
       " (u'NATO', 7, set()),\n",
       " (u'Party', 7, set()),\n",
       " ('concern-02', 7, {'ARG0', 'ARG1', 'polarity'}),\n",
       " (u'Hindu_Forum_of_Britain', 7, set()),\n",
       " (u'National_League_for_Democracy', 7, set()),\n",
       " (u'RS-24_Yars', 7, set()),\n",
       " (u'World_Health_Organization', 7, set()),\n",
       " (u'Sistan_and_Baluchestan_Province', 7, set()),\n",
       " (u\"Alliance_'90/The_Greens\", 7, set()),\n",
       " ('hopeful-03', 7, {'ARG0', 'ARG1', 'time'}),\n",
       " (u'Parliament_of_the_United_Kingdom', 7, set()),\n",
       " (u'Costa_Rica', 7, set()),\n",
       " (u'Ho_Chi_Minh_City', 6, set()),\n",
       " (u'Bangladesh_Awami_League', 6, set()),\n",
       " (u'Aegis_Combat_System', 6, set()),\n",
       " (u'Olympic_Games', 6, set()),\n",
       " ('attend-02',\n",
       "  6,\n",
       "  {'ARG0', 'ARG1', 'ARG1-of', 'mod', 'polarity', 'quant', 'time'}),\n",
       " (u'Nikita_Belykh', 6, set()),\n",
       " (u'Rana_Hussein', 6, set()),\n",
       " (u'Food_and_Agriculture_Organization', 6, set()),\n",
       " (u'Associated_Press', 6, set()),\n",
       " (u'Union_of_Right_Forces', 6, set()),\n",
       " (u'Rein_Lang', 6, set()),\n",
       " (u'Federal_Supreme_Court_of_Switzerland', 6, set()),\n",
       " (u'United_Nations_Monitoring,_Verification_and_Inspection_Commission',\n",
       "  6,\n",
       "  set()),\n",
       " ('interrogative', 6, set()),\n",
       " (u'Airbus_Helicopters', 6, set()),\n",
       " ('language', 6, {'name', 'wiki'}),\n",
       " (u'Institute_for_Defence_Studies_and_Analyses', 6, set()),\n",
       " (u'Anatoly_Antonov', 6, set()),\n",
       " (u'Labour_Party_(UK)', 6, set()),\n",
       " (u\"Jane's_Defence_Weekly\", 6, set()),\n",
       " (u'Ministry_of_Foreign_Affairs_(South_Korea)', 6, set()),\n",
       " ('base-02', 6, {'ARG1', 'polarity'}),\n",
       " ('suppose-02', 6, {'ARG1', 'ARG2'}),\n",
       " ('make-01', 6, {'ARG0', 'ARG1', 'mod'}),\n",
       " (u'Peter_Struck', 6, set()),\n",
       " (u'Rohan_Gunaratna', 6, set()),\n",
       " (u'Anna_Lindh', 6, set()),\n",
       " (u'European_Parliament', 6, set()),\n",
       " ('prioritize-01',\n",
       "  6,\n",
       "  {'ARG0', 'ARG1', 'concession', 'condition', 'location', 'mod'}),\n",
       " ('access-01',\n",
       "  6,\n",
       "  {'ARG0',\n",
       "   'ARG1',\n",
       "   'ARG1-of',\n",
       "   'concession-of',\n",
       "   'duration',\n",
       "   'frequency',\n",
       "   'location',\n",
       "   'source',\n",
       "   'time'}),\n",
       " (u'Hillar_Aarelaid', 6, set()),\n",
       " (u'International_Security_Assistance_Force', 6, set()),\n",
       " ('resemble-01', 6, {'ARG1', 'ARG2'}),\n",
       " (u'AfriForum', 6, set()),\n",
       " ('reform-01', 6, set()),\n",
       " (u'International_Space_Station', 6, set()),\n",
       " (u'Poste_italiane', 6, set()),\n",
       " (u'Themba_Maseko', 6, set()),\n",
       " (u'Andrus_Ansip', 6, set()),\n",
       " ('equal', 6, set()),\n",
       " (u'Mohammad_Saeedi', 6, set()),\n",
       " ('speak-01', 6, {'ARG0', 'ARG0-of', 'ARG1', 'ARG2', 'time'}),\n",
       " (u'G8', 5, set()),\n",
       " (u'Andrew_Jennings', 5, set()),\n",
       " (u'Tzipi_Livni', 5, set()),\n",
       " (u'Ronald_Maddison', 5, set()),\n",
       " (u'Foreign_and_Commonwealth_Office', 5, set()),\n",
       " ('obligate-01', 5, {'ARG1', 'ARG2'}),\n",
       " (u'John_Howard', 5, set()),\n",
       " ('intercept-01', 5, {'ARG1', 'quant'}),\n",
       " (u'Pheung_Kya-shin', 5, set()),\n",
       " (u'Czech_Republic', 5, set()),\n",
       " (u'Ministry_of_Defense_(Japan)', 5, set()),\n",
       " ('separatism', 5, {'location'}),\n",
       " (u'The_Institute_of_Strategic_Studies', 5, set()),\n",
       " (u'The_Daily_Telegraph', 5, set()),\n",
       " ('precedent', 5, {'domain', 'polarity'}),\n",
       " ('revolution', 5, {'ARG0-of', 'name', 'wiki'}),\n",
       " ('group', 5, {'location', 'name', 'wiki'}),\n",
       " ('year', 5, set()),\n",
       " (u'Hla_Min', 5, set()),\n",
       " (u'Jeong_Se-hyun', 5, set()),\n",
       " (u'Korean_Peninsula_Energy_Development_Organization', 5, set()),\n",
       " (u'Eurasian_Youth_Union', 5, set()),\n",
       " (u'Abdullah_Ahmad_Badawi', 5, set()),\n",
       " ('initiate-01', 5, {'ARG0', 'ARG1', 'ARG1-of', 'beneficiary', 'mod'}),\n",
       " (u'Geraldo_Magela', 5, set()),\n",
       " (u'Myanmar', 5, set()),\n",
       " (u'The_Pentagon', 5, set()),\n",
       " ('more', 5, {'compared-to', 'degree'}),\n",
       " (u'FIFA_World_Cup', 5, set()),\n",
       " (u'Alexander_Vladimirovich_Yakovenko', 5, set()),\n",
       " (u'Parliament', 5, set()),\n",
       " (u'Hassan_Rouhani', 5, set()),\n",
       " ('mountain', 5, set()),\n",
       " (u'Dalai_Lama', 5, set()),\n",
       " (u'United_Wa_State_Army', 5, set()),\n",
       " ('counter-01', 5, {'ARG1'}),\n",
       " ('break-down-12', 5, {'ARG1', 'ARG1-of', 'location'}),\n",
       " (u'Ya_ba', 5, set()),\n",
       " (u'Sicilian_Mafia', 5, set()),\n",
       " (u'Robin_Cook', 5, set()),\n",
       " (u'Maryam_Rajavi', 5, set()),\n",
       " ('care-04', 5, {'ARG0', 'ARG1', 'polarity'}),\n",
       " (u'Kandahar_Province', 5, set()),\n",
       " ('build-up-05', 5, {'ARG1', 'ARG1-of', 'mod'}),\n",
       " (u'Yunus_Qanuni', 5, set()),\n",
       " ('rely-01', 5, {'ARG1', 'ARG1-of', 'degree'}),\n",
       " (u'Balkans', 5, set()),\n",
       " (u'Nicaraguan_Revolution', 5, set()),\n",
       " ('compete-02', 5, {'ARG1', 'ARG3', 'mod'}),\n",
       " (u'Korean_Peninsula', 5, set()),\n",
       " (u'Balochistan,_Pakistan', 5, set()),\n",
       " (u'Caspian_Sea', 5, set()),\n",
       " (u'David_Miliband', 5, set()),\n",
       " (u\"People's_Liberation_Army\", 5, set()),\n",
       " (u'Abdelaziz_Bouteflika', 5, set()),\n",
       " ('book', 5, {'name', 'wiki'}),\n",
       " (u'Danish_Defence_Intelligence_Service', 5, set()),\n",
       " ('enforce-01', 5, {'ARG1', 'polarity', 'time'}),\n",
       " (u'Financial_Times', 5, set()),\n",
       " (u'South_African_Transport_and_Allied_Workers_Union', 5, set()),\n",
       " (u'Vishwa_Nath_Sharma', 5, set()),\n",
       " (u'Pacific_Ocean', 4, set()),\n",
       " (u'Philip_Ruddock', 4, set()),\n",
       " (u'Igor_Ivanov', 4, set()),\n",
       " (u'Lim_Dong-won', 4, set()),\n",
       " (u'Jammu_and_Kashmir', 4, set()),\n",
       " (u'SEB_Pank', 4, set()),\n",
       " (u'Sea', 4, set()),\n",
       " (u'Ministry_of_Foreign_Affairs_(Russia)', 4, set()),\n",
       " (u'Lee_Myung-bak', 4, set()),\n",
       " (u'Joint_Intelligence_Committee_(United_Kingdom)', 4, set()),\n",
       " ('responsible-01', 4, {'ARG0', 'ARG1'}),\n",
       " (u'Volkswagen_Santana', 4, set()),\n",
       " (u'Viktor_Yushchenko', 4, set()),\n",
       " (u'Islamic_Movement_of_Uzbekistan', 4, set()),\n",
       " (u'Sydney_Mufamadi', 4, set()),\n",
       " ('old', 4, {'degree'}),\n",
       " (u'Kuala_Lumpur', 4, set()),\n",
       " (u'Kim_Jong-il', 4, set()),\n",
       " (u'International_Day_against_Drug_Abuse_and_Illicit_Trafficking', 4, set()),\n",
       " (u'Stockholm_International_Peace_Research_Institute', 4, set()),\n",
       " ('have-condition-91', 4, {'ARG1', 'ARG2', 'mod'}),\n",
       " (u'Anders_Fogh_Rasmussen', 4, set()),\n",
       " (u'Vienna_Economic_Forum', 4, set()),\n",
       " ('die-01', 4, {'degree', 'mod', 'time'}),\n",
       " (u'Australia', 4, set()),\n",
       " (u'Afghan_Special_Narcotics_Force', 4, set()),\n",
       " ('stand-11', 4, {'ARG0', 'ARG1', 'ARG2', 'mod', 'time'}),\n",
       " (u'American_Broadcasting_Company', 4, set()),\n",
       " (u'Londonistan_(term)', 4, set()),\n",
       " (u'Bell_Canada', 4, set()),\n",
       " (u'Latin_America', 4, set()),\n",
       " ('quantity', 4, {'ARG2-of', 'compared-to', 'degree'}),\n",
       " (u'Dumisani_Kumalo', 4, set()),\n",
       " (u'Vietnam_War', 4, set()),\n",
       " ('negotiate-01', 4, {'ARG2', 'ARG3-of', 'mod'}),\n",
       " ('reenter-01', 4, {'ARG0'}),\n",
       " (u'United', 4, set()),\n",
       " ('or', 4, {'op1', 'op2', 'op3'}),\n",
       " (u'Richard_Lugar', 4, set()),\n",
       " (u'Japanese_Communist_Party', 4, set()),\n",
       " ('state-01', 4, {'ARG0', 'ARG1', 'location'}),\n",
       " ('program', 4, {'mod', 'name', 'poss', 'topic', 'wiki'}),\n",
       " ('operate-01', 4, {'ARG1', 'polarity'}),\n",
       " (u'Nursultan_Nazarbayev', 4, set()),\n",
       " ('botnet', 4, set()),\n",
       " (u'Iraq_War', 4, set()),\n",
       " (u'North_America', 4, set()),\n",
       " ('know-01', 4, {'ARG0', 'ARG1', 'polarity'}),\n",
       " (u'South_Asia', 4, set()),\n",
       " (u'Ministry_of_Defence_(United_Kingdom)', 4, set()),\n",
       " (u'M._K._Narayanan', 4, set()),\n",
       " (u'International_Institute_for_Strategic_Studies', 4, set()),\n",
       " (u'Wouter_Basson', 4, set()),\n",
       " (u'Jamaat-e-Islami_Kashmir', 4, set()),\n",
       " (u'Montasser_el-Zayat', 4, set()),\n",
       " (u'The_New_York_Times', 4, set()),\n",
       " ('play-08', 4, {'ARG0', 'ARG1'}),\n",
       " (u'Far_East', 4, set()),\n",
       " (u'Manmohan_Singh', 4, set()),\n",
       " ('have-frequency-91', 4, {'ARG2'}),\n",
       " (u'Abdul_Rahman_bin_Hamad_Al_Attiyah', 4, set()),\n",
       " (u'Northern_Alliance', 4, set()),\n",
       " (u'1/2', 4, set()),\n",
       " (u'West_Africa', 4, set()),\n",
       " (u'Anti-Defamation_League', 4, set()),\n",
       " (u'Rio_de_Janeiro', 4, set()),\n",
       " (u'China', 4, set()),\n",
       " (u'Baltic_states', 4, set()),\n",
       " (u'Wen_Wei_Po', 4, set()),\n",
       " (u'Dmitry_Medvedev', 4, set()),\n",
       " (u'All_Parties_Hurriyat_Conference', 4, set()),\n",
       " (u'Mohammed_Daud_Daud', 4, set()),\n",
       " (u'Australian_Broadcasting_Corporation', 4, set()),\n",
       " ('market-01', 4, {'ARG1-of'}),\n",
       " (u'Ministry_of_Foreign_Affairs_(Singapore)', 4, set()),\n",
       " (u'Pascal_Couchepin', 4, set()),\n",
       " (u'Arabic_language', 4, set()),\n",
       " (u'The_Guardian', 4, set()),\n",
       " (u'S-400_(missile)', 4, set()),\n",
       " (u'An_Yue_Jiang', 4, set()),\n",
       " ('remit-01', 4, {'ARG2', 'manner', 'mod'}),\n",
       " (u'Sejong_the_Great-class_destroyer', 4, set()),\n",
       " (u'Mohammed_Mahdi_Akef', 4, set()),\n",
       " (u'National_Command_Authority_(Pakistan)', 4, set()),\n",
       " (u'Japan', 4, set()),\n",
       " ('other', 4, set()),\n",
       " (u'RT-2PM2_Topol-M', 3, set()),\n",
       " (u'Jaak_Aaviksoo', 3, set()),\n",
       " ('avoid-01', 3, {'ARG1'}),\n",
       " (u'Agreed_Framework', 3, set()),\n",
       " (u'Van_Tuong_Nguyen', 3, set()),\n",
       " ('oppose-01', 3, {'ARG1'}),\n",
       " (u'Miguel_Obando_y_Bravo', 3, set()),\n",
       " ('have-quant-91', 3, {'ARG1', 'ARG2'}),\n",
       " (u'World_Bank', 3, set()),\n",
       " (u'New_Scientist', 3, set()),\n",
       " (u'Parliament_of_Egypt', 3, set()),\n",
       " ('president', 3, set()),\n",
       " (u'Ministry_of_Foreign_Affairs_(Japan)', 3, set()),\n",
       " (u'Boris_Kagarlitsky', 3, set()),\n",
       " ('spread-02', 3, {'ARG1-of', 'degree'}),\n",
       " (u'House_of_Representatives_(Japan)', 3, set()),\n",
       " ('carry-01', 3, {'ARG1'}),\n",
       " ('be-temporally-at-91', 3, {'ARG1', 'ARG2'}),\n",
       " (u'Ministry_of_Defence_(Russia)', 3, set()),\n",
       " (u'Dai_Bingguo', 3, set()),\n",
       " (u'AFC_Asian_Cup', 3, set()),\n",
       " (u'National_Intelligence_Estimate', 3, set()),\n",
       " (u'The_Times', 3, set()),\n",
       " (u'ITAR-TASS', 3, set()),\n",
       " ('02', 3, set()),\n",
       " ('responsible-03', 3, {'ARG0', 'ARG1'}),\n",
       " (u'Russian_News_Agency_%22TASS%22', 3, set()),\n",
       " ('respect-01', 3, {'ARG0', 'ARG1', 'mod'}),\n",
       " ('initiative', 3, {'mod', 'name', 'wiki'}),\n",
       " ('account-01', 3, {'ARG0', 'ARG1', 'ARG1-of', 'location', 'polarity'}),\n",
       " (u'Kaliningrad_Oblast', 3, set()),\n",
       " (u'Hindustan_Times', 3, set()),\n",
       " ('come-in-07', 3, set()),\n",
       " (u'Sicily', 3, set()),\n",
       " ('export-01', 3, {'ARG0', 'ARG1', 'compared-to', 'degree'}),\n",
       " ('leftism', 3, set()),\n",
       " (u'Porton_Down', 3, set()),\n",
       " (u'Quran', 3, set()),\n",
       " (u'Robert_Mugabe', 3, set()),\n",
       " (u'Liu_Jianchao', 3, set()),\n",
       " (u'A-35_anti-ballistic_missile_system', 3, set()),\n",
       " (u'Philippines', 3, set()),\n",
       " (u'Joschka_Fischer', 3, set()),\n",
       " (u'Zelimkhan_Yandarbiyev', 3, set()),\n",
       " ('port', 3, {'name', 'wiki'}),\n",
       " (u'Serbia_and_Montenegro', 3, set()),\n",
       " (u'The_Majalla', 3, set()),\n",
       " ('nation', 3, {'ARG0-of', 'quant'}),\n",
       " ('go-on-15', 3, set()),\n",
       " (u'Zacarias_Moussaoui', 3, set()),\n",
       " (u'Syed_Hamid_Albar', 3, set()),\n",
       " (u'Humberto_Costa', 3, set()),\n",
       " (u'Adrar,_Algeria', 3, set()),\n",
       " (u'Joseph_Cirincione', 3, set()),\n",
       " (u'Hasan_Askari_Rizvi', 3, set()),\n",
       " ('depend-01', 3, {'polarity'}),\n",
       " (u'Indian_Navy', 3, set()),\n",
       " ('11', 3, set()),\n",
       " (u'Research_and_Analysis_Wing', 3, set()),\n",
       " (u'Iftikhar_Ahmed', 3, set()),\n",
       " (u'Cape_Verde', 3, set()),\n",
       " ('power-quantity', 3, {'quant', 'unit'}),\n",
       " ('gulf', 3, {'name', 'wiki'}),\n",
       " ('cease-01', 3, {'ARG0', 'ARG1'}),\n",
       " ('percentage-entity', 3, {'ARG3-of', 'value'}),\n",
       " ('former', 3, set()),\n",
       " ('rival-01', 3, {'ARG0', 'polarity'}),\n",
       " (u'Ahmed_Wali_Karzai', 3, set()),\n",
       " (u'Sajida_Talfah', 3, set()),\n",
       " (u'China_Times', 3, set()),\n",
       " (u'Shenzhou_3', 3, set()),\n",
       " ('align-01', 3, {'ARG1', 'ARG2'}),\n",
       " (u'of', 3, set()),\n",
       " (u'U.S.', 3, set()),\n",
       " (u'Gulf_Cooperation_Council', 3, set()),\n",
       " ('nucleus', 3, set()),\n",
       " ('building', 3, {'mod', 'name', 'wiki'}),\n",
       " (u'Robin_Butler,_Baron_Butler_of_Brockwell', 3, set()),\n",
       " (u'Islamic_Jihad_Movement_in_Palestine', 3, set()),\n",
       " (u'NPT', 3, set()),\n",
       " ('resolve-01', 3, {'ARG1', 'polarity'}),\n",
       " ('anger-01', 3, {'ARG0', 'ARG1'}),\n",
       " (u'Europe', 3, set()),\n",
       " (u'Joseph_Stalin', 3, set()),\n",
       " (u'National_Assembly_(Bulgaria)', 3, set()),\n",
       " (u'Ramesh_Kallidai', 3, set()),\n",
       " ('partake-01', 3, {'ARG0', 'ARG1'}),\n",
       " (u'Syria', 3, set()),\n",
       " (u'South_Ossetia', 3, set()),\n",
       " ('train-01', 3, set()),\n",
       " (u'Project_Coast', 3, set()),\n",
       " (u'International_Commission_on_Nuclear_Non-proliferation_and_Disarmament',\n",
       "  3,\n",
       "  set()),\n",
       " ('city-district', 3, {'location', 'mod', 'name', 'wiki'}),\n",
       " ('part', 3, set()),\n",
       " ('cleric', 3, set()),\n",
       " (u'Korea_Train_Express', 3, set()),\n",
       " (u'Indian_Air_Force', 3, set()),\n",
       " (u'Ministry_of_National_Defense_(Republic_of_China)', 3, set()),\n",
       " (u'Shaukat_Aziz', 3, set()),\n",
       " (u'Muslim', 3, set()),\n",
       " (u'Mahmoud_Ahmadinejad', 3, set()),\n",
       " ('river', 3, {'name', 'wiki'}),\n",
       " (u'Silvio_Berlusconi', 3, set()),\n",
       " ('say-01', 3, {'ARG0', 'ARG1'}),\n",
       " (u'Global_Forum_for_Health_Research', 3, set()),\n",
       " (u'European_Parliament_Committee_on_Foreign_Affairs', 3, set()),\n",
       " ('have-manner-91', 3, {'ARG1', 'ARG2'}),\n",
       " ('product-of', 3, {'op1', 'op2'}),\n",
       " ('ground-00', 3, {'ARG1', 'polarity'}),\n",
       " (u'Uday_Hussein', 3, set()),\n",
       " (u'Ministry_of_Interior_(Saudi_Arabia)', 3, set()),\n",
       " ('advise-01', 3, {'ARG0', 'ARG1-of', 'ARG2', 'polarity'}),\n",
       " (u'Daniel_Ortega', 3, set()),\n",
       " ('planet', 3, {'name', 'wiki'}),\n",
       " (u'Sukhoi_Su-35', 3, set()),\n",
       " (u'Federal_Security_Service', 3, set()),\n",
       " (u'United_States_Department_of_Defense', 3, set()),\n",
       " (u'Bangladesh_Jamaat-e-Islami', 3, set()),\n",
       " (u'Qaed_Salim_Sinan_al-Harethi', 3, set()),\n",
       " (u'Ariane_4', 3, set()),\n",
       " (u'Mohammed_Atef', 3, set()),\n",
       " (u'Chen_Shui-bian', 3, set()),\n",
       " (u'Najib_Razak', 3, set()),\n",
       " (u'Bosnia_and_Herzegovina', 3, set()),\n",
       " (u'John_R._Bolton', 3, set()),\n",
       " (u'Yazid_Sufaat', 3, set()),\n",
       " (u'Anastasio_Somoza_Debayle', 3, set()),\n",
       " (u'Ministry_of_the_Interior_(Afghanistan)', 3, set()),\n",
       " ('electronics', 3, set()),\n",
       " (u'Influenza_A_virus_subtype_H5N1', 3, set()),\n",
       " ('explode-01', 3, {'ARG1-of'}),\n",
       " (u'Dynamic_random-access_memory', 3, set()),\n",
       " (u'B._Raman', 3, set()),\n",
       " (u'Shehzad_Tanweer', 3, set()),\n",
       " (u'New_Light_of_Myanmar', 3, set()),\n",
       " ('name-01', 3, {'ARG1', 'ARG2', 'location', 'mod', 'time'}),\n",
       " ('drug', 3, {'ARG1-of'}),\n",
       " ('absent-01', 3, {'ARG1'}),\n",
       " (u'Nations', 3, set()),\n",
       " (u'Conservative_Party_(UK)', 3, set()),\n",
       " ('weapon', 3, {'mod'}),\n",
       " (u'States', 3, set()),\n",
       " (u'Aung_San_Suu_Kyi', 3, set()),\n",
       " (u'Mediterranean_Sea', 3, set()),\n",
       " (u'Pavel_Felgenhauer', 3, set()),\n",
       " ('employ-01', 3, {'ARG1', 'ARG1-of', 'polarity'}),\n",
       " (u'French_Guiana', 3, set()),\n",
       " (u'Canadian_Broadcasting_Corporation', 3, set()),\n",
       " (u'UN', 3, set()),\n",
       " (u'Total_S.A.', 3, set()),\n",
       " (u'Vietnam_News_Agency', 3, set()),\n",
       " (u'The_Korea_Herald', 3, set()),\n",
       " (u'Federal_Bureau_of_Investigation', 3, set()),\n",
       " (u'Port_of_Durban', 3, set()),\n",
       " (u'Qusay_Hussein', 3, set()),\n",
       " (u'East_Asia', 3, set()),\n",
       " ('narcotic', 2, set()),\n",
       " (u'Hedayat_Amin_Arsala', 2, set()),\n",
       " (u'Bali_Nine', 2, set()),\n",
       " (u'South_America', 2, set()),\n",
       " (u'Greens', 2, set()),\n",
       " ('catastrophe', 2, set()),\n",
       " (u'Central_Board_of_Excise_and_Customs', 2, set()),\n",
       " (u'Ministry', 2, set()),\n",
       " ('award', 2, {'name', 'wiki'}),\n",
       " ('worm', 2, {'name', 'wiki'}),\n",
       " (u'South_African_Revenue_Service', 2, set()),\n",
       " (u'Bandar_Abbas', 2, set()),\n",
       " (u'Preparatory_Committee_for_an_Arms_Trade_Treaty', 2, set()),\n",
       " (u'Ariel_Sharon', 2, set()),\n",
       " (u'China_General_Nuclear_Power_Group', 2, set()),\n",
       " (u'Ocean', 2, set()),\n",
       " (u'Kashagan_Field', 2, set()),\n",
       " ('launch-01', 2, {'ARG1', 'ARG1-of'}),\n",
       " (u'Ubolratana_Rajakanya', 2, set()),\n",
       " (u'China_News_Service', 2, set()),\n",
       " (u'Chitrapu_Uday_Bhaskar', 2, set()),\n",
       " ('rule-03', 2, {'ARG0', 'duration'}),\n",
       " (u'Year_2000_problem', 2, set()),\n",
       " (u'American_Jews', 2, set()),\n",
       " (u'Hu_Jintao', 2, set()),\n",
       " (u'Aziz_Pahad', 2, set()),\n",
       " ('approximately', 2, {'op1'}),\n",
       " (u'Alexander', 2, set()),\n",
       " (u'Horn_of_Africa', 2, set()),\n",
       " (u'Abdul_Qadeer_Khan', 2, set()),\n",
       " (u'Western_Germany', 2, set()),\n",
       " (u'The_Wall_Street_Journal', 2, set()),\n",
       " (u'Hepatitis_B_virus', 2, set()),\n",
       " (u'Transnistria', 2, set()),\n",
       " (u'Pakistan_Atomic_Energy_Commission', 2, set()),\n",
       " (u'Harkat-ul-Mujahideen', 2, set()),\n",
       " ('break-through-26', 2, {'ARG0', 'ARG1', 'polarity'}),\n",
       " (u'Arms_Control_Association', 2, set()),\n",
       " ('05', 2, set()),\n",
       " ('command-02', 2, {'ARG1'}),\n",
       " (u'2010_NPT_Review_Conference', 2, set()),\n",
       " ('sustain-01', 2, {'ARG1-of'}),\n",
       " ('derive-01', 2, {'ARG1'}),\n",
       " ('conference', 2, {'frequency', 'location', 'mod', 'name', 'time', 'wiki'}),\n",
       " ('except-01', 2, {'ARG1'}),\n",
       " ('regret-01', 2, {'ARG1'}),\n",
       " (u'Patriot_Act_Terrorist_Exclusion_List', 2, set()),\n",
       " (u'Indian_(airline)', 2, set()),\n",
       " ('proliferate-01', 2, {'ARG0', 'polarity'}),\n",
       " (u'North_London_Central_Mosque', 2, set()),\n",
       " ('retail-01', 2, set()),\n",
       " (u'Pakistan', 2, set()),\n",
       " (u'Magnus_Ranstorp', 2, set()),\n",
       " ('local-region', 2, {'name', 'wiki'}),\n",
       " (u'Center_for_Strategic_and_International_Studies', 2, set()),\n",
       " (u'Bros.', 2, set()),\n",
       " (u'Economic_Community_of_West_African_States', 2, set()),\n",
       " (u'Cooperative_Cyber_Defence_Centre_of_Excellence', 2, set()),\n",
       " ('railway-line', 2, {'name', 'wiki'}),\n",
       " (u'GMT', 2, set()),\n",
       " ('covert', 2, set()),\n",
       " ('reserve-01', 2, {'ARG0', 'ARG1', 'ARG2', 'time'}),\n",
       " ('pirate-01', 2, {'mod'}),\n",
       " ('time', 2, {'ARG3-of', 'time-of'}),\n",
       " (u'Republic', 2, set()),\n",
       " ('cyber', 2, set()),\n",
       " (u'Laukkai', 2, set()),\n",
       " (u'Kirin_Company', 2, set()),\n",
       " (u'Abu_Hamza_al-Masri', 2, set()),\n",
       " (u'Socialist_Party_(France)', 2, set()),\n",
       " (u'Hsiung_Feng_IIE', 2, set()),\n",
       " (u'Interpol', 2, set()),\n",
       " ('add-02', 2, {'ARG2'}),\n",
       " (u'Thirwat_Shehata', 2, set()),\n",
       " (u'Warner_Bros.', 2, set()),\n",
       " (u'Atlantic_Ocean', 2, set()),\n",
       " (u'Federal_Senate', 2, set()),\n",
       " (u'International_Boxing_Association_(amateur)', 2, set()),\n",
       " (u'Micheline_Calmy-Rey', 2, set()),\n",
       " ('policy', 2, {'topic'}),\n",
       " (u'Cougar_Helicopters', 2, set()),\n",
       " (u'Atomic_Energy_Organization_of_Iran', 2, set()),\n",
       " (u'ILOVEYOU', 2, set()),\n",
       " (u'Berkeley,_California', 2, set()),\n",
       " (u'Youssef_Amrani', 2, set()),\n",
       " (u'Missile_Technology_Control_Regime', 2, set()),\n",
       " (u'Chashma,_Pakistan', 2, set()),\n",
       " (u'China_Precision_Machinery_Import-Export_Corporation', 2, set()),\n",
       " (u'House_of_Councillors_(Japan)', 2, set()),\n",
       " (u'Ministry_of_Interior_(Libya)', 2, set()),\n",
       " ('10', 2, set()),\n",
       " (u'Mikoyan-Gurevich_MiG-21', 2, set()),\n",
       " (u'Patrick_Kron', 2, set()),\n",
       " (u'United_States_Institute_of_Peace', 2, set()),\n",
       " (u'National_Diet', 2, set()),\n",
       " (u'Maritime_Jewel', 2, set()),\n",
       " (u'Economic_Cooperation_Organization', 2, set()),\n",
       " (u'Pan_American_World_Airways', 2, set()),\n",
       " (u'Korean_Central_News_Agency', 2, set()),\n",
       " (u'Shan_Nationalities_Democratic_Party', 2, set()),\n",
       " ('intend-01', 2, {'ARG0', 'polarity'}),\n",
       " (u'Ministry_of_Foreign_Affairs_and_International_Development_(France)',\n",
       "  2,\n",
       "  set()),\n",
       " ('have-subevent-91', 2, {'ARG1', 'ARG2'}),\n",
       " ('3', 2, set()),\n",
       " (u'University_of_California', 2, set()),\n",
       " ('firewall', 2, {'mod'}),\n",
       " (u'Stockwell_Day', 2, set()),\n",
       " ('imprison-01', 2, {'ARG2'}),\n",
       " ('settle-03', 2, set()),\n",
       " ('compose-01', 2, {'ARG1', 'ARG2'}),\n",
       " (u'Western_Europe', 2, set()),\n",
       " ('betray-01', 2, set()),\n",
       " ('score-entity', 2, {'op1', 'op2'}),\n",
       " (u'Iranian_Students_News_Agency', 2, set()),\n",
       " (u'Mas_Selamat_bin_Kastari', 2, set()),\n",
       " (u'General_Motors', 2, set()),\n",
       " (u'African_Great_Lakes', 2, set()),\n",
       " (u'Supreme_National_Security_Council', 2, set()),\n",
       " ('4', 2, set()),\n",
       " (u'Marouf_al-Bakhit', 2, set()),\n",
       " ('2000000', 2, set()),\n",
       " (u'World_Trade_Organization', 2, set()),\n",
       " (u'Shenzhou_(spacecraft)', 2, set()),\n",
       " (u'Pranab_Mukherjee', 2, set()),\n",
       " ('reexport-01', 2, {'ARG0', 'ARG1'}),\n",
       " ('moon', 2, {'name', 'wiki'}),\n",
       " ('methamphetamine', 2, {'ARG1-of', 'mod', 'quant'}),\n",
       " ('disarm-01', 2, set()),\n",
       " (u'Vietnam', 2, set()),\n",
       " ('road', 2, {'name', 'wiki'}),\n",
       " (u'Leonid_Kuchma', 2, set()),\n",
       " (u\"Workers'_Party_of_Korea\", 2, set()),\n",
       " ('valley', 2, {'name', 'wiki'}),\n",
       " (u'The_Hague', 2, set()),\n",
       " (u'English_language', 2, set()),\n",
       " (u'Operation_Achilles', 2, set()),\n",
       " ('general', 2, set()),\n",
       " (u'Central_Intelligence_Agency', 2, set()),\n",
       " (u'World_Learning', 2, set()),\n",
       " ('all', 2, set()),\n",
       " (u'Megawati_Sukarnoputri', 2, set()),\n",
       " ('spirit', 2, {'mod', 'poss'}),\n",
       " (u'North_American_Electric_Reliability_Corporation', 2, set()),\n",
       " ('restrain-01', 2, {'polarity'}),\n",
       " (u'Jaish-e-Mohammed', 2, set()),\n",
       " (u'Yoriko_Kawaguchi', 2, set()),\n",
       " (u'Kevin_Rudd', 2, set()),\n",
       " (u'Korea', 2, set()),\n",
       " (u'Yasuo_Fukuda', 2, set()),\n",
       " (u'Russian_Navy', 2, set()),\n",
       " (u'The_Chosun_Ilbo', 2, set()),\n",
       " ('airport', 2, {'name', 'poss', 'wiki'}),\n",
       " (u'Central_Narcotics_Bureau', 2, set()),\n",
       " (u'Federal_Office_of_Economics_and_Export_Control', 2, set()),\n",
       " (u'Code_Red_(computer_worm)', 2, set()),\n",
       " (u'HM_Prison_Belmarsh', 2, set()),\n",
       " (u'Association_of_German_Chambers_of_Industry_and_Commerce', 2, set()),\n",
       " (u'Republic_of_Korea_Air_Force', 2, set()),\n",
       " (u'Palace_of_Westminster', 2, set()),\n",
       " (u'TSMC', 2, set()),\n",
       " (u'Khorramabad', 2, set()),\n",
       " (u'Egyptian_Islamic_Jihad', 2, set()),\n",
       " (u'Microsoft_SQL_Server', 2, set()),\n",
       " ('fundamental', 2, set()),\n",
       " (u'Gregory_Schulte', 2, set()),\n",
       " (u'5:30', 2, set()),\n",
       " (u'Bashar_al-Assad', 2, set()),\n",
       " ('defraud-01', 2, set()),\n",
       " (u'Arrow_(Israeli_missile)', 2, set()),\n",
       " ('rebel-01', 2, {'ARG0', 'ARG1-of', 'mod'}),\n",
       " ('reactivate-01', 2, {'ARG0', 'ARG1', 'time'}),\n",
       " (u'Dassault_Mirage_2000', 2, set()),\n",
       " (u'Derek_Twigg', 2, set()),\n",
       " (u'Saudi_Press_Agency', 2, set()),\n",
       " (u'Lockheed_Martin', 2, set()),\n",
       " (u'Spaces', 2, set()),\n",
       " (u'Arak,_Iran', 2, set()),\n",
       " (u'Time_(magazine)', 2, set()),\n",
       " ('virus', 2, set()),\n",
       " (u'The', 2, set()),\n",
       " (u'Harvard_University', 2, set()),\n",
       " (u'Albanian_mafia', 2, set()),\n",
       " (u'Shan_State', 2, set()),\n",
       " ('desire-01', 2, {'polarity'}),\n",
       " (u'France', 2, set()),\n",
       " ('arm', 2, set()),\n",
       " (u'9K720_Iskander', 2, set()),\n",
       " (u'Bojnord', 2, set()),\n",
       " (u'Ministry_of_Public_Security_(Vietnam)', 2, set()),\n",
       " (u'Asahi_Shimbun', 2, set()),\n",
       " (u'Tin_Hlaing', 2, set()),\n",
       " (u'Secretariat-General_for_National_Defence_and_Security_(France)', 2, set()),\n",
       " (u'The_Sydney_Morning_Herald', 2, set()),\n",
       " (u'Ministry_of_Defence_(Thailand)', 2, set()),\n",
       " (u'Apollo_program', 2, set()),\n",
       " ('fleet', 2, {'name', 'wiki'}),\n",
       " (u'Ministry_of_Finance_(India)', 2, set()),\n",
       " (u'United_Nations_Security_Council_Resolution_1718', 2, set()),\n",
       " (u'Abu_Sayyaf', 2, set()),\n",
       " (u'USS_Cole_(DDG-67)', 2, set()),\n",
       " (u'Kofi_Annan', 2, set()),\n",
       " ('wide-02', 2, set()),\n",
       " ('profit-01', 2, {'polarity'}),\n",
       " (u'Arab_Maghreb_Union', 2, set()),\n",
       " (u'Bangladesh_Nationalist_Party', 2, set()),\n",
       " (u'Defence_Research_and_Development_Organisation', 2, set()),\n",
       " ('prevent-01', 2, set()),\n",
       " (u'House_of_Commons_of_the_United_Kingdom', 2, set()),\n",
       " (u'Province_of_Valencia', 2, set()),\n",
       " (u'Richard_Feachem', 2, set()),\n",
       " (u'Al_Jazeera', 2, set()),\n",
       " (u'Eurofighter_GmbH', 2, set()),\n",
       " (u'Fars_News_Agency', 2, set()),\n",
       " (u'Nobel_Peace_Prize', 2, set()),\n",
       " (u'Computer_emergency_response_team', 2, set()),\n",
       " ('2003', 2, set()),\n",
       " ('2000', 2, set()),\n",
       " (u'Russian_Air_Force', 2, set()),\n",
       " ('realty', 2, set()),\n",
       " ('afford-01', 2, {'ARG1', 'ARG1-of'}),\n",
       " (u'Ploughshares_Fund', 2, set()),\n",
       " ('reelect-01', 2, {'ARG1', 'time'}),\n",
       " ('entire', 2, set()),\n",
       " ('ballist', 2, set()),\n",
       " ('capital', 2, {'mod'}),\n",
       " (u'Old_Bailey', 2, set()),\n",
       " (u'Kingdom', 2, set()),\n",
       " (u'Saber_Hossain_Chowdhury', 2, set()),\n",
       " ('gene', 2, set()),\n",
       " ('vehicle', 2, {'ARG0-of', 'ARG1-of', 'quant'}),\n",
       " (u'Izz_ad-Din_al-Qassam_Brigades', 2, set()),\n",
       " ('induct-02', 2, {'ARG1'}),\n",
       " ('this', 2, set()),\n",
       " (u'Mikoyan_MiG-29', 2, set()),\n",
       " (u'KTF', 2, set()),\n",
       " (u'Mohammad_Farooq', 2, set()),\n",
       " ('include-01', 2, {'ARG1', 'ARG2'}),\n",
       " ('imply-01', 2, {'ARG0'}),\n",
       " ('move-01', 2, {'ARG1', 'ARG2', 'time'}),\n",
       " ('kill-01', 2, {'ARG0', 'ARG1', 'time'}),\n",
       " ('globe', 2, set()),\n",
       " (u'RT-2PM_Topol', 2, set()),\n",
       " ('strike-01', 2, {'ARG1', 'ARG2', 'quant'}),\n",
       " ('racketeer-00', 2, set()),\n",
       " (u'Iran', 2, set()),\n",
       " ('festival', 2, {'name', 'time', 'wiki'}),\n",
       " (u'National_Assembly_(South_Korea)', 2, set()),\n",
       " (u'Shireen_Mazari', 2, set()),\n",
       " (u'Tasneem_Noorani', 2, set()),\n",
       " (u'Ministry_of_Interior_(Iraq)', 2, set()),\n",
       " (u'Institute_for_Science_and_International_Security', 2, set()),\n",
       " ('birth-01', 2, {'ARG1', 'location'}),\n",
       " (u'Games', 2, set()),\n",
       " (u'Hamdeen_Sabahi', 2, set()),\n",
       " (u'Chinese_language', 2, set()),\n",
       " (u'United_Nations_Office_for_Disarmament_Affairs', 2, set()),\n",
       " (u'Brazilian_Air_Force', 2, set()),\n",
       " ('hacktivist', 2, {'ARG0-of', 'mod'}),\n",
       " (u'Ofeq', 2, set()),\n",
       " (u'River_Thames', 2, set()),\n",
       " (u'Siem_Reap', 2, set()),\n",
       " (u'Ministry_of_Culture,_Sports_and_Tourism_(Vietnam)', 2, set()),\n",
       " (u'Joe_Lieberman', 2, set()),\n",
       " (u'Kyodo_News', 2, set()),\n",
       " (u'Line_of_Control', 2, set()),\n",
       " ('email', 2, {'ARG2-of'}),\n",
       " (u'Central_Criminal_Court_of_Iraq', 2, set()),\n",
       " ('reexamine-01', 2, {'ARG0', 'ARG1', 'ARG1-of'}),\n",
       " (u'International_Red_Cross_and_Red_Crescent_Movement', 2, set()),\n",
       " (u'Trident_(missile)', 2, set()),\n",
       " (u'Nassir_Abdulaziz_Al-Nasser', 2, set()),\n",
       " (u'Inner_Mongolia', 2, set()),\n",
       " (u'Yazd_Province', 2, set()),\n",
       " (u'Meningitis#Bacterial', 2, set()),\n",
       " (u'Collective_Security_Treaty_Organization', 2, set()),\n",
       " ('crime-02', 2, set()),\n",
       " (u'Fidel_Castro', 2, set()),\n",
       " ('flee-05', 2, {'ARG0', 'time'}),\n",
       " ('meet-01', 2, {'polarity'}),\n",
       " (u'Presidency_of_the_Council_of_the_European_Union', 2, set()),\n",
       " (u'Yomiuri_Shimbun', 2, set()),\n",
       " (u'Al-Azhar_University', 2, set()),\n",
       " (u'United_States_Senate_Committee_on_Foreign_Relations', 2, set()),\n",
       " ('rocket', 2, {'ARG0-of', 'name', 'wiki'}),\n",
       " (u'Department_of_National_Defence_(Canada)', 2, set()),\n",
       " (u'Phillipines', 2, set()),\n",
       " (u'Conference_on_Disarmament', 2, set()),\n",
       " (u'State_Space_Agency_of_Ukraine', 2, set()),\n",
       " (u'Chunghwa_Telecom', 2, set()),\n",
       " ('notice-01', 2, {'ARG1', 'ARG1-of'}),\n",
       " ('arm-01', 2, {'polarity'}),\n",
       " ('require-01', 2, {'ARG0', 'ARG1'}),\n",
       " (u'Sheikh_Fazlul_Karim,_Selim', 2, set()),\n",
       " ('official', 2, set()),\n",
       " ('break-13', 2, {'ARG1', 'ARG1-of'}),\n",
       " (u'Khaleda_Zia', 2, set()),\n",
       " (u'Britain', 2, set()),\n",
       " (u'Kawasaki_Heavy_Industries', 2, set()),\n",
       " (u'Herat_Province', 2, set()),\n",
       " (u'Andrey_Belyaninov', 2, set()),\n",
       " (u'Olympics', 1, set()),\n",
       " (u'Jiang_Zemin', 1, set()),\n",
       " (u'Kamayut_Township', 1, set()),\n",
       " (u'Helen_Hughes', 1, set()),\n",
       " ('under', 1, {'op1'}),\n",
       " (u'David_Kelly_(weapons_expert)', 1, set()),\n",
       " ('transcribe-01', 1, {'ARG2'}),\n",
       " (u'Khurshid_Mahmud_Kasuri', 1, set()),\n",
       " (u'Macquarie_University', 1, set()),\n",
       " ('courageous', 1, set()),\n",
       " ('school', 1, {'name', 'wiki'}),\n",
       " (u'Catholic_Civil_Rights_League', 1, set()),\n",
       " ('poppy', 1, set()),\n",
       " (u'Conventional', 1, set()),\n",
       " (u'Priscilla_A._Clapp', 1, set()),\n",
       " (u'Global_Telecom_Holding', 1, set()),\n",
       " (u'Democrats_(Brazil)', 1, set()),\n",
       " ('mobile-02', 1, set()),\n",
       " ('bound-09', 1, {'polarity'}),\n",
       " ('narrate-01', 1, set()),\n",
       " (u'Nigel_Griffiths', 1, set()),\n",
       " (u'Downing_Street', 1, set()),\n",
       " ('load-01', 1, set()),\n",
       " ('lieutenant-colonel', 1, set()),\n",
       " (u'Hun_Sen', 1, set()),\n",
       " (u'Hosni_Mubarak', 1, set()),\n",
       " (u'Leonid_Kadeniuk', 1, set()),\n",
       " (u'Plesetsk_Cosmodrome', 1, set()),\n",
       " (u'South_African_National_Defence_Force', 1, set()),\n",
       " (u'Cluster_Munition_Coalition', 1, set()),\n",
       " (u'Ministry_of_External_Affairs_(India)', 1, set()),\n",
       " ('flow-01', 1, {'ARG1', 'direction'}),\n",
       " ('try-01', 1, {'ARG0', 'ARG1', 'polarity', 'time'}),\n",
       " ('reemerge-01', 1, {'ARG0', 'time'}),\n",
       " ('until', 1, {'op1'}),\n",
       " (u'Inertial_navigation_system', 1, set()),\n",
       " ('91', 1, set()),\n",
       " ('90', 1, set()),\n",
       " ('regulate-01', 1, {'ARG1', 'polarity'}),\n",
       " (u'Abdullah_of_Saudi_Arabia', 1, set()),\n",
       " ('destabilize-01', 1, {'location', 'mod'}),\n",
       " ('era', 1, {'mod'}),\n",
       " (u'Muhammad_Iqbal', 1, set()),\n",
       " (u'McAfee', 1, set()),\n",
       " ('mix-01', 1, {'ARG1'}),\n",
       " (u'Francis_Mer', 1, set()),\n",
       " (u'Institute_of_Southeast_Asian_Studies', 1, set()),\n",
       " ('appreciate-03', 1, {'ARG1-of'}),\n",
       " (u'Paya_Lebar_Air_Base', 1, set()),\n",
       " (u'Chung_Cheong_University', 1, set()),\n",
       " ('lieutenant-general', 1, set()),\n",
       " ('surround-01', 1, {'ARG2'}),\n",
       " ('deck', 1, {'quant'}),\n",
       " ('over', 1, {'op1'}),\n",
       " (u'Global_Positioning_System', 1, set()),\n",
       " ('at-least', 1, {'op1'}),\n",
       " ('fail-01', 1, {'ARG2'}),\n",
       " (u'World_Heritage_Site', 1, set()),\n",
       " (u'Thrombosis', 1, set()),\n",
       " (u'Hatay_Province', 1, set()),\n",
       " ('meat', 1, {'consist-of'}),\n",
       " (u'Salvatore_Riina', 1, set()),\n",
       " (u'India', 1, set()),\n",
       " (u'Democratic_Party_(South_Korea,_2000)', 1, set()),\n",
       " ('side', 1, {'part-of'}),\n",
       " (u'Bethesda,_Maryland', 1, set()),\n",
       " ('navy', 1, {'poss'}),\n",
       " (u'Asia-Pacific', 1, set()),\n",
       " (u'Ernesto_Zedillo', 1, set()),\n",
       " (u'Embraer_EMB_314_Super_Tucano', 1, set()),\n",
       " ('designate-01', 1, {'ARG0'}),\n",
       " ('foresee-01', 1, set()),\n",
       " (u'Omar_Bakri_Muhammad', 1, set()),\n",
       " (u'British_Armed_Forces', 1, set()),\n",
       " ('weaken-01', 1, {'ARG0', 'ARG1'}),\n",
       " (u'Ministry_of_Defence_(India)', 1, set()),\n",
       " (u'U.K.', 1, set()),\n",
       " (u'History_of_Libya_under_Muammar_Gaddafi#Great_Socialist_People.27s_Libyan_Arab_Jamahiriya_.281977.E2.80.932011.29',\n",
       "  1,\n",
       "  set()),\n",
       " (u'Jimmy_Carter', 1, set()),\n",
       " (u'AltaVista', 1, set()),\n",
       " (u'Alcatel-Lucent', 1, set()),\n",
       " (u'Volkswagen', 1, set()),\n",
       " ('enable-01', 1, {'ARG1'}),\n",
       " ('pervert-00', 1, {'ARG1'}),\n",
       " (u'BBC', 1, set()),\n",
       " (u'RAND_Corporation', 1, set()),\n",
       " ('accelerate-01', 1, set()),\n",
       " ('project', 1, {'name', 'wiki'}),\n",
       " ...]"
      ]
     },
     "execution_count": 9,
     "metadata": {},
     "output_type": "execute_result"
    }
   ],
   "source": [
    "info"
   ]
  },
  {
   "cell_type": "code",
   "execution_count": 10,
   "metadata": {
    "collapsed": false
   },
   "outputs": [
    {
     "data": {
      "text/plain": [
       "4056"
      ]
     },
     "execution_count": 10,
     "metadata": {},
     "output_type": "execute_result"
    }
   ],
   "source": [
    "coref_count"
   ]
  },
  {
   "cell_type": "code",
   "execution_count": null,
   "metadata": {
    "collapsed": false
   },
   "outputs": [],
   "source": [
    ""
   ]
  },
  {
   "cell_type": "code",
   "execution_count": null,
   "metadata": {
    "collapsed": false
   },
   "outputs": [],
   "source": [
    ""
   ]
  },
  {
   "cell_type": "code",
   "execution_count": null,
   "metadata": {
    "collapsed": true
   },
   "outputs": [],
   "source": [
    ""
   ]
  }
 ],
 "metadata": {
  "kernelspec": {
   "display_name": "Python 2",
   "language": "python",
   "name": "python2"
  },
  "language_info": {
   "codemirror_mode": {
    "name": "ipython",
    "version": 2.0
   },
   "file_extension": ".py",
   "mimetype": "text/x-python",
   "name": "python",
   "nbconvert_exporter": "python",
   "pygments_lexer": "ipython2",
   "version": "2.7.13"
  }
 },
 "nbformat": 4,
 "nbformat_minor": 0
}
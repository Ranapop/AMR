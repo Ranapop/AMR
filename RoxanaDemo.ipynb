{
 "cells": [
  {
   "cell_type": "code",
   "execution_count": 8,
   "metadata": {},
   "outputs": [],
   "source": [
    "import logging\n",
    "import sys\n",
    "\n",
    "logging.basicConfig(format='%(asctime)s | %(levelname)s : %(message)s',\n",
    "                     level=logging.DEBUG, stream=sys.stdout)\n",
    "\n",
    "from smatch import smatch_util\n",
    "from smatch import smatch_amr\n",
    "from AMRGraph import AMR\n",
    "import AMRData\n",
    "from amr_util.demo_util import get_custom_amr\n",
    "from amr_util.demo_util import get_smatch\n",
    "from postprocessing import ActionSequenceReconstruction as asr\n",
    "from preprocessing.action_sequence_generators.simple_asg import SimpleASG\n",
    "from preprocessing.action_sequence_generators.simple_asg__informed_swap import SimpleInformedSwapASG\n",
    "from preprocessing.action_sequence_generators.simple_informed_break_nodes_on_stack import SimpleInformedWithBreakNodesOnStackASG\n",
    "from preprocessing.action_sequence_generators.backtracking_asg import BacktrackingASGFixedReduce"
   ]
  },
  {
   "cell_type": "markdown",
   "metadata": {
    "collapsed": true
   },
   "source": [
    "# Action Sequence Generation: initial behaviour"
   ]
  },
  {
   "cell_type": "markdown",
   "metadata": {},
   "source": [
    "## Smatch = 1 "
   ]
  },
  {
   "cell_type": "markdown",
   "metadata": {},
   "source": [
    "The sentence and its AMR representation are:"
   ]
  },
  {
   "cell_type": "code",
   "execution_count": 4,
   "metadata": {
    "collapsed": true
   },
   "outputs": [],
   "source": [
    "# ::id bolt12_10489_5932.9 ::amr-annotator SDL-AMR-09 ::preferred\n",
    "sentence=\"In addition , there was something else that was very suspicious .\"\n",
    "amr_str = \"\"\"(a / and~e.0,1 \n",
    "      :op2 (s / suspicious~e.10 \n",
    "            :domain~e.4,8 (s3 / something~e.5 \n",
    "                  :mod (e / else~e.6)) \n",
    "            :degree (v / very~e.9)))\"\"\""
   ]
  },
  {
   "cell_type": "markdown",
   "metadata": {},
   "source": [
    "Storing the data in the customized amr structure:"
   ]
  },
  {
   "cell_type": "code",
   "execution_count": 5,
   "metadata": {
    "collapsed": true
   },
   "outputs": [],
   "source": [
    "custom_amr = get_custom_amr(amr_str)"
   ]
  },
  {
   "cell_type": "markdown",
   "metadata": {},
   "source": [
    "Generating the action sequence using the initial version of the algorithm"
   ]
  },
  {
   "cell_type": "code",
   "execution_count": 6,
   "metadata": {
    "collapsed": true
   },
   "outputs": [],
   "source": [
    "asg_implementation = SimpleASG(1, False)\n",
    "action_sequence = asg_implementation.generate_action_sequence(custom_amr, sentence)"
   ]
  },
  {
   "cell_type": "markdown",
   "metadata": {},
   "source": [
    "The obtained action sequence:"
   ]
  },
  {
   "cell_type": "code",
   "execution_count": 7,
   "metadata": {},
   "outputs": [
    {
     "name": "stdout",
     "output_type": "stream",
     "text": [
      "SH_and\n",
      "DN\n",
      "DN\n",
      "DN\n",
      "DN\n",
      "SH_something\n",
      "SH_else\n",
      "RR_mod\n",
      "DN\n",
      "DN\n",
      "SH_very\n",
      "SH_suspicious\n",
      "RL_degree\n",
      "RL_domain\n",
      "RR_op2\n",
      "DN\n"
     ]
    }
   ],
   "source": [
    "for action in action_sequence:\n",
    "    print(action.to_string())"
   ]
  },
  {
   "cell_type": "markdown",
   "metadata": {},
   "source": [
    "AMR obtained by applying action sequence:"
   ]
  },
  {
   "cell_type": "code",
   "execution_count": 8,
   "metadata": {},
   "outputs": [
    {
     "name": "stdout",
     "output_type": "stream",
     "text": [
      "( d1 / and \n",
      "\t:op2  ( d1_1 / suspicious \n",
      "\t\t:degree  ( d1_1_1 / very )\n",
      "\t\t:domain  ( d1_1_2 / something \n",
      "\t\t\t:mod  ( d1_1_2_1 / else )\n",
      "\t\t)\n",
      "\t)\n",
      ")\n"
     ]
    }
   ],
   "source": [
    "generated_amr_str = asr.reconstruct_all(action_sequence)\n",
    "print(generated_amr_str)"
   ]
  },
  {
   "cell_type": "markdown",
   "metadata": {},
   "source": [
    "Smatch obtained for this example:"
   ]
  },
  {
   "cell_type": "code",
   "execution_count": 9,
   "metadata": {},
   "outputs": [
    {
     "name": "stdout",
     "output_type": "stream",
     "text": [
      "1.0\n"
     ]
    }
   ],
   "source": [
    "smatch_f_score = get_smatch(generated_amr_str,amr_str)\n",
    "print(smatch_f_score)"
   ]
  },
  {
   "cell_type": "markdown",
   "metadata": {},
   "source": [
    "## Smatch < 1 "
   ]
  },
  {
   "cell_type": "markdown",
   "metadata": {},
   "source": [
    "An example follows where the action sequence found leads to a subgraph of the initial AMR. The sentence and its AMR representation are:"
   ]
  },
  {
   "cell_type": "code",
   "execution_count": 14,
   "metadata": {
    "collapsed": true
   },
   "outputs": [],
   "source": [
    "sentence=\"Facing the caprice of nature , humankind is really insignificant .\"\n",
    "amr_str=\"\"\"(s / significant-02~e.9 :polarity~e.9 -~e.9 \n",
    "      :ARG1 (h / humankind~e.6) \n",
    "      :degree (r / really~e.8) \n",
    "      :condition (f / face-01~e.0 \n",
    "            :ARG0 h \n",
    "            :ARG1 (c / caprice~e.2 \n",
    "                  :poss~e.3 (n / nature~e.4))))\"\"\""
   ]
  },
  {
   "cell_type": "code",
   "execution_count": 15,
   "metadata": {
    "collapsed": true
   },
   "outputs": [],
   "source": [
    "custom_amr = get_custom_amr(amr_str)"
   ]
  },
  {
   "cell_type": "code",
   "execution_count": 16,
   "metadata": {
    "collapsed": true
   },
   "outputs": [],
   "source": [
    "asg_implementation = SimpleASG(1, False)\n",
    "action_sequence = asg_implementation.generate_action_sequence(custom_amr, sentence)"
   ]
  },
  {
   "cell_type": "code",
   "execution_count": 17,
   "metadata": {},
   "outputs": [
    {
     "name": "stdout",
     "output_type": "stream",
     "text": [
      "SH_face-01\n",
      "DN\n",
      "SH_caprice\n",
      "DN\n",
      "SH_nature\n",
      "RR_poss\n",
      "RR_ARG1\n",
      "DN\n",
      "SH_humankind\n",
      "RR_ARG0\n",
      "DN\n",
      "SH_really\n",
      "SH_significant-02\n",
      "RL_degree\n",
      "RL_condition\n",
      "DN\n"
     ]
    }
   ],
   "source": [
    "for action in action_sequence:\n",
    "    print(action.to_string())"
   ]
  },
  {
   "cell_type": "markdown",
   "metadata": {},
   "source": [
    "AMR obtained by applying action sequence:"
   ]
  },
  {
   "cell_type": "code",
   "execution_count": 18,
   "metadata": {},
   "outputs": [
    {
     "name": "stdout",
     "output_type": "stream",
     "text": [
      "( d1 / significant-02 \n",
      "\t:degree  ( d1_1 / really )\n",
      "\t:condition  ( d1_2 / face-01 \n",
      "\t\t:ARG1  ( d1_2_1 / caprice \n",
      "\t\t\t:poss  ( d1_2_1_1 / nature )\n",
      "\t\t)\n",
      "\t\t:ARG0  ( d1_2_2 / humankind )\n",
      "\t)\n",
      ")\n"
     ]
    }
   ],
   "source": [
    "generated_amr_str = asr.reconstruct_all(action_sequence)\n",
    "print(generated_amr_str)"
   ]
  },
  {
   "cell_type": "markdown",
   "metadata": {},
   "source": [
    "Smatch obtained for this example:"
   ]
  },
  {
   "cell_type": "code",
   "execution_count": 19,
   "metadata": {},
   "outputs": [
    {
     "name": "stdout",
     "output_type": "stream",
     "text": [
      "0.923076923077\n"
     ]
    }
   ],
   "source": [
    "smatch_f_score = get_smatch(generated_amr_str,amr_str)\n",
    "print(smatch_f_score)"
   ]
  },
  {
   "cell_type": "markdown",
   "metadata": {
    "collapsed": true
   },
   "source": [
    "# Action Sequence Generation: Informed Swap"
   ]
  },
  {
   "cell_type": "markdown",
   "metadata": {},
   "source": [
    "For the examples bellow, the initial algorithm version fails, but the version build using the Informed Swap strategy (perform a swap action when it leads to a reduce) finds an action sequence."
   ]
  },
  {
   "cell_type": "code",
   "execution_count": 55,
   "metadata": {
    "collapsed": true
   },
   "outputs": [],
   "source": [
    "sentence = \"A funny story ( at least to me ) .\"\n",
    "amr_str = \"\"\"(s / story~e.2 \n",
    "      :mod (f / funny~e.1 \n",
    "            :prep-to~e.6 (i / i~e.7) \n",
    "            :mod (a / at-least~e.4,5)))\"\"\"\n",
    "custom_amr = get_custom_amr(amr_str)"
   ]
  },
  {
   "cell_type": "markdown",
   "metadata": {},
   "source": [
    "Using the Informed Swap action sequence generation implementation, with Swap of depth 1 and no Rotate action:"
   ]
  },
  {
   "cell_type": "code",
   "execution_count": 57,
   "metadata": {},
   "outputs": [
    {
     "name": "stdout",
     "output_type": "stream",
     "text": [
      "DN\n",
      "SH_funny\n",
      "SH_story\n",
      "DN\n",
      "SH_at-least\n",
      "SW\n",
      "RR_mod\n",
      "DN\n",
      "DN\n",
      "SH_i\n",
      "RR_prep-to\n",
      "RR_mod\n",
      "DN\n",
      "DN\n"
     ]
    }
   ],
   "source": [
    "asg_implementation = SimpleInformedSwapASG(1, False)\n",
    "action_sequence = asg_implementation.generate_action_sequence(custom_amr, sentence)\n",
    "for action in action_sequence:\n",
    "    print(action.to_string())"
   ]
  },
  {
   "cell_type": "markdown",
   "metadata": {},
   "source": [
    "Generated AMR and smatch score:"
   ]
  },
  {
   "cell_type": "code",
   "execution_count": 23,
   "metadata": {},
   "outputs": [
    {
     "name": "stdout",
     "output_type": "stream",
     "text": [
      "( d1 / story \n",
      "\t:mod  ( d1_1 / funny \n",
      "\t\t:mod  ( d1_1_1 / at-least )\n",
      "\t\t:prep-to  ( d1_1_2 / i )\n",
      "\t)\n",
      ")\n",
      "1.0\n"
     ]
    }
   ],
   "source": [
    "generated_amr_str = asr.reconstruct_all(action_sequence)\n",
    "print(generated_amr_str)\n",
    "smatch_f_score = get_smatch(generated_amr_str,amr_str)\n",
    "print(smatch_f_score)"
   ]
  },
  {
   "cell_type": "markdown",
   "metadata": {},
   "source": [
    "Let me take another example, which contains coreference, but an action sequence is still found (which leds to a subgraph of the initial AMR)"
   ]
  },
  {
   "cell_type": "code",
   "execution_count": 60,
   "metadata": {},
   "outputs": [
    {
     "name": "stdout",
     "output_type": "stream",
     "text": [
      "DN\n",
      "SH_many\n",
      "SH_other\n",
      "SH_guy\n",
      "RL_mod\n",
      "RL_quant\n",
      "SH_choose-01\n",
      "DN\n",
      "SH_moisturize-01\n",
      "SW\n",
      "RL_ARG0\n",
      "RR_ARG1\n",
      "SH_interrogative\n",
      "RR_mode\n"
     ]
    }
   ],
   "source": [
    "sentence = \"Do many other guys choose to moisturize ?\"\n",
    "amr_str = \"\"\"(c / choose-01~e.4 :mode~e.7 interrogative~e.7 \n",
    "      :ARG0 (g / guy~e.3 \n",
    "            :mod (o / other~e.2) \n",
    "            :quant (m / many~e.1)) \n",
    "      :ARG1 (m2 / moisturize-01~e.6 \n",
    "            :ARG0 g))\"\"\"\n",
    "custom_amr = get_custom_amr(amr_str)\n",
    "asg_implementation = SimpleInformedSwapASG(1, False)\n",
    "action_sequence = asg_implementation.generate_action_sequence(custom_amr, sentence)\n",
    "for action in action_sequence:\n",
    "    print(action.to_string())"
   ]
  },
  {
   "cell_type": "code",
   "execution_count": 28,
   "metadata": {},
   "outputs": [
    {
     "name": "stdout",
     "output_type": "stream",
     "text": [
      "( d1 / choose-01 \n",
      "\t:ARG1  ( d1_1 / moisturize-01 \n",
      "\t\t:ARG0  ( d1_1_1 / guy \n",
      "\t\t\t:mod  ( d1_1_1_1 / other )\n",
      "\t\t\t:quant  ( d1_1_1_2 / many )\n",
      "\t\t)\n",
      "\t)\n",
      "\t:mode interrogative\n",
      ")\n",
      "0.95652173913\n"
     ]
    }
   ],
   "source": [
    "generated_amr_str = asr.reconstruct_all(action_sequence)\n",
    "print(generated_amr_str)\n",
    "smatch_f_score = get_smatch(generated_amr_str,amr_str)\n",
    "print(smatch_f_score)"
   ]
  },
  {
   "cell_type": "markdown",
   "metadata": {},
   "source": [
    "# Action Sequence Generation: Informed Swap (Integrating Swap<sub>2</sub>)"
   ]
  },
  {
   "cell_type": "code",
   "execution_count": 31,
   "metadata": {
    "collapsed": true
   },
   "outputs": [],
   "source": [
    "sentence = \"I am not saying that women should realistically be able to dance down back alleys naked .\"\n",
    "amr_str = \"\"\"(s / say-01~e.3 :polarity~e.2 -~e.2 \n",
    "      :ARG0 (i / i~e.0) \n",
    "      :ARG1~e.4 (r / recommend-01~e.6 \n",
    "            :ARG1 (p / possible-01~e.9 \n",
    "                  :ARG1 (d / dance-01~e.11 \n",
    "                        :ARG0 (w / woman~e.5) \n",
    "                        :manner (n / naked~e.15) \n",
    "                        :location (a / alley~e.14 \n",
    "                              :mod (b2 / back~e.13)) \n",
    "                        :direction (d2 / down~e.12)) \n",
    "                  :manner (r2 / realistic-03~e.7))))\"\"\"\n",
    "custom_amr = get_custom_amr(amr_str)"
   ]
  },
  {
   "cell_type": "markdown",
   "metadata": {},
   "source": [
    "Note that the first parameter is now 2 (to indicate that Swap<sub>2</sub> should be integrated):"
   ]
  },
  {
   "cell_type": "code",
   "execution_count": 32,
   "metadata": {},
   "outputs": [
    {
     "name": "stdout",
     "output_type": "stream",
     "text": [
      "SH_i\n",
      "DN\n",
      "SH_-\n",
      "SH_say-01\n",
      "RL_polarity\n",
      "RL_ARG0\n",
      "DN\n",
      "SH_woman\n",
      "SH_recommend-01\n",
      "SH_realistic-03\n",
      "DN\n",
      "SH_possible-01\n",
      "RL_manner\n",
      "DN\n",
      "SH_dance-01\n",
      "SW_2\n",
      "RL_ARG0\n",
      "SH_down\n",
      "RR_direction\n",
      "SH_back\n",
      "SH_alley\n",
      "RL_mod\n",
      "RR_location\n",
      "SH_naked\n",
      "RR_manner\n",
      "SW\n",
      "RR_ARG1\n",
      "RR_ARG1\n",
      "RR_ARG1\n",
      "DN\n"
     ]
    }
   ],
   "source": [
    "asg_implementation = SimpleInformedSwapASG(2, False)\n",
    "action_sequence = asg_implementation.generate_action_sequence(custom_amr, sentence)\n",
    "for action in action_sequence:\n",
    "    print(action.to_string())"
   ]
  },
  {
   "cell_type": "code",
   "execution_count": 33,
   "metadata": {},
   "outputs": [
    {
     "name": "stdout",
     "output_type": "stream",
     "text": [
      "( d1 / say-01 \n",
      "\t:polarity -\n",
      "\t:ARG0  ( d1_1 / i )\n",
      "\t:ARG1  ( d1_2 / recommend-01 \n",
      "\t\t:ARG1  ( d1_2_1 / possible-01 \n",
      "\t\t\t:manner  ( d1_2_1_1 / realistic-03 )\n",
      "\t\t\t:ARG1  ( d1_2_1_2 / dance-01 \n",
      "\t\t\t\t:ARG0  ( d1_2_1_2_1 / woman )\n",
      "\t\t\t\t:direction  ( d1_2_1_2_2 / down )\n",
      "\t\t\t\t:location  ( d1_2_1_2_3 / alley \n",
      "\t\t\t\t\t:mod  ( d1_2_1_2_3_1 / back )\n",
      "\t\t\t\t)\n",
      "\t\t\t\t:manner  ( d1_2_1_2_4 / naked )\n",
      "\t\t\t)\n",
      "\t\t)\n",
      "\t)\n",
      ")\n",
      "1.0\n"
     ]
    }
   ],
   "source": [
    "generated_amr_str = asr.reconstruct_all(action_sequence)\n",
    "print(generated_amr_str)\n",
    "smatch_f_score = get_smatch(generated_amr_str,amr_str)\n",
    "print(smatch_f_score)"
   ]
  },
  {
   "cell_type": "markdown",
   "metadata": {},
   "source": [
    "Let's take another example:"
   ]
  },
  {
   "cell_type": "code",
   "execution_count": 24,
   "metadata": {},
   "outputs": [
    {
     "name": "stdout",
     "output_type": "stream",
     "text": [
      "SH_he\n",
      "SH_recommend-01\n",
      "SH_-\n",
      "DN\n",
      "SH_expect-01\n",
      "RL_polarity\n",
      "DN\n",
      "DN\n",
      "SH_anything\n",
      "SW_2\n",
      "RL_domain\n",
      "SW\n",
      "RR_ARG1\n",
      "RR_ARG1\n",
      "DN\n",
      "( d1 / recommend-01 \n",
      "\t:ARG1  ( d1_1 / expect-01 \n",
      "\t\t:polarity -\n",
      "\t\t:ARG1  ( d1_1_1 / anything \n",
      "\t\t\t:domain  ( d1_1_1_1 / he )\n",
      "\t\t)\n",
      "\t)\n",
      ")\n",
      "1.0\n"
     ]
    }
   ],
   "source": [
    "sentence = \"He should n't be expected to be anything .\"\n",
    "amr_str = \"\"\"(r / recommend-01~e.1 \n",
    "      :ARG1 (e / expect-01~e.4 :polarity~e.2 -~e.2 \n",
    "            :ARG1 (a / anything~e.7 \n",
    "                  :domain~e.3,6 (h / he~e.0))))\"\"\"\n",
    "custom_amr = get_custom_amr(amr_str)\n",
    "asg_implementation = SimpleInformedSwapASG(3, False)\n",
    "action_sequence = asg_implementation.generate_action_sequence(custom_amr, sentence)\n",
    "for action in action_sequence:\n",
    "    print(action.to_string())\n",
    "generated_amr_str = asr.reconstruct_all(action_sequence)\n",
    "print(generated_amr_str)\n",
    "smatch_f_score = get_smatch(generated_amr_str,amr_str)\n",
    "print(smatch_f_score)"
   ]
  },
  {
   "cell_type": "markdown",
   "metadata": {},
   "source": [
    "# Action Sequence Generation: Informed Swap (Integrating Swap<sub>3</sub>)"
   ]
  },
  {
   "cell_type": "code",
   "execution_count": 34,
   "metadata": {
    "collapsed": true
   },
   "outputs": [],
   "source": [
    "sentence = \"It seems though that any old sod can do it .\"\n",
    "amr_str = \"\"\"(h / have-concession-91~e.2 \n",
    "      :ARG1 (s / seem-01~e.1 \n",
    "            :ARG1 (p / possible-01~e.7 \n",
    "                  :ARG1 (d / do-02~e.8 \n",
    "                        :ARG0 (s2 / sod~e.6 \n",
    "                              :mod (a / any~e.4) \n",
    "                              :mod (o / old~e.5)) \n",
    "                        :ARG1 (i / it~e.0,9)))))\"\"\"\n",
    "custom_amr = get_custom_amr(amr_str)"
   ]
  },
  {
   "cell_type": "code",
   "execution_count": 36,
   "metadata": {},
   "outputs": [
    {
     "name": "stdout",
     "output_type": "stream",
     "text": [
      "SH_it\n",
      "SH_seem-01\n",
      "SH_have-concession-91\n",
      "DN\n",
      "SH_any\n",
      "SH_old\n",
      "SH_sod\n",
      "RL_mod\n",
      "RL_mod\n",
      "SH_possible-01\n",
      "SH_do-02\n",
      "SW\n",
      "RL_ARG0\n",
      "SW_3\n",
      "RL_ARG1\n",
      "SW_2\n",
      "RR_ARG1\n",
      "RR_ARG1\n",
      "RR_ARG1\n",
      "DN\n",
      "DN\n"
     ]
    }
   ],
   "source": [
    "asg_implementation = SimpleInformedSwapASG(3, False)\n",
    "action_sequence = asg_implementation.generate_action_sequence(custom_amr, sentence)\n",
    "for action in action_sequence:\n",
    "    print(action.to_string())"
   ]
  },
  {
   "cell_type": "code",
   "execution_count": 37,
   "metadata": {},
   "outputs": [
    {
     "name": "stdout",
     "output_type": "stream",
     "text": [
      "( d1 / have-concession-91 \n",
      "\t:ARG1  ( d1_1 / seem-01 \n",
      "\t\t:ARG1  ( d1_1_1 / possible-01 \n",
      "\t\t\t:ARG1  ( d1_1_1_1 / do-02 \n",
      "\t\t\t\t:ARG0  ( d1_1_1_1_1 / sod \n",
      "\t\t\t\t\t:mod  ( d1_1_1_1_1_1 / old )\n",
      "\t\t\t\t\t:mod  ( d1_1_1_1_1_2 / any )\n",
      "\t\t\t\t)\n",
      "\t\t\t\t:ARG1  ( d1_1_1_1_2 / it )\n",
      "\t\t\t)\n",
      "\t\t)\n",
      "\t)\n",
      ")\n",
      "1.0\n"
     ]
    }
   ],
   "source": [
    "generated_amr_str = asr.reconstruct_all(action_sequence)\n",
    "print(generated_amr_str)\n",
    "smatch_f_score = get_smatch(generated_amr_str,amr_str)\n",
    "print(smatch_f_score)"
   ]
  },
  {
   "cell_type": "markdown",
   "metadata": {},
   "source": [
    "# Action Sequence Generation: Informed Swap (Integrating Rotate)"
   ]
  },
  {
   "cell_type": "code",
   "execution_count": 40,
   "metadata": {},
   "outputs": [],
   "source": [
    "sentence = \"This is ultimately why your body may produce some version of these chemicals naturally .\"\n",
    "amr_str = \"\"\"(c / cause-01~e.3 \n",
    "      :ARG1 (p / possible-01~e.6 \n",
    "            :ARG1 (p2 / produce-01~e.7 \n",
    "                  :ARG0 (b / body~e.5 \n",
    "                        :poss~e.4 (y / you~e.4)) \n",
    "                  :ARG1 (v / version~e.9 \n",
    "                        :quant (s / some~e.8) \n",
    "                        :mod (c2 / chemical~e.12 \n",
    "                              :mod (t / this~e.0,11))) \n",
    "                  :ARG1-of (n / natural-03~e.13))) \n",
    "      :mod (u / ultimate~e.2))\"\"\"\n",
    "custom_amr = get_custom_amr(amr_str)"
   ]
  },
  {
   "cell_type": "markdown",
   "metadata": {},
   "source": [
    "Notice how the second parameter was changed to \"True\":"
   ]
  },
  {
   "cell_type": "code",
   "execution_count": 42,
   "metadata": {},
   "outputs": [
    {
     "name": "stdout",
     "output_type": "stream",
     "text": [
      "SH_this\n",
      "DN\n",
      "SH_ultimate\n",
      "SH_cause-01\n",
      "RL_mod\n",
      "SH_you\n",
      "SH_body\n",
      "RL_poss\n",
      "SH_possible-01\n",
      "SH_produce-01\n",
      "SW\n",
      "RL_ARG0\n",
      "SH_some\n",
      "SH_version\n",
      "RL_quant\n",
      "DN\n",
      "DN\n",
      "SH_chemical\n",
      "RO\n",
      "RL_mod\n",
      "SW_3\n",
      "RR_mod\n",
      "SW_2\n",
      "RR_ARG1\n",
      "SH_natural-03\n",
      "RR_ARG1-of\n",
      "SW\n",
      "RR_ARG1\n",
      "RR_ARG1\n",
      "DN\n"
     ]
    }
   ],
   "source": [
    "asg_implementation = SimpleInformedSwapASG(3, True)\n",
    "action_sequence = asg_implementation.generate_action_sequence(custom_amr, sentence)\n",
    "for action in action_sequence:\n",
    "    print(action.to_string())"
   ]
  },
  {
   "cell_type": "code",
   "execution_count": 44,
   "metadata": {},
   "outputs": [
    {
     "name": "stdout",
     "output_type": "stream",
     "text": [
      "( d1 / cause-01 \n",
      "\t:mod  ( d1_1 / ultimate )\n",
      "\t:ARG1  ( d1_2 / possible-01 \n",
      "\t\t:ARG1  ( d1_2_1 / produce-01 \n",
      "\t\t\t:ARG0  ( d1_2_1_1 / body \n",
      "\t\t\t\t:poss  ( d1_2_1_1_1 / you )\n",
      "\t\t\t)\n",
      "\t\t\t:ARG1  ( d1_2_1_2 / version \n",
      "\t\t\t\t:quant  ( d1_2_1_2_1 / some )\n",
      "\t\t\t\t:mod  ( d1_2_1_2_2 / chemical \n",
      "\t\t\t\t\t:mod  ( d1_2_1_2_2_1 / this )\n",
      "\t\t\t\t)\n",
      "\t\t\t)\n",
      "\t\t\t:ARG1-of  ( d1_2_1_3 / natural-03 )\n",
      "\t\t)\n",
      "\t)\n",
      ")\n",
      "1.0\n"
     ]
    }
   ],
   "source": [
    "generated_amr_str = asr.reconstruct_all(action_sequence)\n",
    "print(generated_amr_str)\n",
    "smatch_f_score = get_smatch(generated_amr_str,amr_str)\n",
    "print(smatch_f_score)"
   ]
  },
  {
   "cell_type": "markdown",
   "metadata": {},
   "source": [
    "# Action Sequence Generation: Informed Swap (Integrating Break-token)"
   ]
  },
  {
   "cell_type": "code",
   "execution_count": null,
   "metadata": {
    "collapsed": true
   },
   "outputs": [],
   "source": [
    "sentence = \"Middle school buildings collapsed , and young students were buried under the crumbled walls .\"\n",
    "amr_str = \"\"\"(a / and~e.5 \n",
    "      :op1 (c / collapse-01~e.3 \n",
    "            :ARG1 (b2 / building~e.2 \n",
    "                  :mod (s / school~e.1 \n",
    "                        :mod (m / middle~e.0)))) \n",
    "      :op2 (b / bury-01~e.9 \n",
    "            :ARG1 (p / person~e.7 \n",
    "                  :mod (y / young~e.6) \n",
    "                  :ARG0-of~e.7 (s2 / study-01~e.7)) \n",
    "            :ARG2 (u / under~e.10 \n",
    "                  :op1 (w / wall~e.13 \n",
    "                        :ARG1-of (c2 / crumble-01~e.12)))))\"\"\"\n",
    "custom_amr = get_custom_amr(amr_str)"
   ]
  },
  {
   "cell_type": "code",
   "execution_count": 46,
   "metadata": {},
   "outputs": [
    {
     "name": "stdout",
     "output_type": "stream",
     "text": [
      "SH_middle\n",
      "SH_school\n",
      "RL_mod\n",
      "SH_building\n",
      "RL_mod\n",
      "SH_collapse-01\n",
      "RL_ARG1\n",
      "DN\n",
      "SH_and\n",
      "RL_op1\n",
      "SH_young\n",
      "BRK_study-01_person\n",
      "RL_ARG0-of\n",
      "RL_mod\n",
      "DN\n",
      "SH_bury-01\n",
      "RL_ARG1\n",
      "SH_under\n",
      "DN\n",
      "SH_crumble-01\n",
      "SH_wall\n",
      "RL_ARG1-of\n",
      "RR_op1\n",
      "RR_ARG2\n",
      "RR_op2\n",
      "DN\n"
     ]
    }
   ],
   "source": [
    "asg_implementation = SimpleInformedWithBreakNodesOnStackASG(1, False)\n",
    "action_sequence = asg_implementation.generate_action_sequence(custom_amr, sentence)\n",
    "for action in action_sequence:\n",
    "    print(action.to_string())"
   ]
  },
  {
   "cell_type": "code",
   "execution_count": 47,
   "metadata": {},
   "outputs": [
    {
     "name": "stdout",
     "output_type": "stream",
     "text": [
      "( d1 / and \n",
      "\t:op1  ( d1_1 / collapse-01 \n",
      "\t\t:ARG1  ( d1_1_1 / building \n",
      "\t\t\t:mod  ( d1_1_1_1 / school \n",
      "\t\t\t\t:mod  ( d1_1_1_1_1 / middle )\n",
      "\t\t\t)\n",
      "\t\t)\n",
      "\t)\n",
      "\t:op2  ( d1_2 / bury-01 \n",
      "\t\t:ARG1  ( d1_2_1 / person \n",
      "\t\t\t:ARG0-of  ( d1_2_1_1 / study-01 )\n",
      "\t\t\t:mod  ( d1_2_1_2 / young )\n",
      "\t\t)\n",
      "\t\t:ARG2  ( d1_2_2 / under \n",
      "\t\t\t:op1  ( d1_2_2_1 / wall \n",
      "\t\t\t\t:ARG1-of  ( d1_2_2_1_1 / crumble-01 )\n",
      "\t\t\t)\n",
      "\t\t)\n",
      "\t)\n",
      ")\n",
      "1.0\n"
     ]
    }
   ],
   "source": [
    "generated_amr_str = asr.reconstruct_all(action_sequence)\n",
    "print(generated_amr_str)\n",
    "smatch_f_score = get_smatch(generated_amr_str,amr_str)\n",
    "print(smatch_f_score)"
   ]
  },
  {
   "cell_type": "markdown",
   "metadata": {},
   "source": [
    "# Action Sequence Generation: Local Backtracking"
   ]
  },
  {
   "cell_type": "markdown",
   "metadata": {},
   "source": [
    "The example bellow cannot be processed using the Informed Swap strategy with the initial action set. However, it can be processed when integrating Swap<sub>2</sub>. Yet, an action sequence constructed using only the actions from the initial set exists and it is found by backtracking (the found action sequence contains an ordering of Swap and Shift actions that actually solves the non-projectivity, but this ordering is not reached by the Informed Swap strategy as the Swap action does not lead immediately to a reduce)."
   ]
  },
  {
   "cell_type": "code",
   "execution_count": 19,
   "metadata": {
    "collapsed": true
   },
   "outputs": [],
   "source": [
    "sentence = \"He should n't be expected to be anything .\"\n",
    "amr_str = \"\"\"(r / recommend-01~e.1 \n",
    "      :ARG1 (e / expect-01~e.4 :polarity~e.2 -~e.2 \n",
    "            :ARG1 (a / anything~e.7 \n",
    "                  :domain~e.3,6 (h / he~e.0))))\"\"\"\n",
    "custom_amr = get_custom_amr(amr_str)"
   ]
  },
  {
   "cell_type": "code",
   "execution_count": 22,
   "metadata": {},
   "outputs": [
    {
     "name": "stdout",
     "output_type": "stream",
     "text": [
      "SH_he\n",
      "SH_recommend-01\n",
      "SH_-\n",
      "DN\n",
      "SH_expect-01\n",
      "RL_polarity\n",
      "DN\n",
      "DN\n",
      "SW\n",
      "SH_anything\n",
      "DN\n",
      "SW\n",
      "RL_domain\n",
      "RR_ARG1\n",
      "RR_ARG1\n",
      "1.0\n"
     ]
    }
   ],
   "source": [
    "max_depth = 4 * len(sentence)\n",
    "asg_implementation = BacktrackingASGFixedReduce(1,max_depth)\n",
    "#asg_implementation = SimpleInformedSwapASG(2,False)\n",
    "action_sequence = asg_implementation.generate_action_sequence(custom_amr, sentence)\n",
    "generated_amr_str = asr.reconstruct_all(action_sequence)\n",
    "smatch_f_score = get_smatch(generated_amr_str, amr_str)\n",
    "for action in action_sequence:\n",
    "    print(action.to_string())\n",
    "print(smatch_f_score)"
   ]
  },
  {
   "cell_type": "code",
   "execution_count": null,
   "metadata": {
    "collapsed": true
   },
   "outputs": [],
   "source": []
  }
 ],
 "metadata": {
  "kernelspec": {
   "display_name": "Python 2",
   "language": "python",
   "name": "python2"
  }
 },
 "nbformat": 4,
 "nbformat_minor": 1
}

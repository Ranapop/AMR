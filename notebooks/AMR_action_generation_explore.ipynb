{
 "cells": [
  {
   "cell_type": "code",
   "execution_count": 1,
   "metadata": {
    "collapsed": false
   },
   "outputs": [],
   "source": [
    "from AMRGraph import AMR\n",
    "from AMRData import CustomizedAMR\n",
    "from utilities import pretty_print, generate_action_sequence, generate_custom_amr\n",
    "import ActionSequenceGenerator"
   ]
  },
  {
   "cell_type": "markdown",
   "metadata": {},
   "source": [
    "# AMR - basic example with no exceptions"
   ]
  },
  {
   "cell_type": "markdown",
   "metadata": {},
   "source": [
    "This is a basic example of AMR parsing and action sequence generation. This means that it does not contain any exception such as coreference, named entities, etc.\n",
    "Sentence: It looks like we will also bring in whales ."
   ]
  },
  {
   "cell_type": "code",
   "execution_count": 2,
   "metadata": {
    "collapsed": true
   },
   "outputs": [],
   "source": [
    "sentence = \"It looks like we will also bring in whales .\"\n",
    "amr = AMR.parse_string(\"\"\"(l / look-02~e.1\n",
    "      :ARG1~e.2 (b / bring-01~e.6\n",
    "            :ARG0 (w / we~e.3)\n",
    "            :ARG1~e.7 (w2 / whale~e.8)\n",
    "            :mod (a / also~e.5)))\"\"\")"
   ]
  },
  {
   "cell_type": "markdown",
   "metadata": {},
   "source": [
    "Node to concepts hold a dict with keys as variables in the nodes (some nodes do not have variables associated - for instance \"-\" for polarity)"
   ]
  },
  {
   "cell_type": "code",
   "execution_count": 3,
   "metadata": {
    "collapsed": false
   },
   "outputs": [
    {
     "data": {
      "text/plain": [
       "{'a': 'also', 'b': 'bring-01', 'l': 'look-02', 'w': 'we', 'w2': 'whale'}"
      ]
     },
     "execution_count": 3,
     "metadata": {},
     "output_type": "execute_result"
    }
   ],
   "source": [
    "amr.node_to_concepts"
   ]
  },
  {
   "cell_type": "markdown",
   "metadata": {},
   "source": [
    "Mappings between nodes and all the aligned tokens: If the nodes don't have a variable (polarity, literals, quantities, interrogatives), they specify both the aligned tokens and the parent in order to uniquely identify them"
   ]
  },
  {
   "cell_type": "code",
   "execution_count": 4,
   "metadata": {
    "collapsed": false
   },
   "outputs": [
    {
     "data": {
      "text/plain": [
       "{'a': ['5'], 'b': ['6'], 'l': ['1'], 'w': ['3'], 'w2': ['8']}"
      ]
     },
     "execution_count": 4,
     "metadata": {},
     "output_type": "execute_result"
    }
   ],
   "source": [
    "amr.node_to_tokens"
   ]
  },
  {
   "cell_type": "markdown",
   "metadata": {},
   "source": [
    "Mappings between relations and tokens. Uniquely identified by also specifying the parent of that relation.\n",
    "Since the clean-up of parents which are not actual variables is done at the final, we might end up having parents such as 9~e.15 for the relations. However, as I've seen so far, these kind of nodes are usually leaves so hopefully we won't have this problem."
   ]
  },
  {
   "cell_type": "code",
   "execution_count": 5,
   "metadata": {
    "collapsed": false
   },
   "outputs": [
    {
     "data": {
      "text/plain": [
       "{'ARG1': [[('7', 'b')], [('2', 'l')]]}"
      ]
     },
     "execution_count": 5,
     "metadata": {},
     "output_type": "execute_result"
    }
   ],
   "source": [
    "amr.relation_to_tokens"
   ]
  },
  {
   "cell_type": "markdown",
   "metadata": {
    "collapsed": true
   },
   "source": [
    "Mappings from a node to each child, along with the relation between them."
   ]
  },
  {
   "cell_type": "code",
   "execution_count": 6,
   "metadata": {
    "collapsed": false
   },
   "outputs": [
    {
     "name": "stdout",
     "output_type": "stream",
     "text": [
      "Key: a\n",
      "Leaf\n",
      "\n",
      "Key: b\n",
      "ARG0 -> w\n",
      "ARG1 -> w2\n",
      "mod -> a\n",
      "\n",
      "Key: w2\n",
      "Leaf\n",
      "\n",
      "Key: w\n",
      "Leaf\n",
      "\n",
      "Key: l\n",
      "ARG1 -> b\n",
      "\n"
     ]
    }
   ],
   "source": [
    "pretty_print(amr)"
   ]
  },
  {
   "cell_type": "markdown",
   "metadata": {},
   "source": [
    "All the nodes in the amr should appear here."
   ]
  },
  {
   "cell_type": "code",
   "execution_count": 7,
   "metadata": {
    "collapsed": false
   },
   "outputs": [
    {
     "data": {
      "text/plain": [
       "['a', 'b', 'w2', 'w', 'l']"
      ]
     },
     "execution_count": 7,
     "metadata": {},
     "output_type": "execute_result"
    }
   ],
   "source": [
    "amr.keys()"
   ]
  },
  {
   "cell_type": "markdown",
   "metadata": {},
   "source": [
    "Finally, we create our custom AMR structure:\n",
    "The CustomAMR outputs 3 dictionaries: \n",
    "\n",
    "Parent_dict: which tells the parent of each node in the structure.\n",
    "\n",
    "Obs: the root node is also included in the dict but the parent field is left empty.  \n",
    "\n",
    "Tokens_to_concepts_dict: here the tokens are stored as keys and for each token the associated concept is given. The structure of the dictionary is token ->(variable, concept). \n",
    "\n",
    "Obs: for the special cases where there is no variable associated to the concept  (for examen polarity) the variable field is left null. \n",
    "\n",
    "Relations_dict: the relations dict is the most complex output in the CustomAMR. The structure of the dictionary is (concept, parent) -> (edge_to_parent, [children], token).\n",
    "The key is a (concept, parent) tuple in order to solve the problem given by the above mentioned special cases. If only the concept would be kept as a key we wouldn’t be able to differentiate the the node aligned to token X and the node aligned to token Y if the node doesn’t have a unique variable (for example 2 negative polarities in the same graph) \n",
    "\n",
    "The list of children is constructed using the output of the original amr parser from CAMR[2]. "
   ]
  },
  {
   "cell_type": "code",
   "execution_count": 8,
   "metadata": {
    "collapsed": true
   },
   "outputs": [],
   "source": [
    "custom_AMR = CustomizedAMR()\n",
    "custom_AMR.create_custom_AMR(amr)"
   ]
  },
  {
   "cell_type": "markdown",
   "metadata": {},
   "source": [
    "Custom AMR token to concepts dict"
   ]
  },
  {
   "cell_type": "code",
   "execution_count": 9,
   "metadata": {
    "collapsed": false
   },
   "outputs": [
    {
     "data": {
      "text/plain": [
       "{1: ('l', 'look-02'),\n",
       " 3: ('w', 'we'),\n",
       " 5: ('a', 'also'),\n",
       " 6: ('b', 'bring-01'),\n",
       " 8: ('w2', 'whale')}"
      ]
     },
     "execution_count": 9,
     "metadata": {},
     "output_type": "execute_result"
    }
   ],
   "source": [
    "custom_AMR.tokens_to_concepts_dict"
   ]
  },
  {
   "cell_type": "markdown",
   "metadata": {},
   "source": [
    "Custom AMR relations dict"
   ]
  },
  {
   "cell_type": "code",
   "execution_count": 10,
   "metadata": {
    "collapsed": false
   },
   "outputs": [
    {
     "data": {
      "text/plain": [
       "{('a', 'b'): ('mod', [], ['5']),\n",
       " ('b', 'l'): ('ARG1', ['w', 'w2', 'a'], ['6']),\n",
       " ('l', ''): ('', ['b'], ['1']),\n",
       " ('w', 'b'): ('ARG0', [], ['3']),\n",
       " ('w2', 'b'): ('ARG1', [], ['8'])}"
      ]
     },
     "execution_count": 10,
     "metadata": {},
     "output_type": "execute_result"
    }
   ],
   "source": [
    "custom_AMR.relations_dict"
   ]
  },
  {
   "cell_type": "markdown",
   "metadata": {},
   "source": [
    "Custom AMR parent dict"
   ]
  },
  {
   "cell_type": "code",
   "execution_count": 11,
   "metadata": {
    "collapsed": false
   },
   "outputs": [
    {
     "data": {
      "text/plain": [
       "{'a': 'b', 'b': 'l', 'l': '', 'w': 'b', 'w2': 'b'}"
      ]
     },
     "execution_count": 11,
     "metadata": {},
     "output_type": "execute_result"
    }
   ],
   "source": [
    "custom_AMR.parent_dict"
   ]
  },
  {
   "cell_type": "markdown",
   "metadata": {},
   "source": [
    "With this AMR structure, we can generate the sequence of actions which leads from the sentence to the final AMR."
   ]
  },
  {
   "cell_type": "code",
   "execution_count": 12,
   "metadata": {
    "collapsed": false
   },
   "outputs": [
    {
     "data": {
      "text/plain": [
       "['DN',\n",
       " 'SH_look-02',\n",
       " 'DN',\n",
       " 'SH_we',\n",
       " 'DN',\n",
       " 'SH_also',\n",
       " 'SH_bring-01',\n",
       " 'RL_mod',\n",
       " 'RL_ARG0',\n",
       " 'DN',\n",
       " 'SH_whale',\n",
       " 'RR_ARG1',\n",
       " 'RR_ARG1',\n",
       " 'DN']"
      ]
     },
     "execution_count": 12,
     "metadata": {},
     "output_type": "execute_result"
    }
   ],
   "source": [
    "ActionSequenceGenerator.generate_action_sequence(custom_AMR, sentence)"
   ]
  },
  {
   "cell_type": "markdown",
   "metadata": {},
   "source": [
    "# AMR which requires a SWAP operation"
   ]
  },
  {
   "cell_type": "markdown",
   "metadata": {},
   "source": [
    "We will now experiment in the same manner with more AMR strings. The first one is a sentence which requires a swap, when we have on the stack the following elements [s2, f, h, s]. Swapping f and h enables us to escape the deadlock and finish the AMR."
   ]
  },
  {
   "cell_type": "code",
   "execution_count": 13,
   "metadata": {
    "collapsed": true
   },
   "outputs": [],
   "source": [
    "amr = \"\"\"(s2 / seem-01~e.1\n",
    "       :ARG1~e.3 (h / have-03~e.8\n",
    "             :ARG0 (w / we~e.7)\n",
    "             :ARG1 (s / scheme~e.10\n",
    "                   :mod (p / plan-01~e.15\n",
    "                   :ARG1 (r / renovate-01~e.14)\n",
    "                         :ARG1-of (m / major-02~e.13))\n",
    "                   :purpose (f / future~e.5))))\"\"\"\n",
    "sentence = \"\"\"It seems that for the future , we have a scheme , a major renovation plan .\"\"\""
   ]
  },
  {
   "cell_type": "code",
   "execution_count": 14,
   "metadata": {
    "collapsed": false
   },
   "outputs": [
    {
     "name": "stdout",
     "output_type": "stream",
     "text": [
      "\n",
      "Mappings between node variables and their corresponding concepts.\n",
      "\n",
      "{'f': 'future', 'h': 'have-03', 'm': 'major-02', 'p': 'plan-01', 's': 'scheme', 'r': 'renovate-01', 'w': 'we', 's2': 'seem-01'}\n",
      "\n",
      "Mappings between nodes and all the aligned tokens: If the nodes don't havea variable (polarity, literals, quantities, interrogatives), they specify both the aligned tokens and the parent in order to uniquely identify them\n",
      "\n",
      "{'f': ['5'], 'h': ['8'], 'm': ['13'], 'p': ['15'], 's': ['10'], 'r': ['14'], 'w': ['7'], 's2': ['1']}\n",
      "\n",
      "Mappings between relations and tokens. Uniquely identified by also specifying the parent of that relation.\n",
      "\n",
      "{'ARG1': [[('3', 's2')]]}\n",
      "\n",
      "Mappings from a node to each child, along with the relation between them.\n",
      "\n",
      "Key: f\n",
      "Leaf\n",
      "\n",
      "Key: h\n",
      "ARG0 -> w\n",
      "ARG1 -> s\n",
      "\n",
      "Key: m\n",
      "Leaf\n",
      "\n",
      "Key: p\n",
      "ARG1 -> r\n",
      "ARG1-of -> m\n",
      "\n",
      "Key: s\n",
      "purpose -> f\n",
      "mod -> p\n",
      "\n",
      "Key: r\n",
      "Leaf\n",
      "\n",
      "Key: w\n",
      "Leaf\n",
      "\n",
      "Key: s2\n",
      "ARG1 -> h\n",
      "\n",
      "\n",
      "All the nodes in the amr should appear here.\n",
      "\n",
      "['f', 'h', 'm', 'p', 's', 'r', 'w', 's2']\n",
      "\n",
      "Creating custom AMR.\n",
      "\n",
      "\n",
      "Custom AMR token to concepts dict\n",
      "\n",
      "{1: ('s2', 'seem-01'), 5: ('f', 'future'), 7: ('w', 'we'), 8: ('h', 'have-03'), 10: ('s', 'scheme'), 13: ('m', 'major-02'), 14: ('r', 'renovate-01'), 15: ('p', 'plan-01')}\n",
      "\n",
      "Custom AMR relations dict\n",
      "\n",
      "{('p', 's'): ('mod', ['r', 'm'], ['15']), ('r', 'p'): ('ARG1', [], ['14']), ('s2', ''): ('', ['h'], ['1']), ('f', 's'): ('purpose', [], ['5']), ('h', 's2'): ('ARG1', ['w', 's'], ['8']), ('w', 'h'): ('ARG0', [], ['7']), ('m', 'p'): ('ARG1-of', [], ['13']), ('s', 'h'): ('ARG1', ['f', 'p'], ['10'])}\n",
      "\n",
      "Custom AMR parent dict\n",
      "\n",
      "{'f': 's', 'h': 's2', 'm': 'p', 'p': 's', 's': 'h', 'r': 'p', 'w': 'h', 's2': ''}\n"
     ]
    }
   ],
   "source": [
    "sequence = generate_action_sequence(generate_custom_amr(AMR.parse_string(amr)), sentence)"
   ]
  },
  {
   "cell_type": "markdown",
   "metadata": {},
   "source": [
    "(s2 / seem-01~e.1  \n",
    "\n",
    "    :ARG1~e.3 (h / have-03~e.8  \n",
    "             :ARG0 (w / we~e.7)   \n",
    "             :ARG1 (s / scheme~e.10   \n",
    "                   :mod (p / plan-01~e.15  \n",
    "                         :ARG1 (r / renovate-01~e.14)  \n",
    "                         :ARG1-of (m / major-02~e.13))  \n",
    "                   :purpose (f / future~e.5))))  \n",
    "**It seems that for the future , we have a scheme , a major renovation plan .  **                "
   ]
  },
  {
   "cell_type": "code",
   "execution_count": 15,
   "metadata": {
    "collapsed": false
   },
   "outputs": [
    {
     "data": {
      "text/plain": [
       "['DN',\n",
       " 'SH_seem-01',\n",
       " 'DN',\n",
       " 'DN',\n",
       " 'DN',\n",
       " 'SH_future',\n",
       " 'DN',\n",
       " 'SH_we',\n",
       " 'SH_have-03',\n",
       " 'RL_ARG0',\n",
       " 'DN',\n",
       " 'SH_scheme',\n",
       " 'DN',\n",
       " 'DN',\n",
       " 'SH_major-02',\n",
       " 'SH_renovate-01',\n",
       " 'SH_plan-01',\n",
       " 'RL_ARG1',\n",
       " 'RL_ARG1-of',\n",
       " 'RR_mod',\n",
       " 'DN',\n",
       " 'SW',\n",
       " 'RL_purpose',\n",
       " 'RR_ARG1',\n",
       " 'RR_ARG1']"
      ]
     },
     "execution_count": 15,
     "metadata": {},
     "output_type": "execute_result"
    }
   ],
   "source": [
    "sequence"
   ]
  },
  {
   "cell_type": "markdown",
   "metadata": {},
   "source": [
    "# Another AMR which requires a SWAP operation"
   ]
  },
  {
   "cell_type": "code",
   "execution_count": 16,
   "metadata": {
    "collapsed": true
   },
   "outputs": [],
   "source": [
    "amr = \"\"\"(r / recommend-01~e.1\n",
    "       :ARG1 (a / advocate-01~e.4\n",
    "             :ARG1 (i / it~e.0)\n",
    "             :manner~e.2 (v / vigorous~e.3)))\"\"\"\n",
    "sentence = \"\"\"It should be vigorously advocated .\"\"\""
   ]
  },
  {
   "cell_type": "code",
   "execution_count": 17,
   "metadata": {
    "collapsed": false
   },
   "outputs": [
    {
     "name": "stdout",
     "output_type": "stream",
     "text": [
      "\n",
      "Mappings between node variables and their corresponding concepts.\n",
      "\n",
      "{'i': 'it', 'a': 'advocate-01', 'r': 'recommend-01', 'v': 'vigorous'}\n",
      "\n",
      "Mappings between nodes and all the aligned tokens: If the nodes don't havea variable (polarity, literals, quantities, interrogatives), they specify both the aligned tokens and the parent in order to uniquely identify them\n",
      "\n",
      "{'i': ['0'], 'a': ['4'], 'r': ['1'], 'v': ['3']}\n",
      "\n",
      "Mappings between relations and tokens. Uniquely identified by also specifying the parent of that relation.\n",
      "\n",
      "{'manner': [[('2', 'a')]]}\n",
      "\n",
      "Mappings from a node to each child, along with the relation between them.\n",
      "\n",
      "Key: i\n",
      "Leaf\n",
      "\n",
      "Key: a\n",
      "ARG1 -> i\n",
      "manner -> v\n",
      "\n",
      "Key: r\n",
      "ARG1 -> a\n",
      "\n",
      "Key: v\n",
      "Leaf\n",
      "\n",
      "\n",
      "All the nodes in the amr should appear here.\n",
      "\n",
      "['i', 'a', 'r', 'v']\n",
      "\n",
      "Creating custom AMR.\n",
      "\n",
      "\n",
      "Custom AMR token to concepts dict\n",
      "\n",
      "{0: ('i', 'it'), 1: ('r', 'recommend-01'), 3: ('v', 'vigorous'), 4: ('a', 'advocate-01')}\n",
      "\n",
      "Custom AMR relations dict\n",
      "\n",
      "{('i', 'a'): ('ARG1', [], ['0']), ('r', ''): ('', ['a'], ['1']), ('a', 'r'): ('ARG1', ['i', 'v'], ['4']), ('v', 'a'): ('manner', [], ['3'])}\n",
      "\n",
      "Custom AMR parent dict\n",
      "\n",
      "{'i': 'a', 'a': 'r', 'r': '', 'v': 'a'}\n"
     ]
    }
   ],
   "source": [
    "sequence = generate_action_sequence(generate_custom_amr(AMR.parse_string(amr)), sentence)"
   ]
  },
  {
   "cell_type": "code",
   "execution_count": 18,
   "metadata": {
    "collapsed": false
   },
   "outputs": [
    {
     "data": {
      "text/plain": [
       "['SH_it',\n",
       " 'SH_recommend-01',\n",
       " 'DN',\n",
       " 'SH_vigorous',\n",
       " 'SH_advocate-01',\n",
       " 'RL_manner',\n",
       " 'DN',\n",
       " 'SW',\n",
       " 'RL_ARG1',\n",
       " 'RR_ARG1']"
      ]
     },
     "execution_count": 18,
     "metadata": {},
     "output_type": "execute_result"
    }
   ],
   "source": [
    "sequence"
   ]
  },
  {
   "cell_type": "markdown",
   "metadata": {},
   "source": [
    "# AMR with aligned polarity (and SWAP)"
   ]
  },
  {
   "cell_type": "code",
   "execution_count": 19,
   "metadata": {
    "collapsed": false
   },
   "outputs": [
    {
     "name": "stdout",
     "output_type": "stream",
     "text": [
      "\n",
      "Mappings between node variables and their corresponding concepts.\n",
      "\n",
      "{'a': 'allow-01', 'p': 'photograph-01', 'm': 'media', 'e': 'enter-01'}\n",
      "\n",
      "Mappings between nodes and all the aligned tokens: If the nodes don't havea variable (polarity, literals, quantities, interrogatives), they specify both the aligned tokens and the parent in order to uniquely identify them\n",
      "\n",
      "{'a': ['4'], 'p': ['8'], '-': [('0', 'a')], 'm': ['1'], 'e': ['6']}\n",
      "\n",
      "Mappings between relations and tokens. Uniquely identified by also specifying the parent of that relation.\n",
      "\n",
      "{'polarity': [[('0', 'a')]], 'purpose': [[('7', 'e')]]}\n",
      "\n",
      "Mappings from a node to each child, along with the relation between them.\n",
      "\n",
      "Key: a\n",
      "polarity -> -\n",
      "ARG1 -> e\n",
      "\n",
      "Key: e\n",
      "ARG0 -> m\n",
      "purpose -> p\n",
      "\n",
      "Key: m\n",
      "Leaf\n",
      "\n",
      "Key: -\n",
      "Leaf\n",
      "\n",
      "Key: p\n",
      "Leaf\n",
      "\n",
      "\n",
      "All the nodes in the amr should appear here.\n",
      "\n",
      "['a', 'e', 'm', '-', 'p']\n",
      "\n",
      "Creating custom AMR.\n",
      "\n",
      "\n",
      "Custom AMR token to concepts dict\n",
      "\n",
      "{8: ('p', 'photograph-01'), 0: ('-', '-'), 4: ('a', 'allow-01'), 6: ('e', 'enter-01'), 1: ('m', 'media')}\n",
      "\n",
      "Custom AMR relations dict\n",
      "\n",
      "{('p', 'e'): ('purpose', [], ['8']), ('a', ''): ('', ['-', 'e'], ['4']), ('m', 'e'): ('ARG0', [], ['1']), ('e', 'a'): ('ARG1', ['m', 'p'], ['6']), ('-', 'a'): ('polarity', [], ['0'])}\n",
      "\n",
      "Custom AMR parent dict\n",
      "\n",
      "{'a': '', 'e': 'a', '-': 'a', 'm': 'e', 'p': 'e'}\n"
     ]
    }
   ],
   "source": [
    "amr = \"\"\"(a / allow-01~e.4 :polarity~e.0 -~e.0 \n",
    "      :ARG1 (e / enter-01~e.6 \n",
    "            :ARG0 (m / media~e.1) \n",
    "            :purpose~e.7 (p / photograph-01~e.8)))\"\"\"\n",
    "sentence = \"No media have been allowed to enter for photos .\"\n",
    "sequence = generate_action_sequence(generate_custom_amr(AMR.parse_string(amr)), sentence)"
   ]
  },
  {
   "cell_type": "markdown",
   "metadata": {},
   "source": [
    "(a / allow-01~e.4 :polarity~e.0 -~e.0   \n",
    "\n",
    "    :ARG1 (e / enter-01~e.6   \n",
    "            :ARG0 (m / media~e.1)   \n",
    "            :purpose~e.7 (p / photograph-01~e.8)))  \n",
    "\n",
    "**No media have been allowed to enter for photos .**"
   ]
  },
  {
   "cell_type": "code",
   "execution_count": 20,
   "metadata": {
    "collapsed": false
   },
   "outputs": [
    {
     "data": {
      "text/plain": [
       "['SH_-',\n",
       " 'SH_media',\n",
       " 'DN',\n",
       " 'DN',\n",
       " 'SH_allow-01',\n",
       " 'DN',\n",
       " 'SH_enter-01',\n",
       " 'DN',\n",
       " 'SH_photograph-01',\n",
       " 'RR_purpose',\n",
       " 'DN',\n",
       " 'SW',\n",
       " 'RL_ARG0',\n",
       " 'RR_ARG1',\n",
       " 'RL_polarity']"
      ]
     },
     "execution_count": 20,
     "metadata": {},
     "output_type": "execute_result"
    }
   ],
   "source": [
    "sequence"
   ]
  },
  {
   "cell_type": "markdown",
   "metadata": {},
   "source": [
    "# Another polarity example (wait for fix of custom AMR to run this example)"
   ]
  },
  {
   "cell_type": "code",
   "execution_count": 21,
   "metadata": {
    "collapsed": true
   },
   "outputs": [],
   "source": [
    "amr = \"\"\"(c / cease-01~e.5 \n",
    "      :ARG0 (m / metropolis~e.2 \n",
    "            :mod (t / this~e.0) \n",
    "            :mod (d / dynamic~e.1)) \n",
    "      :ARG1 (m2 / move-01~e.7 :polarity~e.4 -~e.4))\"\"\"\n",
    "sentence = \"\"\"This dynamic metropolis does not cease the movement .\"\"\""
   ]
  },
  {
   "cell_type": "code",
   "execution_count": 22,
   "metadata": {
    "collapsed": false,
    "scrolled": false
   },
   "outputs": [],
   "source": [
    "# sequence = generate_action_sequence(amr, sentence)"
   ]
  },
  {
   "cell_type": "markdown",
   "metadata": {},
   "source": [
    "# Interrogative example"
   ]
  },
  {
   "cell_type": "code",
   "execution_count": 23,
   "metadata": {
    "collapsed": true
   },
   "outputs": [],
   "source": [
    "amr = \"\"\"(d / differ-02~e.5 :mode~e.11 interrogative~e.11 \n",
    "      :ARG1 (t / they~e.8) \n",
    "      :ARG2 (t2 / they~e.1,8 \n",
    "            :time (n / now~e.10)))\"\"\"\n",
    "sentence = \"\"\"Are they going to be different from what they are now ?\"\"\""
   ]
  },
  {
   "cell_type": "code",
   "execution_count": 24,
   "metadata": {
    "collapsed": false
   },
   "outputs": [],
   "source": [
    "# sequence = generate_action_sequence(generate_custom_amr(AMR.parse_string(amr)), sentence)"
   ]
  },
  {
   "cell_type": "markdown",
   "metadata": {
    "collapsed": true
   },
   "source": [
    "# An example in which an extra DN is performed"
   ]
  },
  {
   "cell_type": "code",
   "execution_count": 25,
   "metadata": {
    "collapsed": false
   },
   "outputs": [
    {
     "name": "stdout",
     "output_type": "stream",
     "text": [
      "\n",
      "Mappings between node variables and their corresponding concepts.\n",
      "\n",
      "{'p': 'person', 'k': 'know-01', 'r': 'rich'}\n",
      "\n",
      "Mappings between nodes and all the aligned tokens: If the nodes don't havea variable (polarity, literals, quantities, interrogatives), they specify both the aligned tokens and the parent in order to uniquely identify them\n",
      "\n",
      "{'p': [0], 'k': ['2'], 'r': ['5']}\n",
      "\n",
      "Mappings between relations and tokens. Uniquely identified by also specifying the parent of that relation.\n",
      "\n",
      "{'domain': [[('2', 'r')], ('5', 'r')]}\n",
      "\n",
      "Mappings from a node to each child, along with the relation between them.\n",
      "\n",
      "Key: k\n",
      "ARG1 -> r\n",
      "\n",
      "Key: p\n",
      "Leaf\n",
      "\n",
      "Key: r\n",
      "domain -> p\n",
      "\n",
      "\n",
      "All the nodes in the amr should appear here.\n",
      "\n",
      "['k', 'p', 'r']\n",
      "\n",
      "Creating custom AMR.\n",
      "\n",
      "\n",
      "Custom AMR token to concepts dict\n",
      "\n",
      "{0: ('p', 'person'), 2: ('k', 'know-01'), 5: ('r', 'rich')}\n",
      "\n",
      "Custom AMR relations dict\n",
      "\n",
      "{('k', ''): ('', ['r'], ['2']), ('r', 'k'): ('ARG1', ['p'], ['5']), ('p', 'r'): ('domain', [], [0])}\n",
      "\n",
      "Custom AMR parent dict\n",
      "\n",
      "{'p': 'r', 'k': '', 'r': 'k'}\n"
     ]
    }
   ],
   "source": [
    "import NamedEntityReplacer\n",
    "\n",
    "amr = \"\"\"(k / know-01~e.3 \n",
    "      :ARG1 (r / rich~e.6 \n",
    "            :domain~e.2,5 (p / person :wiki \"Bill_Gates\" \n",
    "                  :name (n / name :op1 \"Bill\"~e.0 :op2 \"Gates\"~e.1))))\"\"\"\n",
    "sentence = \"\"\"Bill Gates is known to be rich .\"\"\"\n",
    "(new_amr, new_sentence, _) = NamedEntityReplacer.replace_named_entities(AMR.parse_string(amr), sentence)\n",
    "sequence = generate_action_sequence(generate_custom_amr(new_amr), new_sentence)"
   ]
  },
  {
   "cell_type": "code",
   "execution_count": 26,
   "metadata": {
    "collapsed": false
   },
   "outputs": [
    {
     "data": {
      "text/plain": [
       "['SH_person',\n",
       " 'DN',\n",
       " 'SH_know-01',\n",
       " 'DN',\n",
       " 'DN',\n",
       " 'SH_rich',\n",
       " 'DN',\n",
       " 'SW',\n",
       " 'RL_domain',\n",
       " 'RR_ARG1']"
      ]
     },
     "execution_count": 26,
     "metadata": {},
     "output_type": "execute_result"
    }
   ],
   "source": [
    "sequence"
   ]
  },
  {
   "cell_type": "code",
   "execution_count": null,
   "metadata": {
    "collapsed": true
   },
   "outputs": [],
   "source": []
  }
 ],
 "metadata": {
  "kernelspec": {
   "display_name": "Python 2",
   "language": "python",
   "name": "python2"
  },
  "language_info": {
   "codemirror_mode": {
    "name": "ipython",
    "version": 2
   },
   "file_extension": ".py",
   "mimetype": "text/x-python",
   "name": "python",
   "nbconvert_exporter": "python",
   "pygments_lexer": "ipython2",
   "version": "2.7.13"
  }
 },
 "nbformat": 4,
 "nbformat_minor": 0
}

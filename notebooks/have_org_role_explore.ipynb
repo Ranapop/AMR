{
 "cells": [
  {
   "cell_type": "code",
   "execution_count": 255,
   "metadata": {
    "collapsed": true
   },
   "outputs": [],
   "source": [
    "from AMRGraph import AMR\n",
    "from AMRData import CustomizedAMR\n",
    "from utilities import pretty_print, generate_action_sequence, generate_custom_amr, generate_amr_with_literals\n",
    "import ActionSequenceGenerator\n",
    "import TokensReplacer\n",
    "import re\n",
    "import itertools\n",
    "from operator import itemgetter\n",
    "\n",
    "sentence = \"\"\"A staff of 30 specialists will conduct research and training on cyber warfare and will be prepared to assist NATO members with response to any future cyber attacks .\"\"\"\n",
    "amr_string = \"\"\"(a / and~e.8,13 \n",
    "      :op1 (r / research-01~e.7 \n",
    "            :ARG0 (s / staff~e.1 \n",
    "                  :consist-of~e.2 (p2 / person~e.4 :quant 30~e.3 \n",
    "                        :ARG0-of~e.4 (s2 / specialize-01~e.4))) \n",
    "            :ARG1~e.10 (w / warfare~e.12 \n",
    "                  :mod (c / cyber~e.11))) \n",
    "      :op2 (t / train-01~e.9 \n",
    "            :ARG1 w \n",
    "            :ARG2 s) \n",
    "      :op3 (p / prepare-02~e.16 \n",
    "            :ARG1 s \n",
    "            :ARG2 (a2 / assist-01~e.18 \n",
    "                  :ARG0 s \n",
    "                  :ARG1 (c3 / country \n",
    "                        :ARG0-of (h / have-org-role-91 \n",
    "                              :ARG1 (m3 / military :wiki \"NATO\" \n",
    "                                    :name (n2 / name :op1 \"NATO\"~e.19)) \n",
    "                              :ARG2 (m / member~e.20))) \n",
    "                  :ARG2~e.21 (r2 / respond-01~e.22 \n",
    "                        :ARG1~e.23 (a3 / attack-01~e.27 \n",
    "                              :mod (c2 / cyber~e.26) \n",
    "                              :mod (f / future~e.25) \n",
    "                              :mod (a4 / any~e.24))))))\n",
    "\"\"\""
   ]
  },
  {
   "cell_type": "code",
   "execution_count": 256,
   "metadata": {
    "collapsed": true
   },
   "outputs": [],
   "source": [
    "amr = AMR.parse_string(amr_string)"
   ]
  },
  {
   "cell_type": "code",
   "execution_count": 257,
   "metadata": {
    "collapsed": false
   },
   "outputs": [
    {
     "name": "stdout",
     "output_type": "stream",
     "text": [
      "\n",
      "Mappings between node variables and their corresponding concepts.\n",
      "\n",
      "{'p2': 'person', 'a': 'and', 'c': 'cyber', 'm3': 'military', 'r2': 'respond-01', 'f': 'future', 's2': 'specialize-01', 'm': 'member', 'a3': 'attack-01', 'p': 'prepare-02', 's': 'staff', 'r': 'research-01', 't': 'train-01', 'w': 'warfare', 'h': 'have-org-role-91', 'c3': 'country', 'c2': 'cyber', 'n2': 'name', 'a2': 'assist-01', 'a4': 'any'}\n",
      "\n",
      "Mappings between nodes and all the aligned tokens: If the nodes don't havea variable (polarity, literals, quantities, interrogatives), they specify both the aligned tokens and the parent in order to uniquely identify them\n",
      "\n",
      "{'p2': ['4'], 'a': ['8', '13'], 'c': ['11'], 'r2': ['22'], 'f': ['25'], 's2': ['4'], '30': [('3', 'p2')], 'm': ['20'], 's': ['1'], 'p': ['16'], 'a3': ['27'], 'r': ['7'], u'NATO': [(u'19', 'n2')], 't': ['9'], 'w': ['12'], 'c2': ['26'], 'a2': ['18'], 'a4': ['24']}\n",
      "\n",
      "Mappings between relations and tokens. Uniquely identified by also specifying the parent of that relation.\n",
      "\n",
      "{'ARG1': [[('10', 'r')], [('23', 'r2')]], 'ARG2': [[('21', 'a2')]], 'consist-of': [[('2', 's')]], 'ARG0-of': [[('4', 'p2')]]}\n",
      "\n",
      "Mappings from a node to each child, along with the relation between them.\n",
      "\n",
      "Key: s2\n",
      "Leaf\n",
      "\n",
      "Key: NATO\n",
      "Leaf\n",
      "\n",
      "Key: m3\n",
      "wiki -> NATO\n",
      "name -> n2\n",
      "\n",
      "Key: a\n",
      "op1 -> r\n",
      "op2 -> t\n",
      "op3 -> p\n",
      "\n",
      "Key: a3\n",
      "mod -> c2\n",
      "\n",
      "Key: a2\n",
      "ARG0 -> s\n",
      "ARG1 -> c3\n",
      "ARG2 -> r2\n",
      "\n",
      "Key: a4\n",
      "Leaf\n",
      "\n",
      "Key: c3\n",
      "ARG0-of -> h\n",
      "\n",
      "Key: c2\n",
      "Leaf\n",
      "\n",
      "Key: p2\n",
      "quant -> 30\n",
      "ARG0-of -> s2\n",
      "\n",
      "Key: c\n",
      "Leaf\n",
      "\n",
      "Key: r2\n",
      "ARG1 -> a3\n",
      "\n",
      "Key: f\n",
      "Leaf\n",
      "\n",
      "Key: h\n",
      "ARG1 -> m3\n",
      "ARG2 -> m\n",
      "\n",
      "Key: 30\n",
      "Leaf\n",
      "\n",
      "Key: m\n",
      "Leaf\n",
      "\n",
      "Key: p\n",
      "ARG1 -> s\n",
      "ARG2 -> a2\n",
      "\n",
      "Key: s\n",
      "consist-of -> p2\n",
      "\n",
      "Key: r\n",
      "ARG0 -> s\n",
      "ARG1 -> w\n",
      "\n",
      "Key: t\n",
      "ARG1 -> w\n",
      "ARG2 -> s\n",
      "\n",
      "Key: w\n",
      "mod -> c\n",
      "\n",
      "Key: n2\n",
      "op1 -> NATO\n",
      "\n",
      "\n",
      "All the nodes in the amr should appear here.\n",
      "\n",
      "['s2', u'NATO', 'm3', 'a', 'a3', 'a2', 'a4', 'c3', 'c2', 'p2', 'c', 'r2', 'f', 'h', '30', 'm', 'p', 's', 'r', 't', 'w', 'n2']\n",
      "\n",
      "Creating custom AMR.\n",
      "\n",
      "\n",
      "Custom AMR token to concepts dict\n",
      "\n",
      "{1: ('s', 'staff'), 4: ('s2', 'specialize-01'), 7: ('r', 'research-01'), 8: ('a', 'and'), 9: ('t', 'train-01'), 11: ('c', 'cyber'), 12: ('w', 'warfare'), 16: ('p', 'prepare-02'), 18: ('a2', 'assist-01'), 20: ('m', 'member'), 22: ('r2', 'respond-01'), 24: ('a4', 'any'), 25: ('f', 'future'), 26: ('c2', 'cyber'), 27: ('a3', 'attack-01')}\n",
      "\n",
      "Custom AMR relations dict\n",
      "\n",
      "{('r2', 'a2'): ('ARG2', ['a3'], ['22']), ('a2', 'p'): ('ARG2', ['s', 'c3', 'r2'], ['18']), ('p2', 's'): ('consist-of', ['30', 's2'], ['4']), ('s', 'p'): ('ARG1', ['p2'], ['1']), ('w', 'r'): ('ARG1', [], ['12']), ('r', 'a'): ('op1', ['s', 'w'], ['7']), ('s', 't'): ('ARG2', [], ['1']), ('m', 'h'): ('ARG2', [], ['20']), ('a', ''): ('', ['r', 't', 'p'], ['8', '13']), ('p', 'a'): ('op3', ['s', 'a2'], ['16']), ('a3', 'r2'): ('ARG1', ['c2'], ['27']), ('s', 'a2'): ('ARG0', [], ['1']), ('w', 't'): ('ARG1', ['c'], ['12']), ('c3', 'a2'): ('ARG1', ['h'], ''), (u'NATO', 'm3'): ('wiki', [], ''), ('t', 'a'): ('op2', ['w', 's'], ['9']), ('c2', 'a3'): ('mod', [], ['26']), ('30', 'p2'): ('quant', [], ['3']), ('m3', 'h'): ('ARG1', [u'NATO', 'n2'], ''), ('c', 'w'): ('mod', [], ['11']), ('s', 'r'): ('ARG0', [], ['1']), ('h', 'c3'): ('ARG0-of', ['m3', 'm'], ''), (u'NATO', 'n2'): ('op1', [], [u'19']), ('s2', 'p2'): ('ARG0-of', [], ['4']), ('n2', 'm3'): ('name', [u'NATO'], '')}\n",
      "\n",
      "Custom AMR parent dict\n",
      "\n",
      "{'p2': 's', 'a': '', 'c': 'w', 'w': 't', 'r2': 'a2', 'h': 'c3', '30': 'p2', 'm': 'h', 'a3': 'r2', 'p': 'a', 's': 't', 'r': 'a', u'NATO': 'n2', 't': 'a', 'm3': 'h', 's2': 'p2', 'c3': 'a2', 'c2': 'a3', 'n2': 'm3', 'a2': 'p'}\n"
     ]
    }
   ],
   "source": [
    "custom_amr = generate_custom_amr(amr)"
   ]
  },
  {
   "cell_type": "code",
   "execution_count": 258,
   "metadata": {
    "collapsed": false
   },
   "outputs": [],
   "source": [
    "# get the unaligned have-org-role-91 nodes which have an ARG1 child, i.e. they can be replaced\n",
    "have_org_role_nodes = [k for k in amr.node_to_concepts if amr.node_to_concepts[k] == 'have-org-role-91'\n",
    "                                                          and k not in amr.node_to_tokens\n",
    "                                                          and amr[k]\n",
    "                                                          and \"ARG1\" in amr[k]]"
   ]
  },
  {
   "cell_type": "code",
   "execution_count": 259,
   "metadata": {
    "collapsed": false
   },
   "outputs": [
    {
     "data": {
      "text/plain": [
       "['h']"
      ]
     },
     "execution_count": 259,
     "metadata": {},
     "output_type": "execute_result"
    }
   ],
   "source": [
    "have_org_role_nodes"
   ]
  },
  {
   "cell_type": "markdown",
   "metadata": {},
   "source": [
    "Things to update:\n",
    "- Remove have-org-role-91 from amr.node_to_concepts\n",
    "- Replace the have-org-role-91 node from amr with its child having the relation \"ARG1\"\n",
    "- Update the parent of have-org-role-91 to point to the new node"
   ]
  },
  {
   "cell_type": "code",
   "execution_count": 260,
   "metadata": {
    "collapsed": false
   },
   "outputs": [],
   "source": [
    "amr.node_to_concepts = dict((k, v) for k, v in amr.node_to_concepts.iteritems() if k not in have_org_role_nodes)"
   ]
  },
  {
   "cell_type": "code",
   "execution_count": 261,
   "metadata": {
    "collapsed": false
   },
   "outputs": [
    {
     "data": {
      "text/plain": [
       "{'a': 'and',\n",
       " 'a2': 'assist-01',\n",
       " 'a3': 'attack-01',\n",
       " 'a4': 'any',\n",
       " 'c': 'cyber',\n",
       " 'c2': 'cyber',\n",
       " 'c3': 'country',\n",
       " 'f': 'future',\n",
       " 'm': 'member',\n",
       " 'm3': 'military',\n",
       " 'n2': 'name',\n",
       " 'p': 'prepare-02',\n",
       " 'p2': 'person',\n",
       " 'r': 'research-01',\n",
       " 'r2': 'respond-01',\n",
       " 's': 'staff',\n",
       " 's2': 'specialize-01',\n",
       " 't': 'train-01',\n",
       " 'w': 'warfare'}"
      ]
     },
     "execution_count": 261,
     "metadata": {},
     "output_type": "execute_result"
    }
   ],
   "source": [
    "amr.node_to_concepts"
   ]
  },
  {
   "cell_type": "code",
   "execution_count": 262,
   "metadata": {
    "collapsed": false
   },
   "outputs": [],
   "source": [
    "import copy\n",
    "\n",
    "for h in have_org_role_nodes:\n",
    "    node = amr.pop(h)\n",
    "    new_node = node['ARG1']\n",
    "    # add the have_org_role_children to the node corresponding to its ARG1 child\n",
    "    node.pop('ARG1')\n",
    "    for rel in node:\n",
    "        amr[new_node[0]].append(rel, node[rel])\n",
    "    # update the parent of have_org_role\n",
    "    for k in amr:\n",
    "        for rel in amr[k]:\n",
    "            if amr[k][rel][0] == h:\n",
    "                amr[k].replace(rel, new_node)"
   ]
  },
  {
   "cell_type": "code",
   "execution_count": 263,
   "metadata": {
    "collapsed": false
   },
   "outputs": [
    {
     "name": "stdout",
     "output_type": "stream",
     "text": [
      "defaultdict(<class 'util.ListMap'>, {'s2': defaultdict(<type 'list'>, {}), u'NATO': defaultdict(<type 'list'>, {}), 'm3': defaultdict(<type 'list'>, {'wiki': [(u'NATO',)], 'ARG2': [('m',)], 'name': [('n2',)]}), 'a': defaultdict(<type 'list'>, {'op1': [('r',)], 'op2': [('t',)], 'op3': [('p',)]}), 'a3': defaultdict(<type 'list'>, {'mod': [('c2',), ('f',), ('a4',)]}), 'a2': defaultdict(<type 'list'>, {'ARG0': [('s',)], 'ARG1': [('c3',)], 'ARG2': [('r2',)]}), 'a4': defaultdict(<type 'list'>, {}), 'c3': defaultdict(<type 'list'>, {'ARG0-of': [('m3',)]}), 'c2': defaultdict(<type 'list'>, {}), 'p2': defaultdict(<type 'list'>, {'quant': [('30',)], 'ARG0-of': [('s2',)]}), 'c': defaultdict(<type 'list'>, {}), 'r2': defaultdict(<type 'list'>, {'ARG1': [('a3',)]}), 'f': defaultdict(<type 'list'>, {}), '30': defaultdict(<type 'list'>, {}), 'm': defaultdict(<type 'list'>, {}), 'p': defaultdict(<type 'list'>, {'ARG1': [('s',)], 'ARG2': [('a2',)]}), 's': defaultdict(<type 'list'>, {'consist-of': [('p2',)]}), 'r': defaultdict(<type 'list'>, {'ARG0': [('s',)], 'ARG1': [('w',)]}), 't': defaultdict(<type 'list'>, {'ARG1': [('w',)], 'ARG2': [('s',)]}), 'w': defaultdict(<type 'list'>, {'mod': [('c',)]}), 'n2': defaultdict(<type 'list'>, {'op1': [(u'NATO',)]})})\n"
     ]
    }
   ],
   "source": [
    "print amr"
   ]
  },
  {
   "cell_type": "markdown",
   "metadata": {},
   "source": [
    "Apply the name entity replacer on the new amr:"
   ]
  },
  {
   "cell_type": "code",
   "execution_count": 264,
   "metadata": {
    "collapsed": true
   },
   "outputs": [],
   "source": [
    "(new_amr, new_sentence, named_entities) = TokensReplacer.replace_named_entities(amr, sentence)"
   ]
  },
  {
   "cell_type": "code",
   "execution_count": 265,
   "metadata": {
    "collapsed": false
   },
   "outputs": [
    {
     "name": "stdout",
     "output_type": "stream",
     "text": [
      "A staff of 30 specialists will conduct research and training on cyber warfare and will be prepared to assist military members with response to any future cyber attacks .\n"
     ]
    }
   ],
   "source": [
    "print new_sentence"
   ]
  },
  {
   "cell_type": "code",
   "execution_count": 266,
   "metadata": {
    "collapsed": false
   },
   "outputs": [
    {
     "name": "stdout",
     "output_type": "stream",
     "text": [
      "[('m3', 'n2', [u'NATO'], 19, 19)]\n"
     ]
    }
   ],
   "source": [
    "print named_entities"
   ]
  },
  {
   "cell_type": "code",
   "execution_count": null,
   "metadata": {
    "collapsed": true
   },
   "outputs": [],
   "source": [
    ""
   ]
  }
 ],
 "metadata": {
  "kernelspec": {
   "display_name": "Python 2",
   "language": "python",
   "name": "python2"
  },
  "language_info": {
   "codemirror_mode": {
    "name": "ipython",
    "version": 2.0
   },
   "file_extension": ".py",
   "mimetype": "text/x-python",
   "name": "python",
   "nbconvert_exporter": "python",
   "pygments_lexer": "ipython2",
   "version": "2.7.13"
  }
 },
 "nbformat": 4,
 "nbformat_minor": 0
}
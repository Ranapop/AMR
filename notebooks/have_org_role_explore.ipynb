{
 "cells": [
  {
   "cell_type": "code",
   "execution_count": 2,
   "metadata": {
    "collapsed": false
   },
   "outputs": [],
   "source": [
    "import os\n",
    "import sys\n",
    "module_path = os.path.abspath(os.path.join('..'))\n",
    "if module_path not in sys.path:\n",
    "    sys.path.append(module_path)"
   ]
  },
  {
   "cell_type": "code",
   "execution_count": 65,
   "metadata": {
    "collapsed": false
   },
   "outputs": [],
   "source": [
    "from AMRGraph import AMR\n",
    "from AMRData import CustomizedAMR\n",
    "from utilities import pretty_print, generate_action_sequence, generate_custom_amr, generate_amr_with_literals\n",
    "import ActionSequenceGenerator\n",
    "import TokensReplacer\n",
    "import re\n",
    "import itertools\n",
    "from operator import itemgetter\n",
    "\n",
    "sentence = \"\"\"The official alleged Karzai was reluctant to move against big drug lords in Karzai 's political power base in the south of Afghanistan where most opium is produced .\"\"\"\n",
    "amr_string = \"\"\"(a / allege-01~e.2 \n",
    "      :ARG0 (p5 / person \n",
    "            :ARG0-of (h / have-org-role-91 \n",
    "                  :ARG2 (o / official~e.1))) \n",
    "      :ARG1 (r / reluctant~e.5 \n",
    "            :topic (m / move-04~e.7 \n",
    "                  :ARG0 p \n",
    "                  :ARG1 (l / lord~e.11 \n",
    "                        :mod (d / drug~e.10) \n",
    "                        :mod (b / big~e.9)) \n",
    "                  :location~e.12 (b2 / base~e.17 \n",
    "                        :mod (p2 / power~e.16) \n",
    "                        :mod (p3 / politics~e.15) \n",
    "                        :poss p~e.13,14 \n",
    "                        :location~e.18 (s2 / south~e.20 \n",
    "                              :part-of~e.21 (c / country :wiki \"Afghanistan\" \n",
    "                                    :name (n / name :op1 \"Afghanistan\"~e.22)) \n",
    "                              :location-of~e.23 (p4 / produce-01~e.27 \n",
    "                                    :ARG1 (o2 / opium~e.25 \n",
    "                                          :quant (m2 / most~e.24)))))) \n",
    "            :domain~e.4 (p / person :wiki \"Hamid_Karzai\" \n",
    "                  :name (n3 / name :op1 \"Karzai\"~e.3))))\n",
    "\"\"\""
   ]
  },
  {
   "cell_type": "code",
   "execution_count": 66,
   "metadata": {
    "collapsed": true
   },
   "outputs": [],
   "source": [
    "amr = AMR.parse_string(amr_string)"
   ]
  },
  {
   "cell_type": "code",
   "execution_count": 67,
   "metadata": {
    "collapsed": false
   },
   "outputs": [
    {
     "name": "stdout",
     "output_type": "stream",
     "text": [
      "\n",
      "Mappings between node variables and their corresponding concepts.\n",
      "\n",
      "{'p2': 'power', 'p3': 'politics', 'c': 'country', 'b': 'big', 'd': 'drug', 'p4': 'produce-01', 'p5': 'person', 's2': 'south', 'h': 'have-org-role-91', 'm': 'move-04', 'l': 'lord', 'o': 'official', 'n': 'name', 'p': 'person', 'r': 'reluctant', 'a': 'allege-01', 'b2': 'base', 'm2': 'most', 'n3': 'name', 'o2': 'opium'}\n",
      "\n",
      "Mappings between nodes and all the aligned tokens: If the nodes don't havea variable (polarity, literals, quantities, interrogatives), they specify both the aligned tokens and the parent in order to uniquely identify them\n",
      "\n",
      "{u'Karzai': [(u'3', 'n3')], u'Afghanistan': [(u'22', 'n')], 'b': ['9'], 'd': ['10'], 'p4': ['27'], 'p3': ['15'], 's2': ['20'], 'm': ['7'], 'l': ['11'], 'o': ['1'], 'p2': ['16'], 'r': ['5'], 'a': ['2'], 'b2': ['17'], 'm2': ['24'], 'o2': ['25']}\n",
      "\n",
      "Mappings between relations and tokens. Uniquely identified by also specifying the parent of that relation.\n",
      "\n",
      "{'domain': [[('4', 'r')]], 'part-of': [[('21', 's2')]], 'location': [[('18', 'b2')], [('12', 'm')]], 'location-of': [[('23', 's2')]]}\n",
      "\n",
      "Mappings from a node to each child, along with the relation between them.\n",
      "\n",
      "Key: Afghanistan\n",
      "Leaf\n",
      "\n",
      "Key: b2\n",
      "location -> s2\n",
      "poss -> p~e.13,14\n",
      "mod -> p2\n",
      "\n",
      "Key: s2\n",
      "part-of -> c\n",
      "location-of -> p4\n",
      "\n",
      "Key: m2\n",
      "Leaf\n",
      "\n",
      "Key: o2\n",
      "quant -> m2\n",
      "\n",
      "Key: Karzai\n",
      "Leaf\n",
      "\n",
      "Key: a\n",
      "ARG0 -> p5\n",
      "ARG1 -> r\n",
      "\n",
      "Key: p2\n",
      "Leaf\n",
      "\n",
      "Key: p3\n",
      "Leaf\n",
      "\n",
      "Key: c\n",
      "wiki -> Afghanistan\n",
      "name -> n\n",
      "\n",
      "Key: b\n",
      "Leaf\n",
      "\n",
      "Key: d\n",
      "Leaf\n",
      "\n",
      "Key: p4\n",
      "ARG1 -> o2\n",
      "\n",
      "Key: p5\n",
      "ARG0-of -> h\n",
      "\n",
      "Key: h\n",
      "ARG2 -> o\n",
      "\n",
      "Key: Hamid_Karzai\n",
      "Leaf\n",
      "\n",
      "Key: m\n",
      "ARG0 -> p\n",
      "ARG1 -> l\n",
      "location -> b2\n",
      "\n",
      "Key: l\n",
      "mod -> d\n",
      "\n",
      "Key: o\n",
      "Leaf\n",
      "\n",
      "Key: n\n",
      "op1 -> Afghanistan\n",
      "\n",
      "Key: p\n",
      "Leaf\n",
      "\n",
      "Key: r\n",
      "topic -> m\n",
      "domain -> p\n",
      "\n",
      "Key: n3\n",
      "op1 -> Karzai\n",
      "\n",
      "\n",
      "All the nodes in the amr should appear here.\n",
      "\n",
      "[u'Afghanistan', 'b2', 's2', 'm2', 'o2', u'Karzai', 'a', 'p2', 'p3', 'c', 'b', 'd', 'p4', 'p5', 'h', u'Hamid_Karzai', 'm', 'l', 'o', 'n', 'p', 'r', 'n3']\n",
      "\n",
      "Creating custom AMR.\n",
      "\n",
      "\n",
      "Custom AMR token to concepts dict\n",
      "\n",
      "{1: ('o', 'official'), 2: ('a', 'allege-01'), 5: ('r', 'reluctant'), 7: ('m', 'move-04'), 9: ('b', 'big'), 10: ('d', 'drug'), 11: ('l', 'lord'), 15: ('p3', 'politics'), 16: ('p2', 'power'), 17: ('b2', 'base'), 20: ('s2', 'south'), 24: ('m2', 'most'), 25: ('o2', 'opium'), 27: ('p4', 'produce-01')}\n",
      "\n",
      "Custom AMR relations dict\n",
      "\n",
      "{('n3', ''): ('', [u'Karzai'], ''), ('p~e.13,14', 'b2'): ('poss', [], ''), ('p', 'r'): ('domain', [], ''), ('p4', 's2'): ('location-of', ['o2'], ['27']), ('r', 'a'): ('ARG1', ['m', 'p'], ['5']), ('p2', 'b2'): ('mod', [], ['16']), ('l', 'm'): ('ARG1', ['d'], ['11']), ('a', ''): ('', ['p5', 'r'], ['2']), ('p5', 'a'): ('ARG0', ['h'], ''), ('n', 'c'): ('name', [u'Afghanistan'], ''), ('s2', 'b2'): ('location', ['c', 'p4'], ['20']), (u'Afghanistan', 'n'): ('op1', [], [u'22']), ('p', 'm'): ('ARG0', [], ''), ('h', 'p5'): ('ARG0-of', ['o'], ''), (u'Afghanistan', 'c'): ('wiki', [], ''), ('b2', 'm'): ('location', ['s2', 'p~e.13,14', 'p2'], ['17']), ('m2', 'o2'): ('quant', [], ['24']), ('d', 'l'): ('mod', [], ['10']), ('o', 'h'): ('ARG2', [], ['1']), ('o2', 'p4'): ('ARG1', ['m2'], ['25']), (u'Karzai', 'n3'): ('op1', [], [u'3']), ('c', 's2'): ('part-of', [u'Afghanistan', 'n'], ''), ('m', 'r'): ('topic', ['p', 'l', 'b2'], ['7'])}\n",
      "\n",
      "Custom AMR parent dict\n",
      "\n",
      "{'p2': 'b2', u'Afghanistan': 'n', 'c': 's2', 'n3': '', 'd': 'l', 'p4': 's2', 'p5': 'a', 's2': 'b2', 'm': 'r', 'h': 'p5', 'o': 'h', 'p~e.13,14': 'b2', u'Karzai': 'n3', 'p': 'r', 'r': 'a', 'a': '', 'b2': 'm', 'm2': 'o2', 'n': 'c', 'o2': 'p4', 'l': 'm'}\n"
     ]
    }
   ],
   "source": [
    "custom_amr = generate_custom_amr(amr)"
   ]
  },
  {
   "cell_type": "code",
   "execution_count": 68,
   "metadata": {
    "collapsed": false
   },
   "outputs": [],
   "source": [
    "# get the unaligned have-org-role-91 nodes which have an ARG1 child, i.e. they can be replaced\n",
    "have_org_role_nodes = [k for k in amr.node_to_concepts if amr.node_to_concepts[k] == 'have-org-role-91'\n",
    "                                                          and k not in amr.node_to_tokens\n",
    "                                                          and amr[k]\n",
    "                                                          and \"ARG2\" in amr[k]]"
   ]
  },
  {
   "cell_type": "code",
   "execution_count": 69,
   "metadata": {
    "collapsed": false
   },
   "outputs": [
    {
     "data": {
      "text/plain": [
       "['h']"
      ]
     },
     "execution_count": 69,
     "metadata": {},
     "output_type": "execute_result"
    }
   ],
   "source": [
    "have_org_role_nodes"
   ]
  },
  {
   "cell_type": "markdown",
   "metadata": {},
   "source": [
    "Things to update:\n",
    "- Remove have-org-role-91 from amr.node_to_concepts\n",
    "- Replace the have-org-role-91 node from amr with its child having the relation \"ARG1\"\n",
    "- Update the parent of have-org-role-91 to point to the new node"
   ]
  },
  {
   "cell_type": "code",
   "execution_count": 70,
   "metadata": {
    "collapsed": false
   },
   "outputs": [],
   "source": [
    "amr.node_to_concepts = dict((k, v) for k, v in amr.node_to_concepts.iteritems() if k not in have_org_role_nodes)"
   ]
  },
  {
   "cell_type": "code",
   "execution_count": 71,
   "metadata": {
    "collapsed": false
   },
   "outputs": [
    {
     "data": {
      "text/plain": [
       "{'a': 'allege-01',\n",
       " 'b': 'big',\n",
       " 'b2': 'base',\n",
       " 'c': 'country',\n",
       " 'd': 'drug',\n",
       " 'l': 'lord',\n",
       " 'm': 'move-04',\n",
       " 'm2': 'most',\n",
       " 'n': 'name',\n",
       " 'n3': 'name',\n",
       " 'o': 'official',\n",
       " 'o2': 'opium',\n",
       " 'p': 'person',\n",
       " 'p2': 'power',\n",
       " 'p3': 'politics',\n",
       " 'p4': 'produce-01',\n",
       " 'p5': 'person',\n",
       " 'r': 'reluctant',\n",
       " 's2': 'south'}"
      ]
     },
     "execution_count": 71,
     "metadata": {},
     "output_type": "execute_result"
    }
   ],
   "source": [
    "amr.node_to_concepts"
   ]
  },
  {
   "cell_type": "code",
   "execution_count": 72,
   "metadata": {
    "collapsed": false
   },
   "outputs": [],
   "source": [
    "import copy\n",
    "\n",
    "for h in have_org_role_nodes:\n",
    "    node = amr.pop(h)\n",
    "    new_node = node['ARG2']\n",
    "    node.pop('ARG2')\n",
    "    ### If there is both arg1 and arg2 (and arg3), it doesn't make sense\n",
    "    ### to perform this operation\n",
    "    if len(node) != 0:\n",
    "        print \"Oh noes!\"\n",
    "    # update the parent of have_org_role\n",
    "    for k in amr:\n",
    "        for rel in amr[k]:\n",
    "            if amr[k][rel][0] == h:\n",
    "                amr[k].replace(rel, new_node)"
   ]
  },
  {
   "cell_type": "code",
   "execution_count": 73,
   "metadata": {
    "collapsed": false
   },
   "outputs": [
    {
     "name": "stdout",
     "output_type": "stream",
     "text": [
      "defaultdict(<class 'util.ListMap'>, {u'Afghanistan': defaultdict(<type 'list'>, {}), 'b2': defaultdict(<type 'list'>, {'location': [('s2',)], 'poss': [('p~e.13,14',)], 'mod': [('p2',), ('p3',)]}), 's2': defaultdict(<type 'list'>, {'part-of': [('c',)], 'location-of': [('p4',)]}), 'm2': defaultdict(<type 'list'>, {}), 'o2': defaultdict(<type 'list'>, {'quant': [('m2',)]}), u'Karzai': defaultdict(<type 'list'>, {}), 'a': defaultdict(<type 'list'>, {'ARG0': [('p5',)], 'ARG1': [('r',)]}), 'p2': defaultdict(<type 'list'>, {}), 'p3': defaultdict(<type 'list'>, {}), 'c': defaultdict(<type 'list'>, {'wiki': [(u'Afghanistan',)], 'name': [('n',)]}), 'b': defaultdict(<type 'list'>, {}), 'd': defaultdict(<type 'list'>, {}), 'p4': defaultdict(<type 'list'>, {'ARG1': [('o2',)]}), 'p5': defaultdict(<type 'list'>, {'ARG0-of': [('o',)]}), u'Hamid_Karzai': defaultdict(<type 'list'>, {}), 'm': defaultdict(<type 'list'>, {'ARG0': [('p',)], 'ARG1': [('l',)], 'location': [('b2',)]}), 'l': defaultdict(<type 'list'>, {'mod': [('d',), ('b',)]}), 'o': defaultdict(<type 'list'>, {}), 'n': defaultdict(<type 'list'>, {'op1': [(u'Afghanistan',)]}), 'p': defaultdict(<type 'list'>, {}), 'r': defaultdict(<type 'list'>, {'topic': [('m',)], 'domain': [('p',)]}), 'n3': defaultdict(<type 'list'>, {'op1': [(u'Karzai',)]})})\n"
     ]
    }
   ],
   "source": [
    "print amr"
   ]
  },
  {
   "cell_type": "markdown",
   "metadata": {},
   "source": [
    "Apply the name entity replacer on the new amr:"
   ]
  },
  {
   "cell_type": "code",
   "execution_count": 74,
   "metadata": {
    "collapsed": true
   },
   "outputs": [],
   "source": [
    "(new_amr, new_sentence, named_entities) = TokensReplacer.replace_named_entities(amr, sentence)"
   ]
  },
  {
   "cell_type": "code",
   "execution_count": 75,
   "metadata": {
    "collapsed": false
   },
   "outputs": [
    {
     "name": "stdout",
     "output_type": "stream",
     "text": [
      "The official alleged Karzai was reluctant to move against big drug lords in Karzai 's political power base in the south of country where most opium is produced .\n"
     ]
    }
   ],
   "source": [
    "print new_sentence"
   ]
  },
  {
   "cell_type": "code",
   "execution_count": 76,
   "metadata": {
    "collapsed": false
   },
   "outputs": [
    {
     "name": "stdout",
     "output_type": "stream",
     "text": [
      "[('c', 'n', [u'Afghanistan'], 22, 22)]\n"
     ]
    }
   ],
   "source": [
    "print named_entities"
   ]
  },
  {
   "cell_type": "code",
   "execution_count": 77,
   "metadata": {
    "collapsed": false
   },
   "outputs": [
    {
     "name": "stdout",
     "output_type": "stream",
     "text": [
      "(a / allege-01\n",
      "\t:ARG0 (p5 / person\n",
      "\t\t:ARG0-of (o / official))\n",
      "\t:ARG1 (r / reluctant\n",
      "\t\t:topic (m / move-04\n",
      "\t\t\t:ARG0 p\n",
      "\t\t\t:ARG1 (l / lord\n",
      "\t\t\t\t:mod (d / drug)\n",
      "\t\t\t\t:mod (b / big))\n",
      "\t\t\t:location (b2 / base\n",
      "\t\t\t\t:location (s2 / south\n",
      "\t\t\t\t\t:part-of (c / country)\n",
      "\t\t\t\t\t:location-of (p4 / produce-01\n",
      "\t\t\t\t\t\t:ARG1 (o2 / opium\n",
      "\t\t\t\t\t\t\t:quant (m2 / most))))\n",
      "\t\t\t\t:poss p~e.13,14\n",
      "\t\t\t\t:mod (p2 / power)\n",
      "\t\t\t\t:mod (p3 / politics)))\n",
      "\t\t:domain (p / person)))\n"
     ]
    }
   ],
   "source": [
    "print new_amr.to_amr_string()"
   ]
  },
  {
   "cell_type": "code",
   "execution_count": 64,
   "metadata": {
    "collapsed": false
   },
   "outputs": [
    {
     "name": "stdout",
     "output_type": "stream",
     "text": [
      "The official alleged Karzai was reluctant to move against big drug lords in Karzai 's political power base in the south of country where most opium is produced .\n"
     ]
    }
   ],
   "source": [
    "print new_sentence"
   ]
  },
  {
   "cell_type": "code",
   "execution_count": null,
   "metadata": {
    "collapsed": true
   },
   "outputs": [],
   "source": []
  }
 ],
 "metadata": {
  "kernelspec": {
   "display_name": "Python 2",
   "language": "python",
   "name": "python2"
  },
  "language_info": {
   "codemirror_mode": {
    "name": "ipython",
    "version": 2
   },
   "file_extension": ".py",
   "mimetype": "text/x-python",
   "name": "python",
   "nbconvert_exporter": "python",
   "pygments_lexer": "ipython2",
   "version": "2.7.13"
  }
 },
 "nbformat": 4,
 "nbformat_minor": 0
}

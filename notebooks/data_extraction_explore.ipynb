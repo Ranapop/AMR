{
 "cells": [
  {
   "cell_type": "markdown",
   "metadata": {
    "collapsed": true
   },
   "source": [
    "## This notebook will explore the extraction of sentences and amr_strings from a training data file with a specific format\n",
    "\n",
    "The format we will try to tackle is:\n",
    "\n",
    "#::id bc.cctv_0000.66 ::amr-annotator SDL-AMR-09 ::preferred  \n",
    "#::tok here , you can come up close with the stars in your mind .  \n",
    "#::alignments 0-1.2 2-1.1.1 3-1 6-1.1 7-1.1.2.r 9-1.1.2 10-1.1.2.1.r 11-1.1.2.1.1 11-1.1.2.1.1.r 12-1.1.2.1  \n",
    "(p / possible-01~e.3 \n",
    "\n",
    "      :ARG1 (c / close-06~e.6 \n",
    "           :ARG1 (y / you~e.2) \n",
    "           :ARG2~e.7 (s / star~e.9 \n",
    "                 :location~e.10 (m / mind~e.12 \n",
    "                      :poss~e.11 y~e.11))) \n",
    "      :location (h / here~e.0))\n"
   ]
  },
  {
   "cell_type": "code",
   "execution_count": 80,
   "metadata": {
    "collapsed": true
   },
   "outputs": [],
   "source": [
    "str = \"\"\"# AMR-English alignment release (generated on Sun Mar 6, 2016 at 21:21:49)\n",
    "\n",
    "# ::id bc.cctv_0000.1 ::amr-annotator SDL-AMR-09 ::preferred\n",
    "# ::tok In the summer of 2005 , a picture that people have long been looking forward to started emerging with frequency in various major Hong Kong media .\n",
    "# ::alignments 2-1.3.2 4-1.3.1 7-1.1 9-1.1.1.1 11-1.1.1.2 13-1.1.1 14-1.1.1 16-1 17-1.2 18-1.2.1.r 19-1.2.1 20-1.2.2.r 21-1.2.2.1 22-1.2.2.2 23-1.2.2.3.2.1 24-1.2.2.3.2.2 25-1.2.2\n",
    "(s / start-01~e.16 \n",
    "      :ARG0 (p / picture~e.7 \n",
    "            :ARG1-of (l / look-forward-03~e.13,14 \n",
    "                  :ARG0 (p2 / person~e.9) \n",
    "                  :ARG1-of (l2 / long-03~e.11))) \n",
    "      :ARG1 (e / emerge-01~e.17 \n",
    "            :ARG1-of~e.18 (f / frequent-02~e.19) \n",
    "            :location~e.20 (m / media~e.25 \n",
    "                  :mod (v / various~e.21) \n",
    "                  :ARG1-of (m2 / major-02~e.22) \n",
    "                  :location (c / city :wiki \"Hong_Kong\" \n",
    "                        :name (n / name :op1 \"Hong\"~e.23 :op2 \"Kong\"~e.24)))) \n",
    "      :time (d / date-entity :year 2005~e.4 \n",
    "            :season (s2 / summer~e.2)))\n",
    "\n",
    "# ::id bc.cctv_0000.2 ::amr-annotator SDL-AMR-09 ::preferred\n",
    "# ::tok With their unique charm , these well - known cartoon images once again caused Hong Kong to be a focus of worldwide attention .\n",
    "# ::alignments 0-1.3.r 1-1.3.1 1-1.3.1.r 2-1.3.2 3-1.3 5-1.1.1 6-1.1.2.1 8-1.1.2 9-1.1.3 10-1.1 11-1.4.1 12-1.4 13-1 14-1.2.2.2.1 15-1.2.2.2.2 19-1.2 20-1.2.1.r 21-1.2.1.2 22-1.2.1\n",
    "(c3 / cause-01~e.13 \n",
    "      :ARG0 (i / image~e.10 \n",
    "            :mod (t / this~e.5) \n",
    "            :ARG1-of (k / know-02~e.8 \n",
    "                  :degree (w / well~e.6)) \n",
    "            :mod (c4 / cartoon~e.9)) \n",
    "      :ARG1 (f / focus-01~e.19 \n",
    "            :ARG0~e.20 (a2 / attend-02~e.22 \n",
    "                  :ARG1 c \n",
    "                  :mod (w2 / worldwide~e.21)) \n",
    "            :ARG1 (c / city :wiki \"Hong_Kong\" \n",
    "                  :name (n / name :op1 \"Hong\"~e.14 :op2 \"Kong\"~e.15))) \n",
    "      :prep-with~e.0 (c6 / charm-01~e.3 \n",
    "            :ARG0~e.1 i~e.1 \n",
    "            :mod (u / unique~e.2)) \n",
    "      :mod (a / again~e.12 \n",
    "            :mod (o / once~e.11)))\n",
    "\n",
    "# ::id bc.cctv_0000.3 ::amr-annotator SDL-AMR-09 ::preferred\n",
    "# ::tok The world 's fifth Disney park will soon open to the public here .\n",
    "# ::alignments 1-1.1.3 2-1.1.3.r 3-1.1.4 3-1.1.4.1 3-1.1.4.1.r 4-1.1.2.1 5-1.1 7-1.3 8-1 9-1.2.r 11-1.2 12-1.2.1\n",
    "(o2 / open-01~e.8 \n",
    "      :ARG1 (p / park~e.5 :wiki \"Hong_Kong_Disneyland\" \n",
    "            :name (n / name :op1 \"Disney\"~e.4) \n",
    "            :poss~e.2 (w / world~e.1) \n",
    "            :ord (o / ordinal-entity~e.3 :value~e.3 5~e.3)) \n",
    "      :ARG3~e.9 (p2 / public~e.11 \n",
    "            :location (h / here~e.12)) \n",
    "      :time (s / soon~e.7))\n",
    "\n",
    "# ::id bc.cctv_0000.4 ::amr-annotator SDL-AMR-09 ::preferred\n",
    "# ::tok The most important thing about Disney is that it is a global brand .\n",
    "# ::alignments 1-1.1 2-1 5-1.2.2.2.1 6-1.2.r 9-1.2.2.r 9-1.2.r 11-1.2.1 12-1.2\n",
    "(i2 / important~e.2 \n",
    "      :degree (m2 / most~e.1) \n",
    "      :domain~e.6,9 (b / brand~e.12 \n",
    "            :mod (g2 / globe~e.11) \n",
    "            :domain~e.9 (c2 / company :wiki \"The_Walt_Disney_Company\" \n",
    "                  :name (n2 / name :op1 \"Disney\"~e.5))))\n",
    "\n",
    "# ::id bc.cctv_0000.5 ::amr-annotator SDL-AMR-09 ::preferred\n",
    "# ::tok Well , for several years , although it was still under construction and , er , not yet open , it can be said that many people have viewed Hong Kong with new respect .\n",
    "# ::alignments 0-1.3 3-1.1.2 4-1.1.2.1.2 6-1 7-1.2.1.1 9-1.2.1.2 11-1.2.1 12-1.2 14-1.2.2.4 14-1.2.2.4.1 14-1.2.2.4.1.r 14-1.3.1 16-1.2.2.1 16-1.2.2.1.r 17-1.2.2.3 18-1.2.2 20-1.2.2.2 21-1.1 23-1.1.1 24-1.1.1.1.r 25-1.1.1.1.1.1 26-1.1.1.1.1 28-1.1.1.1 29-1.1.1.1.2.2.1 30-1.1.1.1.2.2.2 31-1.1.1.1.3.r 32-1.1.1.1.3.3 33-1.1.1.1.3\n",
    "(h / have-concession-91~e.6 \n",
    "      :ARG1 (p / possible-01~e.21 \n",
    "            :ARG1 (s / say-01~e.23 \n",
    "                  :ARG1~e.24 (v / view-02~e.28 \n",
    "                        :ARG0 (p2 / person~e.26 \n",
    "                              :quant (m / many~e.25)) \n",
    "                        :ARG1 (c / city :wiki \"Hong_Kong\" \n",
    "                              :name (n / name :op1 \"Hong\"~e.29 :op2 \"Kong\"~e.30)) \n",
    "                        :ARG2~e.31 (r / respect-01~e.33 \n",
    "                              :ARG0 p2 \n",
    "                              :ARG1 c \n",
    "                              :ARG1-of (n2 / new-01~e.32)))) \n",
    "            :duration (s3 / several~e.3 \n",
    "                  :op1 (t / temporal-quantity :quant 1 \n",
    "                        :unit (y / year~e.4)))) \n",
    "      :ARG2 (a / and~e.12 \n",
    "            :op1 (c4 / construct-01~e.11 \n",
    "                  :ARG1 (i / it~e.7) \n",
    "                  :mod (s2 / still~e.9)) \n",
    "            :op2 (o / open-09~e.18 :polarity~e.16 -~e.16 \n",
    "                  :ARG1 i~e.20 \n",
    "                  :time (y2 / yet~e.17) \n",
    "                  :mod (e / er~e.14 :mode~e.14 expressive~e.14))) \n",
    "      :mod (w / well~e.0 :mode expressive~e.14))\n",
    "\n",
    "# ::id bc.cctv_0000.6 ::amr-annotator SDL-AMR-09 ::preferred\n",
    "# ::tok Then welcome to the official writing ceremony of Hong Kong Disneyland .\n",
    "# ::alignments 0-1.2 1-1 2-1.1.r 4-1.1.2 5-1.1.1 6-1.1 7-1.1.3.r 8-1.1.3.2.1 9-1.1.3.2.2 10-1.1.3.2.3\n",
    "(w / welcome-01~e.1 \n",
    "      :ARG2~e.2 (c / ceremony~e.6 \n",
    "            :mod (w2 / write-01~e.5) \n",
    "            :mod (o / official~e.4) \n",
    "            :beneficiary~e.7 (a / amusement-park :wiki \"Hong_Kong_Disneyland\" \n",
    "                  :name (n / name :op1 \"Hong\"~e.8 :op2 \"Kong\"~e.9 :op3 \"Disneyland\"~e.10))) \n",
    "      :mod (t / then~e.0))\n",
    "\n",
    "# ::id bc.cctv_0000.7 ::amr-annotator SDL-AMR-09 ::preferred\n",
    "# ::tok The construction of Hong Kong Disneyland began two years ago , in 2003 .\n",
    "# ::alignments 1-1.1 2-1.1.1.r 3-1.1.1.2.1 4-1.1.1.2.2 5-1.1.1.2.3 6-1 7-1.2.2.1 8-1.2.2.2 9-1.2 9-1.2.1 9-1.2.1.r 11-1.3.r 12-1.3.1\n",
    "(b / begin-01~e.6 \n",
    "      :ARG1 (c / construct-01~e.1 \n",
    "            :ARG1~e.2 (a / amusement-park :wiki \"Hong_Kong_Disneyland\" \n",
    "                  :name (n / name :op1 \"Hong\"~e.3 :op2 \"Kong\"~e.4 :op3 \"Disneyland\"~e.5))) \n",
    "      :time (b2 / before~e.9 \n",
    "            :op1~e.9 (n2 / now~e.9) \n",
    "            :quant (t2 / temporal-quantity :quant 2~e.7 \n",
    "                  :unit (y / year~e.8))) \n",
    "      :time~e.11 (d2 / date-entity :year 2003~e.12))\"\"\""
   ]
  },
  {
   "cell_type": "markdown",
   "metadata": {},
   "source": [
    "We know that each pair of sentence, amr start with \"# ::id\", that the second line will contain the sentence, the third line the alignments (which we can ignore) and then on the following lines we have the AMR."
   ]
  },
  {
   "cell_type": "markdown",
   "metadata": {},
   "source": [
    "Split line by line the text"
   ]
  },
  {
   "cell_type": "code",
   "execution_count": 81,
   "metadata": {
    "collapsed": false
   },
   "outputs": [],
   "source": [
    "lines = str.splitlines()"
   ]
  },
  {
   "cell_type": "code",
   "execution_count": 82,
   "metadata": {
    "collapsed": false
   },
   "outputs": [
    {
     "name": "stdout",
     "output_type": "stream",
     "text": [
      "line 0: # AMR-English alignment release (generated on Sun Mar 6, 2016 at 21:21:49)\n",
      "line 1: \n",
      "line 2: # ::id bc.cctv_0000.1 ::amr-annotator SDL-AMR-09 ::preferred\n",
      "line 3: # ::tok In the summer of 2005 , a picture that people have long been looking forward to started emerging with frequency in various major Hong Kong media .\n",
      "line 4: # ::alignments 2-1.3.2 4-1.3.1 7-1.1 9-1.1.1.1 11-1.1.1.2 13-1.1.1 14-1.1.1 16-1 17-1.2 18-1.2.1.r 19-1.2.1 20-1.2.2.r 21-1.2.2.1 22-1.2.2.2 23-1.2.2.3.2.1 24-1.2.2.3.2.2 25-1.2.2\n",
      "line 5: (s / start-01~e.16 \n",
      "line 6:       :ARG0 (p / picture~e.7 \n",
      "line 7:             :ARG1-of (l / look-forward-03~e.13,14 \n",
      "line 8:                   :ARG0 (p2 / person~e.9) \n",
      "line 9:                   :ARG1-of (l2 / long-03~e.11))) \n"
     ]
    }
   ],
   "source": [
    "for (l, i) in zip(lines[:10], range(0, 10)):\n",
    "    print \"line %d: %s\"%(i, l)"
   ]
  },
  {
   "cell_type": "code",
   "execution_count": 83,
   "metadata": {
    "collapsed": true
   },
   "outputs": [],
   "source": [
    "import re\n",
    "token_regex =  re.compile('^(?:# ::tok )(.*)$')"
   ]
  },
  {
   "cell_type": "code",
   "execution_count": 84,
   "metadata": {
    "collapsed": false
   },
   "outputs": [
    {
     "data": {
      "text/plain": [
       "'In the summer of 2005 .'"
      ]
     },
     "execution_count": 84,
     "metadata": {},
     "output_type": "execute_result"
    }
   ],
   "source": [
    "token_regex.match(\"\"\"# ::tok In the summer of 2005 .\"\"\").group(1)"
   ]
  },
  {
   "cell_type": "code",
   "execution_count": 85,
   "metadata": {
    "collapsed": false
   },
   "outputs": [],
   "source": [
    "amr_start_indices = [index for index in range(0, len(lines)) if token_regex.match(lines[index])]"
   ]
  },
  {
   "cell_type": "code",
   "execution_count": 86,
   "metadata": {
    "collapsed": false
   },
   "outputs": [
    {
     "data": {
      "text/plain": [
       "[3, 21, 42, 54, 64, 92, 103]"
      ]
     },
     "execution_count": 86,
     "metadata": {},
     "output_type": "execute_result"
    }
   ],
   "source": [
    "amr_start_indices"
   ]
  },
  {
   "cell_type": "code",
   "execution_count": 97,
   "metadata": {
    "collapsed": false
   },
   "outputs": [],
   "source": [
    "def get_amr(lines, sentence_index):\n",
    "    amr = \"\"\n",
    "    i = sentence_index + 2\n",
    "    while i < len(lines) and len(lines[i]) > 0:\n",
    "        amr += lines[i] + \"\\n\"\n",
    "        i += 1\n",
    "    return amr\n",
    "\n",
    "pairs = map(lambda index: (token_regex.match(lines[index]).group(1), get_amr(lines, index)), amr_start_indices)"
   ]
  },
  {
   "cell_type": "code",
   "execution_count": 98,
   "metadata": {
    "collapsed": false
   },
   "outputs": [
    {
     "name": "stdout",
     "output_type": "stream",
     "text": [
      "In the summer of 2005 , a picture that people have long been looking forward to started emerging with frequency in various major Hong Kong media .\n",
      "\n",
      "\n",
      "(s / start-01~e.16 \n",
      "      :ARG0 (p / picture~e.7 \n",
      "            :ARG1-of (l / look-forward-03~e.13,14 \n",
      "                  :ARG0 (p2 / person~e.9) \n",
      "                  :ARG1-of (l2 / long-03~e.11))) \n",
      "      :ARG1 (e / emerge-01~e.17 \n",
      "            :ARG1-of~e.18 (f / frequent-02~e.19) \n",
      "            :location~e.20 (m / media~e.25 \n",
      "                  :mod (v / various~e.21) \n",
      "                  :ARG1-of (m2 / major-02~e.22) \n",
      "                  :location (c / city :wiki \"Hong_Kong\" \n",
      "                        :name (n / name :op1 \"Hong\"~e.23 :op2 \"Kong\"~e.24)))) \n",
      "      :time (d / date-entity :year 2005~e.4 \n",
      "            :season (s2 / summer~e.2)))\n",
      "\n",
      "\n",
      "\n",
      "With their unique charm , these well - known cartoon images once again caused Hong Kong to be a focus of worldwide attention .\n",
      "\n",
      "\n",
      "(c3 / cause-01~e.13 \n",
      "      :ARG0 (i / image~e.10 \n",
      "            :mod (t / this~e.5) \n",
      "            :ARG1-of (k / know-02~e.8 \n",
      "                  :degree (w / well~e.6)) \n",
      "            :mod (c4 / cartoon~e.9)) \n",
      "      :ARG1 (f / focus-01~e.19 \n",
      "            :ARG0~e.20 (a2 / attend-02~e.22 \n",
      "                  :ARG1 c \n",
      "                  :mod (w2 / worldwide~e.21)) \n",
      "            :ARG1 (c / city :wiki \"Hong_Kong\" \n",
      "                  :name (n / name :op1 \"Hong\"~e.14 :op2 \"Kong\"~e.15))) \n",
      "      :prep-with~e.0 (c6 / charm-01~e.3 \n",
      "            :ARG0~e.1 i~e.1 \n",
      "            :mod (u / unique~e.2)) \n",
      "      :mod (a / again~e.12 \n",
      "            :mod (o / once~e.11)))\n",
      "\n",
      "\n",
      "\n",
      "The world 's fifth Disney park will soon open to the public here .\n",
      "\n",
      "\n",
      "(o2 / open-01~e.8 \n",
      "      :ARG1 (p / park~e.5 :wiki \"Hong_Kong_Disneyland\" \n",
      "            :name (n / name :op1 \"Disney\"~e.4) \n",
      "            :poss~e.2 (w / world~e.1) \n",
      "            :ord (o / ordinal-entity~e.3 :value~e.3 5~e.3)) \n",
      "      :ARG3~e.9 (p2 / public~e.11 \n",
      "            :location (h / here~e.12)) \n",
      "      :time (s / soon~e.7))\n",
      "\n",
      "\n",
      "\n",
      "The most important thing about Disney is that it is a global brand .\n",
      "\n",
      "\n",
      "(i2 / important~e.2 \n",
      "      :degree (m2 / most~e.1) \n",
      "      :domain~e.6,9 (b / brand~e.12 \n",
      "            :mod (g2 / globe~e.11) \n",
      "            :domain~e.9 (c2 / company :wiki \"The_Walt_Disney_Company\" \n",
      "                  :name (n2 / name :op1 \"Disney\"~e.5))))\n",
      "\n",
      "\n",
      "\n",
      "Well , for several years , although it was still under construction and , er , not yet open , it can be said that many people have viewed Hong Kong with new respect .\n",
      "\n",
      "\n",
      "(h / have-concession-91~e.6 \n",
      "      :ARG1 (p / possible-01~e.21 \n",
      "            :ARG1 (s / say-01~e.23 \n",
      "                  :ARG1~e.24 (v / view-02~e.28 \n",
      "                        :ARG0 (p2 / person~e.26 \n",
      "                              :quant (m / many~e.25)) \n",
      "                        :ARG1 (c / city :wiki \"Hong_Kong\" \n",
      "                              :name (n / name :op1 \"Hong\"~e.29 :op2 \"Kong\"~e.30)) \n",
      "                        :ARG2~e.31 (r / respect-01~e.33 \n",
      "                              :ARG0 p2 \n",
      "                              :ARG1 c \n",
      "                              :ARG1-of (n2 / new-01~e.32)))) \n",
      "            :duration (s3 / several~e.3 \n",
      "                  :op1 (t / temporal-quantity :quant 1 \n",
      "                        :unit (y / year~e.4)))) \n",
      "      :ARG2 (a / and~e.12 \n",
      "            :op1 (c4 / construct-01~e.11 \n",
      "                  :ARG1 (i / it~e.7) \n",
      "                  :mod (s2 / still~e.9)) \n",
      "            :op2 (o / open-09~e.18 :polarity~e.16 -~e.16 \n",
      "                  :ARG1 i~e.20 \n",
      "                  :time (y2 / yet~e.17) \n",
      "                  :mod (e / er~e.14 :mode~e.14 expressive~e.14))) \n",
      "      :mod (w / well~e.0 :mode expressive~e.14))\n",
      "\n",
      "\n",
      "\n",
      "Then welcome to the official writing ceremony of Hong Kong Disneyland .\n",
      "\n",
      "\n",
      "(w / welcome-01~e.1 \n",
      "      :ARG2~e.2 (c / ceremony~e.6 \n",
      "            :mod (w2 / write-01~e.5) \n",
      "            :mod (o / official~e.4) \n",
      "            :beneficiary~e.7 (a / amusement-park :wiki \"Hong_Kong_Disneyland\" \n",
      "                  :name (n / name :op1 \"Hong\"~e.8 :op2 \"Kong\"~e.9 :op3 \"Disneyland\"~e.10))) \n",
      "      :mod (t / then~e.0))\n",
      "\n",
      "\n",
      "\n",
      "The construction of Hong Kong Disneyland began two years ago , in 2003 .\n",
      "\n",
      "\n",
      "(b / begin-01~e.6 \n",
      "      :ARG1 (c / construct-01~e.1 \n",
      "            :ARG1~e.2 (a / amusement-park :wiki \"Hong_Kong_Disneyland\" \n",
      "                  :name (n / name :op1 \"Hong\"~e.3 :op2 \"Kong\"~e.4 :op3 \"Disneyland\"~e.5))) \n",
      "      :time (b2 / before~e.9 \n",
      "            :op1~e.9 (n2 / now~e.9) \n",
      "            :quant (t2 / temporal-quantity :quant 2~e.7 \n",
      "                  :unit (y / year~e.8))) \n",
      "      :time~e.11 (d2 / date-entity :year 2003~e.12))\n",
      "\n",
      "\n",
      "\n"
     ]
    }
   ],
   "source": [
    "for (sent, amr) in pairs:\n",
    "    print sent\n",
    "    print \"\\n\"\n",
    "    print amr\n",
    "    print \"\\n\""
   ]
  },
  {
   "cell_type": "markdown",
   "metadata": {},
   "source": [
    "Check if the obtained amr string is valid"
   ]
  },
  {
   "cell_type": "code",
   "execution_count": 100,
   "metadata": {
    "collapsed": false
   },
   "outputs": [],
   "source": [
    "from AMRGraph import AMR\n",
    "\n",
    "amr = AMR.parse_string(pairs[3][1])"
   ]
  },
  {
   "cell_type": "code",
   "execution_count": 101,
   "metadata": {
    "collapsed": false
   },
   "outputs": [
    {
     "data": {
      "text/plain": [
       "AMR(util.ListMap,\n",
       "    {u'Disney': ListMap(list, {}),\n",
       "     u'The_Walt_Disney_Company': ListMap(list, {}),\n",
       "     'b': ListMap(list, {'domain': [('c2',)], 'mod': [('g2',)]}),\n",
       "     'c2': ListMap(list,\n",
       "             {'name': [('n2',)], 'wiki': [(u'The_Walt_Disney_Company',)]}),\n",
       "     'g2': ListMap(list, {}),\n",
       "     'i2': ListMap(list, {'degree': [('m2',)], 'domain': [('b',)]}),\n",
       "     'm2': ListMap(list, {}),\n",
       "     'n2': ListMap(list, {'op1': [(u'Disney',)]})})"
      ]
     },
     "execution_count": 101,
     "metadata": {},
     "output_type": "execute_result"
    }
   ],
   "source": [
    "amr"
   ]
  }
 ],
 "metadata": {
  "kernelspec": {
   "display_name": "Python 2",
   "language": "python",
   "name": "python2"
  },
  "language_info": {
   "codemirror_mode": {
    "name": "ipython",
    "version": 2.0
   },
   "file_extension": ".py",
   "mimetype": "text/x-python",
   "name": "python",
   "nbconvert_exporter": "python",
   "pygments_lexer": "ipython2",
   "version": "2.7.13"
  }
 },
 "nbformat": 4,
 "nbformat_minor": 0
}